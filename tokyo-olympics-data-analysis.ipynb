{
 "cells": [
  {
   "cell_type": "markdown",
   "id": "2f27e4cb",
   "metadata": {
    "papermill": {
     "duration": 0.030051,
     "end_time": "2023-07-29T06:46:16.915121",
     "exception": false,
     "start_time": "2023-07-29T06:46:16.885070",
     "status": "completed"
    },
    "tags": []
   },
   "source": [
    "<h1 style=\"background-color:powderblue;\"><h1 style = \"font-size:300%;\"><center><b>Olympics Data Analysis</b></center></h1></h1>"
   ]
  },
  {
   "cell_type": "markdown",
   "id": "7a5929be",
   "metadata": {
    "papermill": {
     "duration": 0.028121,
     "end_time": "2023-07-29T06:46:16.971678",
     "exception": false,
     "start_time": "2023-07-29T06:46:16.943557",
     "status": "completed"
    },
    "tags": []
   },
   "source": [
    "![](https://media-cldnry.s-nbcnews.com/image/upload/rockcms/2022-02/paris-olympics-kb-2x1-220214-c2809e.jpg)"
   ]
  },
  {
   "cell_type": "markdown",
   "id": "5d9d26c7",
   "metadata": {
    "papermill": {
     "duration": 0.027971,
     "end_time": "2023-07-29T06:46:17.027788",
     "exception": false,
     "start_time": "2023-07-29T06:46:16.999817",
     "status": "completed"
    },
    "tags": []
   },
   "source": [
    "The Olympics is a major international sporting event that takes place every four years, bringing together athletes from around the world to compete in various sports. The modern Olympic Games were inspired by the ancient Olympic Games held in ancient Greece from the 8th century BCE to the 4th century CE.\n",
    "\n",
    "The modern Olympics were first held in Athens, Greece, in 1896, and have since become the most prestigious and widely watched sporting event globally. The Games consist of two main editions: the Summer Olympics and the Winter Olympics, each held every four years but staggered, so there is an Olympic Games event every two years.\n",
    "\n",
    "Key aspects of the Olympics include:\n",
    "\n",
    "Participation: Athletes from different countries compete in the Games, fostering camaraderie, friendship, and understanding among nations.\n",
    "\n",
    "Sports: A wide range of sports are featured in the Olympics, including athletics, swimming, gymnastics, soccer, basketball, skiing, ice hockey, and many others.\n",
    "\n",
    "Host Cities: The Games are hosted by different cities around the world, selected through a competitive bidding process overseen by the International Olympic Committee (IOC).\n",
    "\n",
    "Olympic Symbols: The Olympic Rings (five interlocking rings representing the continents) and the Olympic Flame (symbolizing the continuity between ancient and modern Games) are iconic symbols of the Olympics.\n",
    "\n",
    "Olympic Values: The Games are guided by core principles, including excellence, friendship, respect, and fair play.\n",
    "\n",
    "Ceremonies: The opening and closing ceremonies are grand spectacles that showcase the host country's culture and history.\n",
    "\n",
    "Legacy: Hosting the Olympics often leaves a lasting legacy of improved infrastructure, sports facilities, and urban development in the host city.\n",
    "\n",
    "The Olympics have faced challenges and controversies throughout their history, such as boycotts, doping scandals, and financial concerns. Nevertheless, they continue to captivate the world and inspire athletes to achieve their best on the global stage. The Olympics remain a celebration of human athleticism, international cooperation, and the pursuit of sporting excellence.\n",
    "\n",
    "In the year 2020, Olympics had to happen in the Tokyo city of Japan but due to Covid-19 pandemic they got postponed to the year 2021. Here is an exploratory data analysis for the same olympics games held in the city of Tokyo in 2021.\n",
    "\n",
    "### Let's get started !"
   ]
  },
  {
   "cell_type": "markdown",
   "id": "4ed25a01",
   "metadata": {
    "papermill": {
     "duration": 0.027761,
     "end_time": "2023-07-29T06:46:17.083800",
     "exception": false,
     "start_time": "2023-07-29T06:46:17.056039",
     "status": "completed"
    },
    "tags": []
   },
   "source": [
    "<h1 style=\"background-color:powderblue;\"><b><center>Exploratory Data Analysis</center></b></h1>"
   ]
  },
  {
   "cell_type": "code",
   "execution_count": 1,
   "id": "023e0087",
   "metadata": {
    "execution": {
     "iopub.execute_input": "2023-07-29T06:46:17.150295Z",
     "iopub.status.busy": "2023-07-29T06:46:17.149196Z",
     "iopub.status.idle": "2023-07-29T06:46:19.693216Z",
     "shell.execute_reply": "2023-07-29T06:46:19.693835Z",
     "shell.execute_reply.started": "2023-07-29T06:42:28.793913Z"
    },
    "papermill": {
     "duration": 2.581944,
     "end_time": "2023-07-29T06:46:19.694206",
     "exception": false,
     "start_time": "2023-07-29T06:46:17.112262",
     "status": "completed"
    },
    "tags": []
   },
   "outputs": [],
   "source": [
    "# importing important libraries\n",
    "import pandas as pd\n",
    "import numpy as np # data pre-processing\n",
    "\n",
    "import seaborn as sns\n",
    "import matplotlib.pyplot as plt\n",
    "import plotly.express as px # data visualization\n",
    "\n",
    "import warnings\n",
    "warnings.filterwarnings(\"ignore\") # additional"
   ]
  },
  {
   "cell_type": "code",
   "execution_count": 2,
   "id": "13679a6d",
   "metadata": {
    "execution": {
     "iopub.execute_input": "2023-07-29T06:46:19.757460Z",
     "iopub.status.busy": "2023-07-29T06:46:19.756439Z",
     "iopub.status.idle": "2023-07-29T06:46:30.345491Z",
     "shell.execute_reply": "2023-07-29T06:46:30.344501Z",
     "shell.execute_reply.started": "2023-07-29T06:42:28.800774Z"
    },
    "papermill": {
     "duration": 10.621326,
     "end_time": "2023-07-29T06:46:30.345727",
     "exception": false,
     "start_time": "2023-07-29T06:46:19.724401",
     "status": "completed"
    },
    "tags": []
   },
   "outputs": [
    {
     "name": "stdout",
     "output_type": "stream",
     "text": [
      "Collecting openpyxl\n",
      "  Downloading openpyxl-3.1.2-py2.py3-none-any.whl (249 kB)\n",
      "Collecting et-xmlfile\n",
      "  Downloading et_xmlfile-1.1.0-py3-none-any.whl (4.7 kB)\n",
      "Installing collected packages: et-xmlfile, openpyxl\n",
      "Successfully installed et-xmlfile-1.1.0 openpyxl-3.1.2\n"
     ]
    },
    {
     "name": "stderr",
     "output_type": "stream",
     "text": [
      "WARNING: Running pip as the 'root' user can result in broken permissions and conflicting behaviour with the system package manager. It is recommended to use a virtual environment instead: https://pip.pypa.io/warnings/venv\n"
     ]
    }
   ],
   "source": [
    "%%bash\n",
    "pip install openpyxl"
   ]
  },
  {
   "cell_type": "code",
   "execution_count": 3,
   "id": "205097c3",
   "metadata": {
    "execution": {
     "iopub.execute_input": "2023-07-29T06:46:30.418576Z",
     "iopub.status.busy": "2023-07-29T06:46:30.413749Z",
     "iopub.status.idle": "2023-07-29T06:46:32.398675Z",
     "shell.execute_reply": "2023-07-29T06:46:32.397943Z",
     "shell.execute_reply.started": "2023-07-29T06:42:34.821303Z"
    },
    "papermill": {
     "duration": 2.019618,
     "end_time": "2023-07-29T06:46:32.398886",
     "exception": false,
     "start_time": "2023-07-29T06:46:30.379268",
     "status": "completed"
    },
    "tags": []
   },
   "outputs": [],
   "source": [
    "#loading the data\n",
    "df_athletes = pd.read_excel(\"../input/2021-olympics-in-tokyo/Athletes.xlsx\")\n",
    "df_coaches = pd.read_excel(\"../input/2021-olympics-in-tokyo/Coaches.xlsx\")\n",
    "df_entries_gender = pd.read_excel(\"../input/2021-olympics-in-tokyo/EntriesGender.xlsx\")\n",
    "df_medals = pd.read_excel(\"../input/2021-olympics-in-tokyo/Medals.xlsx\")\n",
    "df_teams = pd.read_excel(\"../input/2021-olympics-in-tokyo/Teams.xlsx\")"
   ]
  },
  {
   "cell_type": "markdown",
   "id": "6a8133e4",
   "metadata": {
    "papermill": {
     "duration": 0.028535,
     "end_time": "2023-07-29T06:46:32.457192",
     "exception": false,
     "start_time": "2023-07-29T06:46:32.428657",
     "status": "completed"
    },
    "tags": []
   },
   "source": [
    "<h1 style=\"background-color:powderblue;\"><center><b>Knowing and pre-processing of Data</b></center></h1>"
   ]
  },
  {
   "cell_type": "code",
   "execution_count": 4,
   "id": "d27defaf",
   "metadata": {
    "execution": {
     "iopub.execute_input": "2023-07-29T06:46:32.525039Z",
     "iopub.status.busy": "2023-07-29T06:46:32.524259Z",
     "iopub.status.idle": "2023-07-29T06:46:32.579299Z",
     "shell.execute_reply": "2023-07-29T06:46:32.579984Z",
     "shell.execute_reply.started": "2023-07-29T06:42:35.858208Z"
    },
    "papermill": {
     "duration": 0.092998,
     "end_time": "2023-07-29T06:46:32.580205",
     "exception": false,
     "start_time": "2023-07-29T06:46:32.487207",
     "status": "completed"
    },
    "tags": []
   },
   "outputs": [
    {
     "name": "stdout",
     "output_type": "stream",
     "text": [
      "                Name     NOC           Discipline\n",
      "0    AALERUD Katrine  Norway         Cycling Road\n",
      "1        ABAD Nestor   Spain  Artistic Gymnastics\n",
      "2  ABAGNALE Giovanni   Italy               Rowing\n",
      "3     ABALDE Alberto   Spain           Basketball\n",
      "4      ABALDE Tamara   Spain           Basketball\n",
      "\n",
      "Number of rows and columns are : (11085, 3)\n",
      "\n",
      "<class 'pandas.core.frame.DataFrame'>\n",
      "RangeIndex: 11085 entries, 0 to 11084\n",
      "Data columns (total 3 columns):\n",
      " #   Column      Non-Null Count  Dtype \n",
      "---  ------      --------------  ----- \n",
      " 0   Name        11085 non-null  object\n",
      " 1   NOC         11085 non-null  object\n",
      " 2   Discipline  11085 non-null  object\n",
      "dtypes: object(3)\n",
      "memory usage: 259.9+ KB\n",
      "None\n",
      "\n",
      "Name          11062\n",
      "NOC             206\n",
      "Discipline       46\n",
      "dtype: int64\n",
      "\n",
      "1\n",
      "\n",
      "Name          0\n",
      "NOC           0\n",
      "Discipline    0\n",
      "dtype: int64\n"
     ]
    }
   ],
   "source": [
    "\n",
    "print(df_athletes.head())  # first 5 rows of our data\n",
    "print()\n",
    "print(\"Number of rows and columns are :\", df_athletes.shape) # number of rows and columns respectively\n",
    "print()\n",
    "print(df_athletes.info())\n",
    "print()\n",
    "print(df_athletes.nunique())\n",
    "print()\n",
    "print(df_athletes.duplicated().sum())\n",
    "print()\n",
    "print(df_athletes.isnull().sum())"
   ]
  },
  {
   "cell_type": "markdown",
   "id": "7cd22ecb",
   "metadata": {
    "papermill": {
     "duration": 0.029729,
     "end_time": "2023-07-29T06:46:32.639587",
     "exception": false,
     "start_time": "2023-07-29T06:46:32.609858",
     "status": "completed"
    },
    "tags": []
   },
   "source": [
    "# Note :\n",
    "* There are **three columns** in the athletes dataset i.e., **Name, NOC, Discipline**.\n",
    "\n",
    "* **Name** has all **unique entries** of **name** of all the **participants** taking part in the olympics.\n",
    "\n",
    "* **NOC** and **Discipline** are having **categorical values** of number of country participants come from and Discipline they are participating in, **has more than one entries** for different participant.\n",
    "\n",
    "* There is **one duplicate row** and **zero null row**.\n"
   ]
  },
  {
   "cell_type": "code",
   "execution_count": 5,
   "id": "f20e7dd6",
   "metadata": {
    "execution": {
     "iopub.execute_input": "2023-07-29T06:46:32.723155Z",
     "iopub.status.busy": "2023-07-29T06:46:32.722397Z",
     "iopub.status.idle": "2023-07-29T06:46:32.727042Z",
     "shell.execute_reply": "2023-07-29T06:46:32.727602Z",
     "shell.execute_reply.started": "2023-07-29T06:42:35.893385Z"
    },
    "papermill": {
     "duration": 0.058147,
     "end_time": "2023-07-29T06:46:32.727814",
     "exception": false,
     "start_time": "2023-07-29T06:46:32.669667",
     "status": "completed"
    },
    "tags": []
   },
   "outputs": [
    {
     "name": "stdout",
     "output_type": "stream",
     "text": [
      "            Discipline  Female  Male  Total\n",
      "0       3x3 Basketball      32    32     64\n",
      "1              Archery      64    64    128\n",
      "2  Artistic Gymnastics      98    98    196\n",
      "3    Artistic Swimming     105     0    105\n",
      "4            Athletics     969  1072   2041\n",
      "\n",
      "Number of rows and columns are : (46, 4)\n",
      "\n",
      "<class 'pandas.core.frame.DataFrame'>\n",
      "RangeIndex: 46 entries, 0 to 45\n",
      "Data columns (total 4 columns):\n",
      " #   Column      Non-Null Count  Dtype \n",
      "---  ------      --------------  ----- \n",
      " 0   Discipline  46 non-null     object\n",
      " 1   Female      46 non-null     int64 \n",
      " 2   Male        46 non-null     int64 \n",
      " 3   Total       46 non-null     int64 \n",
      "dtypes: int64(3), object(1)\n",
      "memory usage: 1.6+ KB\n",
      "None\n",
      "\n",
      "Discipline    46\n",
      "Female        38\n",
      "Male          41\n",
      "Total         41\n",
      "dtype: int64\n",
      "\n",
      "0\n",
      "\n",
      "Discipline    0\n",
      "Female        0\n",
      "Male          0\n",
      "Total         0\n",
      "dtype: int64\n"
     ]
    }
   ],
   "source": [
    "print(df_entries_gender.head())\n",
    "print()\n",
    "print(\"Number of rows and columns are :\", df_entries_gender.shape)\n",
    "print()\n",
    "print(df_entries_gender.info())\n",
    "print()\n",
    "print(df_entries_gender.nunique())\n",
    "print()\n",
    "print(df_entries_gender.duplicated().sum())\n",
    "print()\n",
    "print(df_entries_gender.isnull().sum())"
   ]
  },
  {
   "cell_type": "markdown",
   "id": "d8e46af6",
   "metadata": {
    "papermill": {
     "duration": 0.029143,
     "end_time": "2023-07-29T06:46:32.786648",
     "exception": false,
     "start_time": "2023-07-29T06:46:32.757505",
     "status": "completed"
    },
    "tags": []
   },
   "source": [
    "# Note :\n",
    "* Above data has **four columns** where **one** has **str** entries whereas other **three** has **integral** entries.\n",
    "\n",
    "* Data has **zero duplicate** and **zero null** row.\n",
    "\n",
    "* Data has **46 rows** and **4 columns**.\n",
    "\n",
    "* The command **nunique** gives us the **unique value column** has."
   ]
  },
  {
   "cell_type": "code",
   "execution_count": 6,
   "id": "b355b552",
   "metadata": {
    "execution": {
     "iopub.execute_input": "2023-07-29T06:46:32.869789Z",
     "iopub.status.busy": "2023-07-29T06:46:32.865897Z",
     "iopub.status.idle": "2023-07-29T06:46:32.879126Z",
     "shell.execute_reply": "2023-07-29T06:46:32.878506Z",
     "shell.execute_reply.started": "2023-07-29T06:42:35.914503Z"
    },
    "papermill": {
     "duration": 0.062361,
     "end_time": "2023-07-29T06:46:32.879326",
     "exception": false,
     "start_time": "2023-07-29T06:46:32.816965",
     "status": "completed"
    },
    "tags": []
   },
   "outputs": [
    {
     "name": "stdout",
     "output_type": "stream",
     "text": [
      "   Rank                    Team/NOC  Gold  Silver  Bronze  Total  \\\n",
      "0     1    United States of America    39      41      33    113   \n",
      "1     2  People's Republic of China    38      32      18     88   \n",
      "2     3                       Japan    27      14      17     58   \n",
      "3     4               Great Britain    22      21      22     65   \n",
      "4     5                         ROC    20      28      23     71   \n",
      "\n",
      "   Rank by Total  \n",
      "0              1  \n",
      "1              2  \n",
      "2              5  \n",
      "3              4  \n",
      "4              3  \n",
      "\n",
      "Number of rows and columns are : (93, 7)\n",
      "\n",
      "<class 'pandas.core.frame.DataFrame'>\n",
      "RangeIndex: 93 entries, 0 to 92\n",
      "Data columns (total 7 columns):\n",
      " #   Column         Non-Null Count  Dtype \n",
      "---  ------         --------------  ----- \n",
      " 0   Rank           93 non-null     int64 \n",
      " 1   Team/NOC       93 non-null     object\n",
      " 2   Gold           93 non-null     int64 \n",
      " 3   Silver         93 non-null     int64 \n",
      " 4   Bronze         93 non-null     int64 \n",
      " 5   Total          93 non-null     int64 \n",
      " 6   Rank by Total  93 non-null     int64 \n",
      "dtypes: int64(6), object(1)\n",
      "memory usage: 5.2+ KB\n",
      "None\n",
      "\n",
      "Rank             67\n",
      "Team/NOC         93\n",
      "Gold             14\n",
      "Silver           17\n",
      "Bronze           21\n",
      "Total            30\n",
      "Rank by Total    30\n",
      "dtype: int64\n",
      "\n",
      "0\n",
      "\n",
      "Rank             0\n",
      "Team/NOC         0\n",
      "Gold             0\n",
      "Silver           0\n",
      "Bronze           0\n",
      "Total            0\n",
      "Rank by Total    0\n",
      "dtype: int64\n"
     ]
    }
   ],
   "source": [
    "print(df_medals.head())\n",
    "print()\n",
    "print(\"Number of rows and columns are :\", df_medals.shape)\n",
    "print()\n",
    "print(df_medals.info())\n",
    "print()\n",
    "print(df_medals.nunique())\n",
    "print()\n",
    "print(df_medals.duplicated().sum())\n",
    "print()\n",
    "print(df_medals.isnull().sum())"
   ]
  },
  {
   "cell_type": "markdown",
   "id": "141d40c6",
   "metadata": {
    "papermill": {
     "duration": 0.030968,
     "end_time": "2023-07-29T06:46:32.940646",
     "exception": false,
     "start_time": "2023-07-29T06:46:32.909678",
     "status": "completed"
    },
    "tags": []
   },
   "source": [
    "# Note :\n",
    "* Above data **gives** the **rank-wise medal record** of each country.\n",
    "\n",
    "* Note that **USA is on the top followed by China and Japan**.\n",
    "\n",
    "* Data has **zero duplicate** and **zero null row** entry.\n",
    "\n",
    "* Data has **93 rows** and **7 columns**.\n",
    "\n"
   ]
  },
  {
   "cell_type": "code",
   "execution_count": 7,
   "id": "3016c5fb",
   "metadata": {
    "execution": {
     "iopub.execute_input": "2023-07-29T06:46:33.026448Z",
     "iopub.status.busy": "2023-07-29T06:46:33.023191Z",
     "iopub.status.idle": "2023-07-29T06:46:33.032360Z",
     "shell.execute_reply": "2023-07-29T06:46:33.031723Z",
     "shell.execute_reply.started": "2023-07-29T06:42:35.937317Z"
    },
    "papermill": {
     "duration": 0.061014,
     "end_time": "2023-07-29T06:46:33.032570",
     "exception": false,
     "start_time": "2023-07-29T06:46:32.971556",
     "status": "completed"
    },
    "tags": []
   },
   "outputs": [
    {
     "name": "stdout",
     "output_type": "stream",
     "text": [
      "              Name            NOC  Discipline Event\n",
      "0  ABDELMAGID Wael          Egypt    Football   NaN\n",
      "1        ABE Junya          Japan  Volleyball   NaN\n",
      "2    ABE Katsuhiko          Japan  Basketball   NaN\n",
      "3     ADAMA Cherif  Côte d'Ivoire    Football   NaN\n",
      "4       AGEBA Yuya          Japan  Volleyball   NaN\n",
      "\n",
      "Number of rows and columns are : (394, 4)\n",
      "\n",
      "<class 'pandas.core.frame.DataFrame'>\n",
      "RangeIndex: 394 entries, 0 to 393\n",
      "Data columns (total 4 columns):\n",
      " #   Column      Non-Null Count  Dtype \n",
      "---  ------      --------------  ----- \n",
      " 0   Name        394 non-null    object\n",
      " 1   NOC         394 non-null    object\n",
      " 2   Discipline  394 non-null    object\n",
      " 3   Event       249 non-null    object\n",
      "dtypes: object(4)\n",
      "memory usage: 12.4+ KB\n",
      "None\n",
      "\n",
      "Name          381\n",
      "NOC            61\n",
      "Discipline      9\n",
      "Event           6\n",
      "dtype: int64\n",
      "\n",
      "1\n",
      "\n",
      "Name            0\n",
      "NOC             0\n",
      "Discipline      0\n",
      "Event         145\n",
      "dtype: int64\n"
     ]
    }
   ],
   "source": [
    "print(df_coaches.head())\n",
    "print()\n",
    "print(\"Number of rows and columns are :\", df_coaches.shape)\n",
    "print()\n",
    "print(df_coaches.info())\n",
    "print()\n",
    "print(df_coaches.nunique())\n",
    "print()\n",
    "print(df_coaches.duplicated().sum())\n",
    "print()\n",
    "print(df_coaches.isnull().sum())"
   ]
  },
  {
   "cell_type": "markdown",
   "id": "09865e8e",
   "metadata": {
    "papermill": {
     "duration": 0.032646,
     "end_time": "2023-07-29T06:46:33.096699",
     "exception": false,
     "start_time": "2023-07-29T06:46:33.064053",
     "status": "completed"
    },
    "tags": []
   },
   "source": [
    "# Note :\n",
    "* Above data has **394 rows** and **4 columns**.\n",
    "\n",
    "* It has record of **coaches** from **different countries and discipline**.\n",
    "\n",
    "* Data has **one duplicate** row and **zero null** row.\n",
    "\n",
    "* **All** the **columns** have **str** entries."
   ]
  },
  {
   "cell_type": "code",
   "execution_count": 8,
   "id": "1672a0f6",
   "metadata": {
    "_kg_hide-input": true,
    "_kg_hide-output": true,
    "execution": {
     "iopub.execute_input": "2023-07-29T06:46:33.178759Z",
     "iopub.status.busy": "2023-07-29T06:46:33.177984Z",
     "iopub.status.idle": "2023-07-29T06:46:33.189910Z",
     "shell.execute_reply": "2023-07-29T06:46:33.189102Z",
     "shell.execute_reply.started": "2023-07-29T06:42:35.964232Z"
    },
    "papermill": {
     "duration": 0.062145,
     "end_time": "2023-07-29T06:46:33.190089",
     "exception": false,
     "start_time": "2023-07-29T06:46:33.127944",
     "status": "completed"
    },
    "tags": []
   },
   "outputs": [
    {
     "name": "stdout",
     "output_type": "stream",
     "text": [
      "      Name      Discipline                         NOC  Event\n",
      "0  Belgium  3x3 Basketball                     Belgium    Men\n",
      "1    China  3x3 Basketball  People's Republic of China    Men\n",
      "2    China  3x3 Basketball  People's Republic of China  Women\n",
      "3   France  3x3 Basketball                      France  Women\n",
      "4    Italy  3x3 Basketball                       Italy  Women\n",
      "\n",
      "Number of rows and columns are : (743, 4)\n",
      "\n",
      "<class 'pandas.core.frame.DataFrame'>\n",
      "RangeIndex: 743 entries, 0 to 742\n",
      "Data columns (total 4 columns):\n",
      " #   Column      Non-Null Count  Dtype \n",
      "---  ------      --------------  ----- \n",
      " 0   Name        743 non-null    object\n",
      " 1   Discipline  743 non-null    object\n",
      " 2   NOC         743 non-null    object\n",
      " 3   Event       743 non-null    object\n",
      "dtypes: object(4)\n",
      "memory usage: 23.3+ KB\n",
      "None\n",
      "\n",
      "Name          146\n",
      "Discipline     20\n",
      "NOC            84\n",
      "Event          36\n",
      "dtype: int64\n",
      "\n",
      "0\n",
      "\n",
      "Name          0\n",
      "Discipline    0\n",
      "NOC           0\n",
      "Event         0\n",
      "dtype: int64\n"
     ]
    }
   ],
   "source": [
    "print(df_teams.head())\n",
    "print()\n",
    "print(\"Number of rows and columns are :\", df_teams.shape)\n",
    "print()\n",
    "print(df_teams.info())\n",
    "print()\n",
    "print(df_teams.nunique())\n",
    "print()\n",
    "print(df_teams.duplicated().sum())\n",
    "print()\n",
    "print(df_teams.isnull().sum())"
   ]
  },
  {
   "cell_type": "markdown",
   "id": "378e79ab",
   "metadata": {
    "papermill": {
     "duration": 0.031519,
     "end_time": "2023-07-29T06:46:33.253994",
     "exception": false,
     "start_time": "2023-07-29T06:46:33.222475",
     "status": "completed"
    },
    "tags": []
   },
   "source": [
    "<h1 style=\"background-color:powderblue;\"><center><b>Data Visualization</b></center></h1>"
   ]
  },
  {
   "cell_type": "code",
   "execution_count": 9,
   "id": "b3924698",
   "metadata": {
    "execution": {
     "iopub.execute_input": "2023-07-29T06:46:33.326265Z",
     "iopub.status.busy": "2023-07-29T06:46:33.325227Z",
     "iopub.status.idle": "2023-07-29T06:46:33.328716Z",
     "shell.execute_reply": "2023-07-29T06:46:33.327966Z",
     "shell.execute_reply.started": "2023-07-29T06:42:35.992986Z"
    },
    "papermill": {
     "duration": 0.043319,
     "end_time": "2023-07-29T06:46:33.328888",
     "exception": false,
     "start_time": "2023-07-29T06:46:33.285569",
     "status": "completed"
    },
    "tags": []
   },
   "outputs": [],
   "source": [
    "x = df_athletes.NOC.value_counts()"
   ]
  },
  {
   "cell_type": "code",
   "execution_count": 10,
   "id": "2f2d35c3",
   "metadata": {
    "execution": {
     "iopub.execute_input": "2023-07-29T06:46:33.397795Z",
     "iopub.status.busy": "2023-07-29T06:46:33.397053Z",
     "iopub.status.idle": "2023-07-29T06:46:34.458330Z",
     "shell.execute_reply": "2023-07-29T06:46:34.457691Z",
     "shell.execute_reply.started": "2023-07-29T06:42:36.000396Z"
    },
    "papermill": {
     "duration": 1.098139,
     "end_time": "2023-07-29T06:46:34.458532",
     "exception": false,
     "start_time": "2023-07-29T06:46:33.360393",
     "status": "completed"
    },
    "tags": []
   },
   "outputs": [
    {
     "data": {
      "text/html": [
       "        <script type=\"text/javascript\">\n",
       "        window.PlotlyConfig = {MathJaxConfig: 'local'};\n",
       "        if (window.MathJax) {MathJax.Hub.Config({SVG: {font: \"STIX-Web\"}});}\n",
       "        if (typeof require !== 'undefined') {\n",
       "        require.undef(\"plotly\");\n",
       "        requirejs.config({\n",
       "            paths: {\n",
       "                'plotly': ['https://cdn.plot.ly/plotly-2.4.2.min']\n",
       "            }\n",
       "        });\n",
       "        require(['plotly'], function(Plotly) {\n",
       "            window._Plotly = Plotly;\n",
       "        });\n",
       "        }\n",
       "        </script>\n",
       "        "
      ]
     },
     "metadata": {},
     "output_type": "display_data"
    },
    {
     "data": {
      "text/html": [
       "<div>                            <div id=\"4c57b308-04bc-4d1a-a160-573bac6e7334\" class=\"plotly-graph-div\" style=\"height:525px; width:100%;\"></div>            <script type=\"text/javascript\">                require([\"plotly\"], function(Plotly) {                    window.PLOTLYENV=window.PLOTLYENV || {};                                    if (document.getElementById(\"4c57b308-04bc-4d1a-a160-573bac6e7334\")) {                    Plotly.newPlot(                        \"4c57b308-04bc-4d1a-a160-573bac6e7334\",                        [{\"alignmentgroup\":\"True\",\"hovertemplate\":\"variable=NOC<br>index=%{x}<br>value=%{y}<extra></extra>\",\"legendgroup\":\"NOC\",\"marker\":{\"color\":\"#636efa\",\"pattern\":{\"shape\":\"\"}},\"name\":\"NOC\",\"offsetgroup\":\"NOC\",\"orientation\":\"v\",\"showlegend\":true,\"textposition\":\"auto\",\"type\":\"bar\",\"x\":[\"United States of America\",\"Japan\",\"Australia\",\"People's Republic of China\",\"Germany\",\"France\",\"Canada\",\"Great Britain\",\"Italy\",\"Spain\",\"ROC\",\"Brazil\",\"Netherlands\",\"Republic of Korea\",\"New Zealand\",\"Poland\",\"Argentina\",\"South Africa\",\"Mexico\",\"Hungary\"],\"xaxis\":\"x\",\"y\":[615,586,470,401,400,377,368,366,356,324,318,291,274,223,202,195,180,171,155,155],\"yaxis\":\"y\"}],                        {\"barmode\":\"relative\",\"legend\":{\"title\":{\"text\":\"variable\"},\"tracegroupgap\":0},\"template\":{\"data\":{\"bar\":[{\"error_x\":{\"color\":\"#2a3f5f\"},\"error_y\":{\"color\":\"#2a3f5f\"},\"marker\":{\"line\":{\"color\":\"#E5ECF6\",\"width\":0.5},\"pattern\":{\"fillmode\":\"overlay\",\"size\":10,\"solidity\":0.2}},\"type\":\"bar\"}],\"barpolar\":[{\"marker\":{\"line\":{\"color\":\"#E5ECF6\",\"width\":0.5},\"pattern\":{\"fillmode\":\"overlay\",\"size\":10,\"solidity\":0.2}},\"type\":\"barpolar\"}],\"carpet\":[{\"aaxis\":{\"endlinecolor\":\"#2a3f5f\",\"gridcolor\":\"white\",\"linecolor\":\"white\",\"minorgridcolor\":\"white\",\"startlinecolor\":\"#2a3f5f\"},\"baxis\":{\"endlinecolor\":\"#2a3f5f\",\"gridcolor\":\"white\",\"linecolor\":\"white\",\"minorgridcolor\":\"white\",\"startlinecolor\":\"#2a3f5f\"},\"type\":\"carpet\"}],\"choropleth\":[{\"colorbar\":{\"outlinewidth\":0,\"ticks\":\"\"},\"type\":\"choropleth\"}],\"contour\":[{\"colorbar\":{\"outlinewidth\":0,\"ticks\":\"\"},\"colorscale\":[[0.0,\"#0d0887\"],[0.1111111111111111,\"#46039f\"],[0.2222222222222222,\"#7201a8\"],[0.3333333333333333,\"#9c179e\"],[0.4444444444444444,\"#bd3786\"],[0.5555555555555556,\"#d8576b\"],[0.6666666666666666,\"#ed7953\"],[0.7777777777777778,\"#fb9f3a\"],[0.8888888888888888,\"#fdca26\"],[1.0,\"#f0f921\"]],\"type\":\"contour\"}],\"contourcarpet\":[{\"colorbar\":{\"outlinewidth\":0,\"ticks\":\"\"},\"type\":\"contourcarpet\"}],\"heatmap\":[{\"colorbar\":{\"outlinewidth\":0,\"ticks\":\"\"},\"colorscale\":[[0.0,\"#0d0887\"],[0.1111111111111111,\"#46039f\"],[0.2222222222222222,\"#7201a8\"],[0.3333333333333333,\"#9c179e\"],[0.4444444444444444,\"#bd3786\"],[0.5555555555555556,\"#d8576b\"],[0.6666666666666666,\"#ed7953\"],[0.7777777777777778,\"#fb9f3a\"],[0.8888888888888888,\"#fdca26\"],[1.0,\"#f0f921\"]],\"type\":\"heatmap\"}],\"heatmapgl\":[{\"colorbar\":{\"outlinewidth\":0,\"ticks\":\"\"},\"colorscale\":[[0.0,\"#0d0887\"],[0.1111111111111111,\"#46039f\"],[0.2222222222222222,\"#7201a8\"],[0.3333333333333333,\"#9c179e\"],[0.4444444444444444,\"#bd3786\"],[0.5555555555555556,\"#d8576b\"],[0.6666666666666666,\"#ed7953\"],[0.7777777777777778,\"#fb9f3a\"],[0.8888888888888888,\"#fdca26\"],[1.0,\"#f0f921\"]],\"type\":\"heatmapgl\"}],\"histogram\":[{\"marker\":{\"pattern\":{\"fillmode\":\"overlay\",\"size\":10,\"solidity\":0.2}},\"type\":\"histogram\"}],\"histogram2d\":[{\"colorbar\":{\"outlinewidth\":0,\"ticks\":\"\"},\"colorscale\":[[0.0,\"#0d0887\"],[0.1111111111111111,\"#46039f\"],[0.2222222222222222,\"#7201a8\"],[0.3333333333333333,\"#9c179e\"],[0.4444444444444444,\"#bd3786\"],[0.5555555555555556,\"#d8576b\"],[0.6666666666666666,\"#ed7953\"],[0.7777777777777778,\"#fb9f3a\"],[0.8888888888888888,\"#fdca26\"],[1.0,\"#f0f921\"]],\"type\":\"histogram2d\"}],\"histogram2dcontour\":[{\"colorbar\":{\"outlinewidth\":0,\"ticks\":\"\"},\"colorscale\":[[0.0,\"#0d0887\"],[0.1111111111111111,\"#46039f\"],[0.2222222222222222,\"#7201a8\"],[0.3333333333333333,\"#9c179e\"],[0.4444444444444444,\"#bd3786\"],[0.5555555555555556,\"#d8576b\"],[0.6666666666666666,\"#ed7953\"],[0.7777777777777778,\"#fb9f3a\"],[0.8888888888888888,\"#fdca26\"],[1.0,\"#f0f921\"]],\"type\":\"histogram2dcontour\"}],\"mesh3d\":[{\"colorbar\":{\"outlinewidth\":0,\"ticks\":\"\"},\"type\":\"mesh3d\"}],\"parcoords\":[{\"line\":{\"colorbar\":{\"outlinewidth\":0,\"ticks\":\"\"}},\"type\":\"parcoords\"}],\"pie\":[{\"automargin\":true,\"type\":\"pie\"}],\"scatter\":[{\"marker\":{\"colorbar\":{\"outlinewidth\":0,\"ticks\":\"\"}},\"type\":\"scatter\"}],\"scatter3d\":[{\"line\":{\"colorbar\":{\"outlinewidth\":0,\"ticks\":\"\"}},\"marker\":{\"colorbar\":{\"outlinewidth\":0,\"ticks\":\"\"}},\"type\":\"scatter3d\"}],\"scattercarpet\":[{\"marker\":{\"colorbar\":{\"outlinewidth\":0,\"ticks\":\"\"}},\"type\":\"scattercarpet\"}],\"scattergeo\":[{\"marker\":{\"colorbar\":{\"outlinewidth\":0,\"ticks\":\"\"}},\"type\":\"scattergeo\"}],\"scattergl\":[{\"marker\":{\"colorbar\":{\"outlinewidth\":0,\"ticks\":\"\"}},\"type\":\"scattergl\"}],\"scattermapbox\":[{\"marker\":{\"colorbar\":{\"outlinewidth\":0,\"ticks\":\"\"}},\"type\":\"scattermapbox\"}],\"scatterpolar\":[{\"marker\":{\"colorbar\":{\"outlinewidth\":0,\"ticks\":\"\"}},\"type\":\"scatterpolar\"}],\"scatterpolargl\":[{\"marker\":{\"colorbar\":{\"outlinewidth\":0,\"ticks\":\"\"}},\"type\":\"scatterpolargl\"}],\"scatterternary\":[{\"marker\":{\"colorbar\":{\"outlinewidth\":0,\"ticks\":\"\"}},\"type\":\"scatterternary\"}],\"surface\":[{\"colorbar\":{\"outlinewidth\":0,\"ticks\":\"\"},\"colorscale\":[[0.0,\"#0d0887\"],[0.1111111111111111,\"#46039f\"],[0.2222222222222222,\"#7201a8\"],[0.3333333333333333,\"#9c179e\"],[0.4444444444444444,\"#bd3786\"],[0.5555555555555556,\"#d8576b\"],[0.6666666666666666,\"#ed7953\"],[0.7777777777777778,\"#fb9f3a\"],[0.8888888888888888,\"#fdca26\"],[1.0,\"#f0f921\"]],\"type\":\"surface\"}],\"table\":[{\"cells\":{\"fill\":{\"color\":\"#EBF0F8\"},\"line\":{\"color\":\"white\"}},\"header\":{\"fill\":{\"color\":\"#C8D4E3\"},\"line\":{\"color\":\"white\"}},\"type\":\"table\"}]},\"layout\":{\"annotationdefaults\":{\"arrowcolor\":\"#2a3f5f\",\"arrowhead\":0,\"arrowwidth\":1},\"autotypenumbers\":\"strict\",\"coloraxis\":{\"colorbar\":{\"outlinewidth\":0,\"ticks\":\"\"}},\"colorscale\":{\"diverging\":[[0,\"#8e0152\"],[0.1,\"#c51b7d\"],[0.2,\"#de77ae\"],[0.3,\"#f1b6da\"],[0.4,\"#fde0ef\"],[0.5,\"#f7f7f7\"],[0.6,\"#e6f5d0\"],[0.7,\"#b8e186\"],[0.8,\"#7fbc41\"],[0.9,\"#4d9221\"],[1,\"#276419\"]],\"sequential\":[[0.0,\"#0d0887\"],[0.1111111111111111,\"#46039f\"],[0.2222222222222222,\"#7201a8\"],[0.3333333333333333,\"#9c179e\"],[0.4444444444444444,\"#bd3786\"],[0.5555555555555556,\"#d8576b\"],[0.6666666666666666,\"#ed7953\"],[0.7777777777777778,\"#fb9f3a\"],[0.8888888888888888,\"#fdca26\"],[1.0,\"#f0f921\"]],\"sequentialminus\":[[0.0,\"#0d0887\"],[0.1111111111111111,\"#46039f\"],[0.2222222222222222,\"#7201a8\"],[0.3333333333333333,\"#9c179e\"],[0.4444444444444444,\"#bd3786\"],[0.5555555555555556,\"#d8576b\"],[0.6666666666666666,\"#ed7953\"],[0.7777777777777778,\"#fb9f3a\"],[0.8888888888888888,\"#fdca26\"],[1.0,\"#f0f921\"]]},\"colorway\":[\"#636efa\",\"#EF553B\",\"#00cc96\",\"#ab63fa\",\"#FFA15A\",\"#19d3f3\",\"#FF6692\",\"#B6E880\",\"#FF97FF\",\"#FECB52\"],\"font\":{\"color\":\"#2a3f5f\"},\"geo\":{\"bgcolor\":\"white\",\"lakecolor\":\"white\",\"landcolor\":\"#E5ECF6\",\"showlakes\":true,\"showland\":true,\"subunitcolor\":\"white\"},\"hoverlabel\":{\"align\":\"left\"},\"hovermode\":\"closest\",\"mapbox\":{\"style\":\"light\"},\"paper_bgcolor\":\"white\",\"plot_bgcolor\":\"#E5ECF6\",\"polar\":{\"angularaxis\":{\"gridcolor\":\"white\",\"linecolor\":\"white\",\"ticks\":\"\"},\"bgcolor\":\"#E5ECF6\",\"radialaxis\":{\"gridcolor\":\"white\",\"linecolor\":\"white\",\"ticks\":\"\"}},\"scene\":{\"xaxis\":{\"backgroundcolor\":\"#E5ECF6\",\"gridcolor\":\"white\",\"gridwidth\":2,\"linecolor\":\"white\",\"showbackground\":true,\"ticks\":\"\",\"zerolinecolor\":\"white\"},\"yaxis\":{\"backgroundcolor\":\"#E5ECF6\",\"gridcolor\":\"white\",\"gridwidth\":2,\"linecolor\":\"white\",\"showbackground\":true,\"ticks\":\"\",\"zerolinecolor\":\"white\"},\"zaxis\":{\"backgroundcolor\":\"#E5ECF6\",\"gridcolor\":\"white\",\"gridwidth\":2,\"linecolor\":\"white\",\"showbackground\":true,\"ticks\":\"\",\"zerolinecolor\":\"white\"}},\"shapedefaults\":{\"line\":{\"color\":\"#2a3f5f\"}},\"ternary\":{\"aaxis\":{\"gridcolor\":\"white\",\"linecolor\":\"white\",\"ticks\":\"\"},\"baxis\":{\"gridcolor\":\"white\",\"linecolor\":\"white\",\"ticks\":\"\"},\"bgcolor\":\"#E5ECF6\",\"caxis\":{\"gridcolor\":\"white\",\"linecolor\":\"white\",\"ticks\":\"\"}},\"title\":{\"x\":0.05},\"xaxis\":{\"automargin\":true,\"gridcolor\":\"white\",\"linecolor\":\"white\",\"ticks\":\"\",\"title\":{\"standoff\":15},\"zerolinecolor\":\"white\",\"zerolinewidth\":2},\"yaxis\":{\"automargin\":true,\"gridcolor\":\"white\",\"linecolor\":\"white\",\"ticks\":\"\",\"title\":{\"standoff\":15},\"zerolinecolor\":\"white\",\"zerolinewidth\":2}}},\"title\":{\"text\":\"Top 20 countries in terms of number of participants :\"},\"xaxis\":{\"anchor\":\"y\",\"domain\":[0.0,1.0],\"title\":{\"text\":\"index\"}},\"yaxis\":{\"anchor\":\"x\",\"domain\":[0.0,1.0],\"title\":{\"text\":\"value\"}}},                        {\"responsive\": true}                    ).then(function(){\n",
       "                            \n",
       "var gd = document.getElementById('4c57b308-04bc-4d1a-a160-573bac6e7334');\n",
       "var x = new MutationObserver(function (mutations, observer) {{\n",
       "        var display = window.getComputedStyle(gd).display;\n",
       "        if (!display || display === 'none') {{\n",
       "            console.log([gd, 'removed!']);\n",
       "            Plotly.purge(gd);\n",
       "            observer.disconnect();\n",
       "        }}\n",
       "}});\n",
       "\n",
       "// Listen for the removal of the full notebook cells\n",
       "var notebookContainer = gd.closest('#notebook-container');\n",
       "if (notebookContainer) {{\n",
       "    x.observe(notebookContainer, {childList: true});\n",
       "}}\n",
       "\n",
       "// Listen for the clearing of the current output cell\n",
       "var outputEl = gd.closest('.output');\n",
       "if (outputEl) {{\n",
       "    x.observe(outputEl, {childList: true});\n",
       "}}\n",
       "\n",
       "                        })                };                });            </script>        </div>"
      ]
     },
     "metadata": {},
     "output_type": "display_data"
    }
   ],
   "source": [
    "px.bar(x[:20], title=\"Top 20 countries in terms of number of participants :\")"
   ]
  },
  {
   "cell_type": "markdown",
   "id": "6c9f156c",
   "metadata": {
    "papermill": {
     "duration": 0.032603,
     "end_time": "2023-07-29T06:46:34.524289",
     "exception": false,
     "start_time": "2023-07-29T06:46:34.491686",
     "status": "completed"
    },
    "tags": []
   },
   "source": [
    "# Note : \n",
    "\n",
    "* Above plot shows **top count of participants** coming **from different countries**.\n",
    "\n",
    "* **USA send maximum number of participants followed by Japan and Australia**."
   ]
  },
  {
   "cell_type": "code",
   "execution_count": 11,
   "id": "f5bf9189",
   "metadata": {
    "execution": {
     "iopub.execute_input": "2023-07-29T06:46:34.598574Z",
     "iopub.status.busy": "2023-07-29T06:46:34.597615Z",
     "iopub.status.idle": "2023-07-29T06:46:34.600880Z",
     "shell.execute_reply": "2023-07-29T06:46:34.600208Z",
     "shell.execute_reply.started": "2023-07-29T06:42:36.072359Z"
    },
    "papermill": {
     "duration": 0.04197,
     "end_time": "2023-07-29T06:46:34.601079",
     "exception": false,
     "start_time": "2023-07-29T06:46:34.559109",
     "status": "completed"
    },
    "tags": []
   },
   "outputs": [],
   "source": [
    "x = df_coaches.NOC.value_counts()"
   ]
  },
  {
   "cell_type": "code",
   "execution_count": 12,
   "id": "be346357",
   "metadata": {
    "execution": {
     "iopub.execute_input": "2023-07-29T06:46:34.670334Z",
     "iopub.status.busy": "2023-07-29T06:46:34.669607Z",
     "iopub.status.idle": "2023-07-29T06:46:34.759060Z",
     "shell.execute_reply": "2023-07-29T06:46:34.759735Z",
     "shell.execute_reply.started": "2023-07-29T06:42:36.078963Z"
    },
    "papermill": {
     "duration": 0.125964,
     "end_time": "2023-07-29T06:46:34.759968",
     "exception": false,
     "start_time": "2023-07-29T06:46:34.634004",
     "status": "completed"
    },
    "tags": []
   },
   "outputs": [
    {
     "data": {
      "text/html": [
       "<div>                            <div id=\"1c1f03d5-fb08-42e4-b2ba-f420075d0594\" class=\"plotly-graph-div\" style=\"height:525px; width:100%;\"></div>            <script type=\"text/javascript\">                require([\"plotly\"], function(Plotly) {                    window.PLOTLYENV=window.PLOTLYENV || {};                                    if (document.getElementById(\"1c1f03d5-fb08-42e4-b2ba-f420075d0594\")) {                    Plotly.newPlot(                        \"1c1f03d5-fb08-42e4-b2ba-f420075d0594\",                        [{\"alignmentgroup\":\"True\",\"hovertemplate\":\"variable=NOC<br>index=%{x}<br>value=%{y}<extra></extra>\",\"legendgroup\":\"NOC\",\"marker\":{\"color\":\"#636efa\",\"pattern\":{\"shape\":\"\"}},\"name\":\"NOC\",\"offsetgroup\":\"NOC\",\"orientation\":\"v\",\"showlegend\":true,\"textposition\":\"auto\",\"type\":\"bar\",\"x\":[\"Japan\",\"United States of America\",\"Spain\",\"Australia\",\"Canada\",\"Italy\",\"Egypt\",\"South Africa\",\"ROC\",\"People's Republic of China\",\"Argentina\",\"Netherlands\",\"Venezuela\",\"France\",\"Nigeria\",\"Germany\",\"New Zealand\",\"Mexico\",\"Great Britain\",\"Republic of Korea\"],\"xaxis\":\"x\",\"y\":[35,28,28,22,16,14,12,12,12,12,11,10,10,10,9,9,8,8,7,7],\"yaxis\":\"y\"}],                        {\"barmode\":\"relative\",\"legend\":{\"title\":{\"text\":\"variable\"},\"tracegroupgap\":0},\"template\":{\"data\":{\"bar\":[{\"error_x\":{\"color\":\"#2a3f5f\"},\"error_y\":{\"color\":\"#2a3f5f\"},\"marker\":{\"line\":{\"color\":\"#E5ECF6\",\"width\":0.5},\"pattern\":{\"fillmode\":\"overlay\",\"size\":10,\"solidity\":0.2}},\"type\":\"bar\"}],\"barpolar\":[{\"marker\":{\"line\":{\"color\":\"#E5ECF6\",\"width\":0.5},\"pattern\":{\"fillmode\":\"overlay\",\"size\":10,\"solidity\":0.2}},\"type\":\"barpolar\"}],\"carpet\":[{\"aaxis\":{\"endlinecolor\":\"#2a3f5f\",\"gridcolor\":\"white\",\"linecolor\":\"white\",\"minorgridcolor\":\"white\",\"startlinecolor\":\"#2a3f5f\"},\"baxis\":{\"endlinecolor\":\"#2a3f5f\",\"gridcolor\":\"white\",\"linecolor\":\"white\",\"minorgridcolor\":\"white\",\"startlinecolor\":\"#2a3f5f\"},\"type\":\"carpet\"}],\"choropleth\":[{\"colorbar\":{\"outlinewidth\":0,\"ticks\":\"\"},\"type\":\"choropleth\"}],\"contour\":[{\"colorbar\":{\"outlinewidth\":0,\"ticks\":\"\"},\"colorscale\":[[0.0,\"#0d0887\"],[0.1111111111111111,\"#46039f\"],[0.2222222222222222,\"#7201a8\"],[0.3333333333333333,\"#9c179e\"],[0.4444444444444444,\"#bd3786\"],[0.5555555555555556,\"#d8576b\"],[0.6666666666666666,\"#ed7953\"],[0.7777777777777778,\"#fb9f3a\"],[0.8888888888888888,\"#fdca26\"],[1.0,\"#f0f921\"]],\"type\":\"contour\"}],\"contourcarpet\":[{\"colorbar\":{\"outlinewidth\":0,\"ticks\":\"\"},\"type\":\"contourcarpet\"}],\"heatmap\":[{\"colorbar\":{\"outlinewidth\":0,\"ticks\":\"\"},\"colorscale\":[[0.0,\"#0d0887\"],[0.1111111111111111,\"#46039f\"],[0.2222222222222222,\"#7201a8\"],[0.3333333333333333,\"#9c179e\"],[0.4444444444444444,\"#bd3786\"],[0.5555555555555556,\"#d8576b\"],[0.6666666666666666,\"#ed7953\"],[0.7777777777777778,\"#fb9f3a\"],[0.8888888888888888,\"#fdca26\"],[1.0,\"#f0f921\"]],\"type\":\"heatmap\"}],\"heatmapgl\":[{\"colorbar\":{\"outlinewidth\":0,\"ticks\":\"\"},\"colorscale\":[[0.0,\"#0d0887\"],[0.1111111111111111,\"#46039f\"],[0.2222222222222222,\"#7201a8\"],[0.3333333333333333,\"#9c179e\"],[0.4444444444444444,\"#bd3786\"],[0.5555555555555556,\"#d8576b\"],[0.6666666666666666,\"#ed7953\"],[0.7777777777777778,\"#fb9f3a\"],[0.8888888888888888,\"#fdca26\"],[1.0,\"#f0f921\"]],\"type\":\"heatmapgl\"}],\"histogram\":[{\"marker\":{\"pattern\":{\"fillmode\":\"overlay\",\"size\":10,\"solidity\":0.2}},\"type\":\"histogram\"}],\"histogram2d\":[{\"colorbar\":{\"outlinewidth\":0,\"ticks\":\"\"},\"colorscale\":[[0.0,\"#0d0887\"],[0.1111111111111111,\"#46039f\"],[0.2222222222222222,\"#7201a8\"],[0.3333333333333333,\"#9c179e\"],[0.4444444444444444,\"#bd3786\"],[0.5555555555555556,\"#d8576b\"],[0.6666666666666666,\"#ed7953\"],[0.7777777777777778,\"#fb9f3a\"],[0.8888888888888888,\"#fdca26\"],[1.0,\"#f0f921\"]],\"type\":\"histogram2d\"}],\"histogram2dcontour\":[{\"colorbar\":{\"outlinewidth\":0,\"ticks\":\"\"},\"colorscale\":[[0.0,\"#0d0887\"],[0.1111111111111111,\"#46039f\"],[0.2222222222222222,\"#7201a8\"],[0.3333333333333333,\"#9c179e\"],[0.4444444444444444,\"#bd3786\"],[0.5555555555555556,\"#d8576b\"],[0.6666666666666666,\"#ed7953\"],[0.7777777777777778,\"#fb9f3a\"],[0.8888888888888888,\"#fdca26\"],[1.0,\"#f0f921\"]],\"type\":\"histogram2dcontour\"}],\"mesh3d\":[{\"colorbar\":{\"outlinewidth\":0,\"ticks\":\"\"},\"type\":\"mesh3d\"}],\"parcoords\":[{\"line\":{\"colorbar\":{\"outlinewidth\":0,\"ticks\":\"\"}},\"type\":\"parcoords\"}],\"pie\":[{\"automargin\":true,\"type\":\"pie\"}],\"scatter\":[{\"marker\":{\"colorbar\":{\"outlinewidth\":0,\"ticks\":\"\"}},\"type\":\"scatter\"}],\"scatter3d\":[{\"line\":{\"colorbar\":{\"outlinewidth\":0,\"ticks\":\"\"}},\"marker\":{\"colorbar\":{\"outlinewidth\":0,\"ticks\":\"\"}},\"type\":\"scatter3d\"}],\"scattercarpet\":[{\"marker\":{\"colorbar\":{\"outlinewidth\":0,\"ticks\":\"\"}},\"type\":\"scattercarpet\"}],\"scattergeo\":[{\"marker\":{\"colorbar\":{\"outlinewidth\":0,\"ticks\":\"\"}},\"type\":\"scattergeo\"}],\"scattergl\":[{\"marker\":{\"colorbar\":{\"outlinewidth\":0,\"ticks\":\"\"}},\"type\":\"scattergl\"}],\"scattermapbox\":[{\"marker\":{\"colorbar\":{\"outlinewidth\":0,\"ticks\":\"\"}},\"type\":\"scattermapbox\"}],\"scatterpolar\":[{\"marker\":{\"colorbar\":{\"outlinewidth\":0,\"ticks\":\"\"}},\"type\":\"scatterpolar\"}],\"scatterpolargl\":[{\"marker\":{\"colorbar\":{\"outlinewidth\":0,\"ticks\":\"\"}},\"type\":\"scatterpolargl\"}],\"scatterternary\":[{\"marker\":{\"colorbar\":{\"outlinewidth\":0,\"ticks\":\"\"}},\"type\":\"scatterternary\"}],\"surface\":[{\"colorbar\":{\"outlinewidth\":0,\"ticks\":\"\"},\"colorscale\":[[0.0,\"#0d0887\"],[0.1111111111111111,\"#46039f\"],[0.2222222222222222,\"#7201a8\"],[0.3333333333333333,\"#9c179e\"],[0.4444444444444444,\"#bd3786\"],[0.5555555555555556,\"#d8576b\"],[0.6666666666666666,\"#ed7953\"],[0.7777777777777778,\"#fb9f3a\"],[0.8888888888888888,\"#fdca26\"],[1.0,\"#f0f921\"]],\"type\":\"surface\"}],\"table\":[{\"cells\":{\"fill\":{\"color\":\"#EBF0F8\"},\"line\":{\"color\":\"white\"}},\"header\":{\"fill\":{\"color\":\"#C8D4E3\"},\"line\":{\"color\":\"white\"}},\"type\":\"table\"}]},\"layout\":{\"annotationdefaults\":{\"arrowcolor\":\"#2a3f5f\",\"arrowhead\":0,\"arrowwidth\":1},\"autotypenumbers\":\"strict\",\"coloraxis\":{\"colorbar\":{\"outlinewidth\":0,\"ticks\":\"\"}},\"colorscale\":{\"diverging\":[[0,\"#8e0152\"],[0.1,\"#c51b7d\"],[0.2,\"#de77ae\"],[0.3,\"#f1b6da\"],[0.4,\"#fde0ef\"],[0.5,\"#f7f7f7\"],[0.6,\"#e6f5d0\"],[0.7,\"#b8e186\"],[0.8,\"#7fbc41\"],[0.9,\"#4d9221\"],[1,\"#276419\"]],\"sequential\":[[0.0,\"#0d0887\"],[0.1111111111111111,\"#46039f\"],[0.2222222222222222,\"#7201a8\"],[0.3333333333333333,\"#9c179e\"],[0.4444444444444444,\"#bd3786\"],[0.5555555555555556,\"#d8576b\"],[0.6666666666666666,\"#ed7953\"],[0.7777777777777778,\"#fb9f3a\"],[0.8888888888888888,\"#fdca26\"],[1.0,\"#f0f921\"]],\"sequentialminus\":[[0.0,\"#0d0887\"],[0.1111111111111111,\"#46039f\"],[0.2222222222222222,\"#7201a8\"],[0.3333333333333333,\"#9c179e\"],[0.4444444444444444,\"#bd3786\"],[0.5555555555555556,\"#d8576b\"],[0.6666666666666666,\"#ed7953\"],[0.7777777777777778,\"#fb9f3a\"],[0.8888888888888888,\"#fdca26\"],[1.0,\"#f0f921\"]]},\"colorway\":[\"#636efa\",\"#EF553B\",\"#00cc96\",\"#ab63fa\",\"#FFA15A\",\"#19d3f3\",\"#FF6692\",\"#B6E880\",\"#FF97FF\",\"#FECB52\"],\"font\":{\"color\":\"#2a3f5f\"},\"geo\":{\"bgcolor\":\"white\",\"lakecolor\":\"white\",\"landcolor\":\"#E5ECF6\",\"showlakes\":true,\"showland\":true,\"subunitcolor\":\"white\"},\"hoverlabel\":{\"align\":\"left\"},\"hovermode\":\"closest\",\"mapbox\":{\"style\":\"light\"},\"paper_bgcolor\":\"white\",\"plot_bgcolor\":\"#E5ECF6\",\"polar\":{\"angularaxis\":{\"gridcolor\":\"white\",\"linecolor\":\"white\",\"ticks\":\"\"},\"bgcolor\":\"#E5ECF6\",\"radialaxis\":{\"gridcolor\":\"white\",\"linecolor\":\"white\",\"ticks\":\"\"}},\"scene\":{\"xaxis\":{\"backgroundcolor\":\"#E5ECF6\",\"gridcolor\":\"white\",\"gridwidth\":2,\"linecolor\":\"white\",\"showbackground\":true,\"ticks\":\"\",\"zerolinecolor\":\"white\"},\"yaxis\":{\"backgroundcolor\":\"#E5ECF6\",\"gridcolor\":\"white\",\"gridwidth\":2,\"linecolor\":\"white\",\"showbackground\":true,\"ticks\":\"\",\"zerolinecolor\":\"white\"},\"zaxis\":{\"backgroundcolor\":\"#E5ECF6\",\"gridcolor\":\"white\",\"gridwidth\":2,\"linecolor\":\"white\",\"showbackground\":true,\"ticks\":\"\",\"zerolinecolor\":\"white\"}},\"shapedefaults\":{\"line\":{\"color\":\"#2a3f5f\"}},\"ternary\":{\"aaxis\":{\"gridcolor\":\"white\",\"linecolor\":\"white\",\"ticks\":\"\"},\"baxis\":{\"gridcolor\":\"white\",\"linecolor\":\"white\",\"ticks\":\"\"},\"bgcolor\":\"#E5ECF6\",\"caxis\":{\"gridcolor\":\"white\",\"linecolor\":\"white\",\"ticks\":\"\"}},\"title\":{\"x\":0.05},\"xaxis\":{\"automargin\":true,\"gridcolor\":\"white\",\"linecolor\":\"white\",\"ticks\":\"\",\"title\":{\"standoff\":15},\"zerolinecolor\":\"white\",\"zerolinewidth\":2},\"yaxis\":{\"automargin\":true,\"gridcolor\":\"white\",\"linecolor\":\"white\",\"ticks\":\"\",\"title\":{\"standoff\":15},\"zerolinecolor\":\"white\",\"zerolinewidth\":2}}},\"title\":{\"text\":\"Top 20 countries in terms of number of coaches :\"},\"xaxis\":{\"anchor\":\"y\",\"domain\":[0.0,1.0],\"title\":{\"text\":\"index\"}},\"yaxis\":{\"anchor\":\"x\",\"domain\":[0.0,1.0],\"title\":{\"text\":\"value\"}}},                        {\"responsive\": true}                    ).then(function(){\n",
       "                            \n",
       "var gd = document.getElementById('1c1f03d5-fb08-42e4-b2ba-f420075d0594');\n",
       "var x = new MutationObserver(function (mutations, observer) {{\n",
       "        var display = window.getComputedStyle(gd).display;\n",
       "        if (!display || display === 'none') {{\n",
       "            console.log([gd, 'removed!']);\n",
       "            Plotly.purge(gd);\n",
       "            observer.disconnect();\n",
       "        }}\n",
       "}});\n",
       "\n",
       "// Listen for the removal of the full notebook cells\n",
       "var notebookContainer = gd.closest('#notebook-container');\n",
       "if (notebookContainer) {{\n",
       "    x.observe(notebookContainer, {childList: true});\n",
       "}}\n",
       "\n",
       "// Listen for the clearing of the current output cell\n",
       "var outputEl = gd.closest('.output');\n",
       "if (outputEl) {{\n",
       "    x.observe(outputEl, {childList: true});\n",
       "}}\n",
       "\n",
       "                        })                };                });            </script>        </div>"
      ]
     },
     "metadata": {},
     "output_type": "display_data"
    }
   ],
   "source": [
    "px.bar(x[:20], title=\"Top 20 countries in terms of number of coaches :\")"
   ]
  },
  {
   "cell_type": "markdown",
   "id": "c83ec83a",
   "metadata": {
    "papermill": {
     "duration": 0.039273,
     "end_time": "2023-07-29T06:46:34.845477",
     "exception": false,
     "start_time": "2023-07-29T06:46:34.806204",
     "status": "completed"
    },
    "tags": []
   },
   "source": [
    "# Note :\n",
    "\n",
    "* Above plot shows **countries** from where **maximum number of coaches** are coming from.\n",
    "\n",
    "* **Japan** contributes to **maximum number** of coaches **followed by USA and Spain**."
   ]
  },
  {
   "cell_type": "code",
   "execution_count": 13,
   "id": "abc7079e",
   "metadata": {
    "execution": {
     "iopub.execute_input": "2023-07-29T06:46:34.923938Z",
     "iopub.status.busy": "2023-07-29T06:46:34.921202Z",
     "iopub.status.idle": "2023-07-29T06:46:35.017173Z",
     "shell.execute_reply": "2023-07-29T06:46:35.016570Z",
     "shell.execute_reply.started": "2023-07-29T06:42:36.156424Z"
    },
    "papermill": {
     "duration": 0.138229,
     "end_time": "2023-07-29T06:46:35.017338",
     "exception": false,
     "start_time": "2023-07-29T06:46:34.879109",
     "status": "completed"
    },
    "tags": []
   },
   "outputs": [
    {
     "data": {
      "text/html": [
       "<div>                            <div id=\"ddc1e4cf-1773-4307-8e0f-349fa0482261\" class=\"plotly-graph-div\" style=\"height:525px; width:100%;\"></div>            <script type=\"text/javascript\">                require([\"plotly\"], function(Plotly) {                    window.PLOTLYENV=window.PLOTLYENV || {};                                    if (document.getElementById(\"ddc1e4cf-1773-4307-8e0f-349fa0482261\")) {                    Plotly.newPlot(                        \"ddc1e4cf-1773-4307-8e0f-349fa0482261\",                        [{\"alignmentgroup\":\"True\",\"hovertemplate\":\"Team/NOC=%{x}<br>Total=%{y}<br>Gold=%{marker.color}<extra></extra>\",\"legendgroup\":\"\",\"marker\":{\"color\":[39,38,27,22,20,17,10,10,10,10,7,7,7,7,6,6,4,4,4,4,4,3,3,3,3,3,3,3,3,3,3,3,2,2,2,2,2,2,2,2,2,2,2,1,1,1,1,1,1,1,1,1,1,1,1,1,1,1,1,1,1,1,1,1,1,0,0,0,0,0,0,0,0,0,0,0,0,0,0,0,0,0,0,0,0,0,0,0,0,0,0,0,0],\"coloraxis\":\"coloraxis\",\"pattern\":{\"shape\":\"\"}},\"name\":\"\",\"offsetgroup\":\"\",\"orientation\":\"v\",\"showlegend\":false,\"textposition\":\"auto\",\"type\":\"bar\",\"x\":[\"United States of America\",\"People's Republic of China\",\"Japan\",\"Great Britain\",\"ROC\",\"Australia\",\"Netherlands\",\"France\",\"Germany\",\"Italy\",\"Canada\",\"Brazil\",\"New Zealand\",\"Cuba\",\"Hungary\",\"Republic of Korea\",\"Poland\",\"Czech Republic\",\"Kenya\",\"Norway\",\"Jamaica\",\"Spain\",\"Sweden\",\"Switzerland\",\"Denmark\",\"Croatia\",\"Islamic Republic of Iran\",\"Serbia\",\"Belgium\",\"Bulgaria\",\"Slovenia\",\"Uzbekistan\",\"Georgia\",\"Chinese Taipei\",\"Turkey\",\"Greece\",\"Uganda\",\"Ecuador\",\"Ireland\",\"Israel\",\"Qatar\",\"Bahamas\",\"Kosovo\",\"Ukraine\",\"Belarus\",\"Romania\",\"Venezuela\",\"India\",\"Hong Kong, China\",\"Philippines\",\"Slovakia\",\"South Africa\",\"Austria\",\"Egypt\",\"Indonesia\",\"Ethiopia\",\"Portugal\",\"Tunisia\",\"Estonia\",\"Fiji\",\"Latvia\",\"Thailand\",\"Bermuda\",\"Morocco\",\"Puerto Rico\",\"Colombia\",\"Azerbaijan\",\"Dominican Republic\",\"Armenia\",\"Kyrgyzstan\",\"Mongolia\",\"Argentina\",\"San Marino\",\"Jordan\",\"Malaysia\",\"Nigeria\",\"Bahrain\",\"Saudi Arabia\",\"Lithuania\",\"North Macedonia\",\"Namibia\",\"Turkmenistan\",\"Kazakhstan\",\"Mexico\",\"Finland\",\"Botswana\",\"Burkina Faso\",\"C\\u00f4te d'Ivoire\",\"Ghana\",\"Grenada\",\"Kuwait\",\"Republic of Moldova\",\"Syrian Arab Republic\"],\"xaxis\":\"x\",\"y\":[113,88,58,65,71,46,36,33,37,40,24,21,20,15,20,20,14,11,10,8,9,17,9,13,11,8,7,9,7,6,5,5,8,12,13,4,4,3,4,4,3,2,2,19,7,4,4,7,6,4,4,3,7,6,5,4,4,2,2,2,2,2,1,1,1,5,7,5,4,3,4,3,3,2,2,2,1,1,1,1,1,1,8,4,2,1,1,1,1,1,1,1,1],\"yaxis\":\"y\"}],                        {\"barmode\":\"relative\",\"coloraxis\":{\"colorbar\":{\"title\":{\"text\":\"Gold\"}},\"colorscale\":[[0.0,\"#0d0887\"],[0.1111111111111111,\"#46039f\"],[0.2222222222222222,\"#7201a8\"],[0.3333333333333333,\"#9c179e\"],[0.4444444444444444,\"#bd3786\"],[0.5555555555555556,\"#d8576b\"],[0.6666666666666666,\"#ed7953\"],[0.7777777777777778,\"#fb9f3a\"],[0.8888888888888888,\"#fdca26\"],[1.0,\"#f0f921\"]]},\"legend\":{\"tracegroupgap\":0},\"template\":{\"data\":{\"bar\":[{\"error_x\":{\"color\":\"#2a3f5f\"},\"error_y\":{\"color\":\"#2a3f5f\"},\"marker\":{\"line\":{\"color\":\"#E5ECF6\",\"width\":0.5},\"pattern\":{\"fillmode\":\"overlay\",\"size\":10,\"solidity\":0.2}},\"type\":\"bar\"}],\"barpolar\":[{\"marker\":{\"line\":{\"color\":\"#E5ECF6\",\"width\":0.5},\"pattern\":{\"fillmode\":\"overlay\",\"size\":10,\"solidity\":0.2}},\"type\":\"barpolar\"}],\"carpet\":[{\"aaxis\":{\"endlinecolor\":\"#2a3f5f\",\"gridcolor\":\"white\",\"linecolor\":\"white\",\"minorgridcolor\":\"white\",\"startlinecolor\":\"#2a3f5f\"},\"baxis\":{\"endlinecolor\":\"#2a3f5f\",\"gridcolor\":\"white\",\"linecolor\":\"white\",\"minorgridcolor\":\"white\",\"startlinecolor\":\"#2a3f5f\"},\"type\":\"carpet\"}],\"choropleth\":[{\"colorbar\":{\"outlinewidth\":0,\"ticks\":\"\"},\"type\":\"choropleth\"}],\"contour\":[{\"colorbar\":{\"outlinewidth\":0,\"ticks\":\"\"},\"colorscale\":[[0.0,\"#0d0887\"],[0.1111111111111111,\"#46039f\"],[0.2222222222222222,\"#7201a8\"],[0.3333333333333333,\"#9c179e\"],[0.4444444444444444,\"#bd3786\"],[0.5555555555555556,\"#d8576b\"],[0.6666666666666666,\"#ed7953\"],[0.7777777777777778,\"#fb9f3a\"],[0.8888888888888888,\"#fdca26\"],[1.0,\"#f0f921\"]],\"type\":\"contour\"}],\"contourcarpet\":[{\"colorbar\":{\"outlinewidth\":0,\"ticks\":\"\"},\"type\":\"contourcarpet\"}],\"heatmap\":[{\"colorbar\":{\"outlinewidth\":0,\"ticks\":\"\"},\"colorscale\":[[0.0,\"#0d0887\"],[0.1111111111111111,\"#46039f\"],[0.2222222222222222,\"#7201a8\"],[0.3333333333333333,\"#9c179e\"],[0.4444444444444444,\"#bd3786\"],[0.5555555555555556,\"#d8576b\"],[0.6666666666666666,\"#ed7953\"],[0.7777777777777778,\"#fb9f3a\"],[0.8888888888888888,\"#fdca26\"],[1.0,\"#f0f921\"]],\"type\":\"heatmap\"}],\"heatmapgl\":[{\"colorbar\":{\"outlinewidth\":0,\"ticks\":\"\"},\"colorscale\":[[0.0,\"#0d0887\"],[0.1111111111111111,\"#46039f\"],[0.2222222222222222,\"#7201a8\"],[0.3333333333333333,\"#9c179e\"],[0.4444444444444444,\"#bd3786\"],[0.5555555555555556,\"#d8576b\"],[0.6666666666666666,\"#ed7953\"],[0.7777777777777778,\"#fb9f3a\"],[0.8888888888888888,\"#fdca26\"],[1.0,\"#f0f921\"]],\"type\":\"heatmapgl\"}],\"histogram\":[{\"marker\":{\"pattern\":{\"fillmode\":\"overlay\",\"size\":10,\"solidity\":0.2}},\"type\":\"histogram\"}],\"histogram2d\":[{\"colorbar\":{\"outlinewidth\":0,\"ticks\":\"\"},\"colorscale\":[[0.0,\"#0d0887\"],[0.1111111111111111,\"#46039f\"],[0.2222222222222222,\"#7201a8\"],[0.3333333333333333,\"#9c179e\"],[0.4444444444444444,\"#bd3786\"],[0.5555555555555556,\"#d8576b\"],[0.6666666666666666,\"#ed7953\"],[0.7777777777777778,\"#fb9f3a\"],[0.8888888888888888,\"#fdca26\"],[1.0,\"#f0f921\"]],\"type\":\"histogram2d\"}],\"histogram2dcontour\":[{\"colorbar\":{\"outlinewidth\":0,\"ticks\":\"\"},\"colorscale\":[[0.0,\"#0d0887\"],[0.1111111111111111,\"#46039f\"],[0.2222222222222222,\"#7201a8\"],[0.3333333333333333,\"#9c179e\"],[0.4444444444444444,\"#bd3786\"],[0.5555555555555556,\"#d8576b\"],[0.6666666666666666,\"#ed7953\"],[0.7777777777777778,\"#fb9f3a\"],[0.8888888888888888,\"#fdca26\"],[1.0,\"#f0f921\"]],\"type\":\"histogram2dcontour\"}],\"mesh3d\":[{\"colorbar\":{\"outlinewidth\":0,\"ticks\":\"\"},\"type\":\"mesh3d\"}],\"parcoords\":[{\"line\":{\"colorbar\":{\"outlinewidth\":0,\"ticks\":\"\"}},\"type\":\"parcoords\"}],\"pie\":[{\"automargin\":true,\"type\":\"pie\"}],\"scatter\":[{\"marker\":{\"colorbar\":{\"outlinewidth\":0,\"ticks\":\"\"}},\"type\":\"scatter\"}],\"scatter3d\":[{\"line\":{\"colorbar\":{\"outlinewidth\":0,\"ticks\":\"\"}},\"marker\":{\"colorbar\":{\"outlinewidth\":0,\"ticks\":\"\"}},\"type\":\"scatter3d\"}],\"scattercarpet\":[{\"marker\":{\"colorbar\":{\"outlinewidth\":0,\"ticks\":\"\"}},\"type\":\"scattercarpet\"}],\"scattergeo\":[{\"marker\":{\"colorbar\":{\"outlinewidth\":0,\"ticks\":\"\"}},\"type\":\"scattergeo\"}],\"scattergl\":[{\"marker\":{\"colorbar\":{\"outlinewidth\":0,\"ticks\":\"\"}},\"type\":\"scattergl\"}],\"scattermapbox\":[{\"marker\":{\"colorbar\":{\"outlinewidth\":0,\"ticks\":\"\"}},\"type\":\"scattermapbox\"}],\"scatterpolar\":[{\"marker\":{\"colorbar\":{\"outlinewidth\":0,\"ticks\":\"\"}},\"type\":\"scatterpolar\"}],\"scatterpolargl\":[{\"marker\":{\"colorbar\":{\"outlinewidth\":0,\"ticks\":\"\"}},\"type\":\"scatterpolargl\"}],\"scatterternary\":[{\"marker\":{\"colorbar\":{\"outlinewidth\":0,\"ticks\":\"\"}},\"type\":\"scatterternary\"}],\"surface\":[{\"colorbar\":{\"outlinewidth\":0,\"ticks\":\"\"},\"colorscale\":[[0.0,\"#0d0887\"],[0.1111111111111111,\"#46039f\"],[0.2222222222222222,\"#7201a8\"],[0.3333333333333333,\"#9c179e\"],[0.4444444444444444,\"#bd3786\"],[0.5555555555555556,\"#d8576b\"],[0.6666666666666666,\"#ed7953\"],[0.7777777777777778,\"#fb9f3a\"],[0.8888888888888888,\"#fdca26\"],[1.0,\"#f0f921\"]],\"type\":\"surface\"}],\"table\":[{\"cells\":{\"fill\":{\"color\":\"#EBF0F8\"},\"line\":{\"color\":\"white\"}},\"header\":{\"fill\":{\"color\":\"#C8D4E3\"},\"line\":{\"color\":\"white\"}},\"type\":\"table\"}]},\"layout\":{\"annotationdefaults\":{\"arrowcolor\":\"#2a3f5f\",\"arrowhead\":0,\"arrowwidth\":1},\"autotypenumbers\":\"strict\",\"coloraxis\":{\"colorbar\":{\"outlinewidth\":0,\"ticks\":\"\"}},\"colorscale\":{\"diverging\":[[0,\"#8e0152\"],[0.1,\"#c51b7d\"],[0.2,\"#de77ae\"],[0.3,\"#f1b6da\"],[0.4,\"#fde0ef\"],[0.5,\"#f7f7f7\"],[0.6,\"#e6f5d0\"],[0.7,\"#b8e186\"],[0.8,\"#7fbc41\"],[0.9,\"#4d9221\"],[1,\"#276419\"]],\"sequential\":[[0.0,\"#0d0887\"],[0.1111111111111111,\"#46039f\"],[0.2222222222222222,\"#7201a8\"],[0.3333333333333333,\"#9c179e\"],[0.4444444444444444,\"#bd3786\"],[0.5555555555555556,\"#d8576b\"],[0.6666666666666666,\"#ed7953\"],[0.7777777777777778,\"#fb9f3a\"],[0.8888888888888888,\"#fdca26\"],[1.0,\"#f0f921\"]],\"sequentialminus\":[[0.0,\"#0d0887\"],[0.1111111111111111,\"#46039f\"],[0.2222222222222222,\"#7201a8\"],[0.3333333333333333,\"#9c179e\"],[0.4444444444444444,\"#bd3786\"],[0.5555555555555556,\"#d8576b\"],[0.6666666666666666,\"#ed7953\"],[0.7777777777777778,\"#fb9f3a\"],[0.8888888888888888,\"#fdca26\"],[1.0,\"#f0f921\"]]},\"colorway\":[\"#636efa\",\"#EF553B\",\"#00cc96\",\"#ab63fa\",\"#FFA15A\",\"#19d3f3\",\"#FF6692\",\"#B6E880\",\"#FF97FF\",\"#FECB52\"],\"font\":{\"color\":\"#2a3f5f\"},\"geo\":{\"bgcolor\":\"white\",\"lakecolor\":\"white\",\"landcolor\":\"#E5ECF6\",\"showlakes\":true,\"showland\":true,\"subunitcolor\":\"white\"},\"hoverlabel\":{\"align\":\"left\"},\"hovermode\":\"closest\",\"mapbox\":{\"style\":\"light\"},\"paper_bgcolor\":\"white\",\"plot_bgcolor\":\"#E5ECF6\",\"polar\":{\"angularaxis\":{\"gridcolor\":\"white\",\"linecolor\":\"white\",\"ticks\":\"\"},\"bgcolor\":\"#E5ECF6\",\"radialaxis\":{\"gridcolor\":\"white\",\"linecolor\":\"white\",\"ticks\":\"\"}},\"scene\":{\"xaxis\":{\"backgroundcolor\":\"#E5ECF6\",\"gridcolor\":\"white\",\"gridwidth\":2,\"linecolor\":\"white\",\"showbackground\":true,\"ticks\":\"\",\"zerolinecolor\":\"white\"},\"yaxis\":{\"backgroundcolor\":\"#E5ECF6\",\"gridcolor\":\"white\",\"gridwidth\":2,\"linecolor\":\"white\",\"showbackground\":true,\"ticks\":\"\",\"zerolinecolor\":\"white\"},\"zaxis\":{\"backgroundcolor\":\"#E5ECF6\",\"gridcolor\":\"white\",\"gridwidth\":2,\"linecolor\":\"white\",\"showbackground\":true,\"ticks\":\"\",\"zerolinecolor\":\"white\"}},\"shapedefaults\":{\"line\":{\"color\":\"#2a3f5f\"}},\"ternary\":{\"aaxis\":{\"gridcolor\":\"white\",\"linecolor\":\"white\",\"ticks\":\"\"},\"baxis\":{\"gridcolor\":\"white\",\"linecolor\":\"white\",\"ticks\":\"\"},\"bgcolor\":\"#E5ECF6\",\"caxis\":{\"gridcolor\":\"white\",\"linecolor\":\"white\",\"ticks\":\"\"}},\"title\":{\"x\":0.05},\"xaxis\":{\"automargin\":true,\"gridcolor\":\"white\",\"linecolor\":\"white\",\"ticks\":\"\",\"title\":{\"standoff\":15},\"zerolinecolor\":\"white\",\"zerolinewidth\":2},\"yaxis\":{\"automargin\":true,\"gridcolor\":\"white\",\"linecolor\":\"white\",\"ticks\":\"\",\"title\":{\"standoff\":15},\"zerolinecolor\":\"white\",\"zerolinewidth\":2}}},\"title\":{\"text\":\"Top Countries in terms of number of medals : \"},\"xaxis\":{\"anchor\":\"y\",\"domain\":[0.0,1.0],\"title\":{\"text\":\"Team/NOC\"}},\"yaxis\":{\"anchor\":\"x\",\"domain\":[0.0,1.0],\"title\":{\"text\":\"Total\"}}},                        {\"responsive\": true}                    ).then(function(){\n",
       "                            \n",
       "var gd = document.getElementById('ddc1e4cf-1773-4307-8e0f-349fa0482261');\n",
       "var x = new MutationObserver(function (mutations, observer) {{\n",
       "        var display = window.getComputedStyle(gd).display;\n",
       "        if (!display || display === 'none') {{\n",
       "            console.log([gd, 'removed!']);\n",
       "            Plotly.purge(gd);\n",
       "            observer.disconnect();\n",
       "        }}\n",
       "}});\n",
       "\n",
       "// Listen for the removal of the full notebook cells\n",
       "var notebookContainer = gd.closest('#notebook-container');\n",
       "if (notebookContainer) {{\n",
       "    x.observe(notebookContainer, {childList: true});\n",
       "}}\n",
       "\n",
       "// Listen for the clearing of the current output cell\n",
       "var outputEl = gd.closest('.output');\n",
       "if (outputEl) {{\n",
       "    x.observe(outputEl, {childList: true});\n",
       "}}\n",
       "\n",
       "                        })                };                });            </script>        </div>"
      ]
     },
     "metadata": {},
     "output_type": "display_data"
    }
   ],
   "source": [
    "px.bar(df_medals, x=\"Team/NOC\", y=\"Total\", color=\"Gold\", title=\"Top Countries in terms of number of medals : \")"
   ]
  },
  {
   "cell_type": "markdown",
   "id": "c066bed0",
   "metadata": {
    "papermill": {
     "duration": 0.034825,
     "end_time": "2023-07-29T06:46:35.086792",
     "exception": false,
     "start_time": "2023-07-29T06:46:35.051967",
     "status": "completed"
    },
    "tags": []
   },
   "source": [
    "#  Note :\n",
    "\n",
    "* Above plot shows **highest ranked countries as per their medal count**.\n",
    "\n",
    "* **USA** is on the **top** follwed by **China and Japan**.\n",
    "\n",
    "* Note that **Germany and Australia** are in **top 5 countries participants** are coming from but **not in top 5 countries having maximum medals**.\n",
    "\n",
    "* Whereas **USA, China, Japan holds top position in both number of participants and medals won**. "
   ]
  },
  {
   "cell_type": "code",
   "execution_count": 14,
   "id": "0dcf33d6",
   "metadata": {
    "execution": {
     "iopub.execute_input": "2023-07-29T06:46:35.164110Z",
     "iopub.status.busy": "2023-07-29T06:46:35.160131Z",
     "iopub.status.idle": "2023-07-29T06:46:35.167143Z",
     "shell.execute_reply": "2023-07-29T06:46:35.167732Z",
     "shell.execute_reply.started": "2023-07-29T06:42:36.222683Z"
    },
    "papermill": {
     "duration": 0.045621,
     "end_time": "2023-07-29T06:46:35.167933",
     "exception": false,
     "start_time": "2023-07-29T06:46:35.122312",
     "status": "completed"
    },
    "tags": []
   },
   "outputs": [],
   "source": [
    "x = df_athletes.Discipline.value_counts()"
   ]
  },
  {
   "cell_type": "code",
   "execution_count": 15,
   "id": "1446c8e9",
   "metadata": {
    "execution": {
     "iopub.execute_input": "2023-07-29T06:46:35.267497Z",
     "iopub.status.busy": "2023-07-29T06:46:35.266739Z",
     "iopub.status.idle": "2023-07-29T06:46:35.330910Z",
     "shell.execute_reply": "2023-07-29T06:46:35.330140Z",
     "shell.execute_reply.started": "2023-07-29T06:42:36.231209Z"
    },
    "papermill": {
     "duration": 0.126842,
     "end_time": "2023-07-29T06:46:35.331112",
     "exception": false,
     "start_time": "2023-07-29T06:46:35.204270",
     "status": "completed"
    },
    "tags": []
   },
   "outputs": [
    {
     "data": {
      "text/html": [
       "<div>                            <div id=\"805a0aad-b669-4ae4-976f-79c94d0c4a40\" class=\"plotly-graph-div\" style=\"height:525px; width:100%;\"></div>            <script type=\"text/javascript\">                require([\"plotly\"], function(Plotly) {                    window.PLOTLYENV=window.PLOTLYENV || {};                                    if (document.getElementById(\"805a0aad-b669-4ae4-976f-79c94d0c4a40\")) {                    Plotly.newPlot(                        \"805a0aad-b669-4ae4-976f-79c94d0c4a40\",                        [{\"alignmentgroup\":\"True\",\"hovertemplate\":\"variable=Discipline<br>index=%{x}<br>value=%{y}<extra></extra>\",\"legendgroup\":\"Discipline\",\"marker\":{\"color\":\"#636efa\",\"pattern\":{\"shape\":\"\"}},\"name\":\"Discipline\",\"offsetgroup\":\"Discipline\",\"orientation\":\"v\",\"showlegend\":true,\"textposition\":\"auto\",\"type\":\"bar\",\"x\":[\"Athletics\",\"Swimming\",\"Football\",\"Rowing\",\"Hockey\",\"Judo\",\"Handball\",\"Shooting\",\"Sailing\",\"Rugby Sevens\",\"Basketball\",\"Wrestling\",\"Volleyball\",\"Boxing\",\"Water Polo\",\"Fencing\",\"Equestrian\",\"Canoe Sprint\",\"Baseball/Softball\",\"Cycling Track\"],\"xaxis\":\"x\",\"y\":[2068,743,567,496,406,373,343,342,336,283,280,279,274,270,269,249,237,236,220,208],\"yaxis\":\"y\"}],                        {\"barmode\":\"relative\",\"legend\":{\"title\":{\"text\":\"variable\"},\"tracegroupgap\":0},\"margin\":{\"t\":60},\"template\":{\"data\":{\"bar\":[{\"error_x\":{\"color\":\"#2a3f5f\"},\"error_y\":{\"color\":\"#2a3f5f\"},\"marker\":{\"line\":{\"color\":\"#E5ECF6\",\"width\":0.5},\"pattern\":{\"fillmode\":\"overlay\",\"size\":10,\"solidity\":0.2}},\"type\":\"bar\"}],\"barpolar\":[{\"marker\":{\"line\":{\"color\":\"#E5ECF6\",\"width\":0.5},\"pattern\":{\"fillmode\":\"overlay\",\"size\":10,\"solidity\":0.2}},\"type\":\"barpolar\"}],\"carpet\":[{\"aaxis\":{\"endlinecolor\":\"#2a3f5f\",\"gridcolor\":\"white\",\"linecolor\":\"white\",\"minorgridcolor\":\"white\",\"startlinecolor\":\"#2a3f5f\"},\"baxis\":{\"endlinecolor\":\"#2a3f5f\",\"gridcolor\":\"white\",\"linecolor\":\"white\",\"minorgridcolor\":\"white\",\"startlinecolor\":\"#2a3f5f\"},\"type\":\"carpet\"}],\"choropleth\":[{\"colorbar\":{\"outlinewidth\":0,\"ticks\":\"\"},\"type\":\"choropleth\"}],\"contour\":[{\"colorbar\":{\"outlinewidth\":0,\"ticks\":\"\"},\"colorscale\":[[0.0,\"#0d0887\"],[0.1111111111111111,\"#46039f\"],[0.2222222222222222,\"#7201a8\"],[0.3333333333333333,\"#9c179e\"],[0.4444444444444444,\"#bd3786\"],[0.5555555555555556,\"#d8576b\"],[0.6666666666666666,\"#ed7953\"],[0.7777777777777778,\"#fb9f3a\"],[0.8888888888888888,\"#fdca26\"],[1.0,\"#f0f921\"]],\"type\":\"contour\"}],\"contourcarpet\":[{\"colorbar\":{\"outlinewidth\":0,\"ticks\":\"\"},\"type\":\"contourcarpet\"}],\"heatmap\":[{\"colorbar\":{\"outlinewidth\":0,\"ticks\":\"\"},\"colorscale\":[[0.0,\"#0d0887\"],[0.1111111111111111,\"#46039f\"],[0.2222222222222222,\"#7201a8\"],[0.3333333333333333,\"#9c179e\"],[0.4444444444444444,\"#bd3786\"],[0.5555555555555556,\"#d8576b\"],[0.6666666666666666,\"#ed7953\"],[0.7777777777777778,\"#fb9f3a\"],[0.8888888888888888,\"#fdca26\"],[1.0,\"#f0f921\"]],\"type\":\"heatmap\"}],\"heatmapgl\":[{\"colorbar\":{\"outlinewidth\":0,\"ticks\":\"\"},\"colorscale\":[[0.0,\"#0d0887\"],[0.1111111111111111,\"#46039f\"],[0.2222222222222222,\"#7201a8\"],[0.3333333333333333,\"#9c179e\"],[0.4444444444444444,\"#bd3786\"],[0.5555555555555556,\"#d8576b\"],[0.6666666666666666,\"#ed7953\"],[0.7777777777777778,\"#fb9f3a\"],[0.8888888888888888,\"#fdca26\"],[1.0,\"#f0f921\"]],\"type\":\"heatmapgl\"}],\"histogram\":[{\"marker\":{\"pattern\":{\"fillmode\":\"overlay\",\"size\":10,\"solidity\":0.2}},\"type\":\"histogram\"}],\"histogram2d\":[{\"colorbar\":{\"outlinewidth\":0,\"ticks\":\"\"},\"colorscale\":[[0.0,\"#0d0887\"],[0.1111111111111111,\"#46039f\"],[0.2222222222222222,\"#7201a8\"],[0.3333333333333333,\"#9c179e\"],[0.4444444444444444,\"#bd3786\"],[0.5555555555555556,\"#d8576b\"],[0.6666666666666666,\"#ed7953\"],[0.7777777777777778,\"#fb9f3a\"],[0.8888888888888888,\"#fdca26\"],[1.0,\"#f0f921\"]],\"type\":\"histogram2d\"}],\"histogram2dcontour\":[{\"colorbar\":{\"outlinewidth\":0,\"ticks\":\"\"},\"colorscale\":[[0.0,\"#0d0887\"],[0.1111111111111111,\"#46039f\"],[0.2222222222222222,\"#7201a8\"],[0.3333333333333333,\"#9c179e\"],[0.4444444444444444,\"#bd3786\"],[0.5555555555555556,\"#d8576b\"],[0.6666666666666666,\"#ed7953\"],[0.7777777777777778,\"#fb9f3a\"],[0.8888888888888888,\"#fdca26\"],[1.0,\"#f0f921\"]],\"type\":\"histogram2dcontour\"}],\"mesh3d\":[{\"colorbar\":{\"outlinewidth\":0,\"ticks\":\"\"},\"type\":\"mesh3d\"}],\"parcoords\":[{\"line\":{\"colorbar\":{\"outlinewidth\":0,\"ticks\":\"\"}},\"type\":\"parcoords\"}],\"pie\":[{\"automargin\":true,\"type\":\"pie\"}],\"scatter\":[{\"marker\":{\"colorbar\":{\"outlinewidth\":0,\"ticks\":\"\"}},\"type\":\"scatter\"}],\"scatter3d\":[{\"line\":{\"colorbar\":{\"outlinewidth\":0,\"ticks\":\"\"}},\"marker\":{\"colorbar\":{\"outlinewidth\":0,\"ticks\":\"\"}},\"type\":\"scatter3d\"}],\"scattercarpet\":[{\"marker\":{\"colorbar\":{\"outlinewidth\":0,\"ticks\":\"\"}},\"type\":\"scattercarpet\"}],\"scattergeo\":[{\"marker\":{\"colorbar\":{\"outlinewidth\":0,\"ticks\":\"\"}},\"type\":\"scattergeo\"}],\"scattergl\":[{\"marker\":{\"colorbar\":{\"outlinewidth\":0,\"ticks\":\"\"}},\"type\":\"scattergl\"}],\"scattermapbox\":[{\"marker\":{\"colorbar\":{\"outlinewidth\":0,\"ticks\":\"\"}},\"type\":\"scattermapbox\"}],\"scatterpolar\":[{\"marker\":{\"colorbar\":{\"outlinewidth\":0,\"ticks\":\"\"}},\"type\":\"scatterpolar\"}],\"scatterpolargl\":[{\"marker\":{\"colorbar\":{\"outlinewidth\":0,\"ticks\":\"\"}},\"type\":\"scatterpolargl\"}],\"scatterternary\":[{\"marker\":{\"colorbar\":{\"outlinewidth\":0,\"ticks\":\"\"}},\"type\":\"scatterternary\"}],\"surface\":[{\"colorbar\":{\"outlinewidth\":0,\"ticks\":\"\"},\"colorscale\":[[0.0,\"#0d0887\"],[0.1111111111111111,\"#46039f\"],[0.2222222222222222,\"#7201a8\"],[0.3333333333333333,\"#9c179e\"],[0.4444444444444444,\"#bd3786\"],[0.5555555555555556,\"#d8576b\"],[0.6666666666666666,\"#ed7953\"],[0.7777777777777778,\"#fb9f3a\"],[0.8888888888888888,\"#fdca26\"],[1.0,\"#f0f921\"]],\"type\":\"surface\"}],\"table\":[{\"cells\":{\"fill\":{\"color\":\"#EBF0F8\"},\"line\":{\"color\":\"white\"}},\"header\":{\"fill\":{\"color\":\"#C8D4E3\"},\"line\":{\"color\":\"white\"}},\"type\":\"table\"}]},\"layout\":{\"annotationdefaults\":{\"arrowcolor\":\"#2a3f5f\",\"arrowhead\":0,\"arrowwidth\":1},\"autotypenumbers\":\"strict\",\"coloraxis\":{\"colorbar\":{\"outlinewidth\":0,\"ticks\":\"\"}},\"colorscale\":{\"diverging\":[[0,\"#8e0152\"],[0.1,\"#c51b7d\"],[0.2,\"#de77ae\"],[0.3,\"#f1b6da\"],[0.4,\"#fde0ef\"],[0.5,\"#f7f7f7\"],[0.6,\"#e6f5d0\"],[0.7,\"#b8e186\"],[0.8,\"#7fbc41\"],[0.9,\"#4d9221\"],[1,\"#276419\"]],\"sequential\":[[0.0,\"#0d0887\"],[0.1111111111111111,\"#46039f\"],[0.2222222222222222,\"#7201a8\"],[0.3333333333333333,\"#9c179e\"],[0.4444444444444444,\"#bd3786\"],[0.5555555555555556,\"#d8576b\"],[0.6666666666666666,\"#ed7953\"],[0.7777777777777778,\"#fb9f3a\"],[0.8888888888888888,\"#fdca26\"],[1.0,\"#f0f921\"]],\"sequentialminus\":[[0.0,\"#0d0887\"],[0.1111111111111111,\"#46039f\"],[0.2222222222222222,\"#7201a8\"],[0.3333333333333333,\"#9c179e\"],[0.4444444444444444,\"#bd3786\"],[0.5555555555555556,\"#d8576b\"],[0.6666666666666666,\"#ed7953\"],[0.7777777777777778,\"#fb9f3a\"],[0.8888888888888888,\"#fdca26\"],[1.0,\"#f0f921\"]]},\"colorway\":[\"#636efa\",\"#EF553B\",\"#00cc96\",\"#ab63fa\",\"#FFA15A\",\"#19d3f3\",\"#FF6692\",\"#B6E880\",\"#FF97FF\",\"#FECB52\"],\"font\":{\"color\":\"#2a3f5f\"},\"geo\":{\"bgcolor\":\"white\",\"lakecolor\":\"white\",\"landcolor\":\"#E5ECF6\",\"showlakes\":true,\"showland\":true,\"subunitcolor\":\"white\"},\"hoverlabel\":{\"align\":\"left\"},\"hovermode\":\"closest\",\"mapbox\":{\"style\":\"light\"},\"paper_bgcolor\":\"white\",\"plot_bgcolor\":\"#E5ECF6\",\"polar\":{\"angularaxis\":{\"gridcolor\":\"white\",\"linecolor\":\"white\",\"ticks\":\"\"},\"bgcolor\":\"#E5ECF6\",\"radialaxis\":{\"gridcolor\":\"white\",\"linecolor\":\"white\",\"ticks\":\"\"}},\"scene\":{\"xaxis\":{\"backgroundcolor\":\"#E5ECF6\",\"gridcolor\":\"white\",\"gridwidth\":2,\"linecolor\":\"white\",\"showbackground\":true,\"ticks\":\"\",\"zerolinecolor\":\"white\"},\"yaxis\":{\"backgroundcolor\":\"#E5ECF6\",\"gridcolor\":\"white\",\"gridwidth\":2,\"linecolor\":\"white\",\"showbackground\":true,\"ticks\":\"\",\"zerolinecolor\":\"white\"},\"zaxis\":{\"backgroundcolor\":\"#E5ECF6\",\"gridcolor\":\"white\",\"gridwidth\":2,\"linecolor\":\"white\",\"showbackground\":true,\"ticks\":\"\",\"zerolinecolor\":\"white\"}},\"shapedefaults\":{\"line\":{\"color\":\"#2a3f5f\"}},\"ternary\":{\"aaxis\":{\"gridcolor\":\"white\",\"linecolor\":\"white\",\"ticks\":\"\"},\"baxis\":{\"gridcolor\":\"white\",\"linecolor\":\"white\",\"ticks\":\"\"},\"bgcolor\":\"#E5ECF6\",\"caxis\":{\"gridcolor\":\"white\",\"linecolor\":\"white\",\"ticks\":\"\"}},\"title\":{\"x\":0.05},\"xaxis\":{\"automargin\":true,\"gridcolor\":\"white\",\"linecolor\":\"white\",\"ticks\":\"\",\"title\":{\"standoff\":15},\"zerolinecolor\":\"white\",\"zerolinewidth\":2},\"yaxis\":{\"automargin\":true,\"gridcolor\":\"white\",\"linecolor\":\"white\",\"ticks\":\"\",\"title\":{\"standoff\":15},\"zerolinecolor\":\"white\",\"zerolinewidth\":2}}},\"xaxis\":{\"anchor\":\"y\",\"domain\":[0.0,1.0],\"title\":{\"text\":\"index\"}},\"yaxis\":{\"anchor\":\"x\",\"domain\":[0.0,1.0],\"title\":{\"text\":\"value\"}}},                        {\"responsive\": true}                    ).then(function(){\n",
       "                            \n",
       "var gd = document.getElementById('805a0aad-b669-4ae4-976f-79c94d0c4a40');\n",
       "var x = new MutationObserver(function (mutations, observer) {{\n",
       "        var display = window.getComputedStyle(gd).display;\n",
       "        if (!display || display === 'none') {{\n",
       "            console.log([gd, 'removed!']);\n",
       "            Plotly.purge(gd);\n",
       "            observer.disconnect();\n",
       "        }}\n",
       "}});\n",
       "\n",
       "// Listen for the removal of the full notebook cells\n",
       "var notebookContainer = gd.closest('#notebook-container');\n",
       "if (notebookContainer) {{\n",
       "    x.observe(notebookContainer, {childList: true});\n",
       "}}\n",
       "\n",
       "// Listen for the clearing of the current output cell\n",
       "var outputEl = gd.closest('.output');\n",
       "if (outputEl) {{\n",
       "    x.observe(outputEl, {childList: true});\n",
       "}}\n",
       "\n",
       "                        })                };                });            </script>        </div>"
      ]
     },
     "metadata": {},
     "output_type": "display_data"
    }
   ],
   "source": [
    "px.bar(x[:20])"
   ]
  },
  {
   "cell_type": "code",
   "execution_count": 16,
   "id": "09fedc9a",
   "metadata": {
    "execution": {
     "iopub.execute_input": "2023-07-29T06:46:35.421320Z",
     "iopub.status.busy": "2023-07-29T06:46:35.417961Z",
     "iopub.status.idle": "2023-07-29T06:46:35.754892Z",
     "shell.execute_reply": "2023-07-29T06:46:35.754213Z",
     "shell.execute_reply.started": "2023-07-29T06:42:36.299232Z"
    },
    "papermill": {
     "duration": 0.388251,
     "end_time": "2023-07-29T06:46:35.755102",
     "exception": false,
     "start_time": "2023-07-29T06:46:35.366851",
     "status": "completed"
    },
    "tags": []
   },
   "outputs": [
    {
     "data": {
      "text/html": [
       "<div>                            <div id=\"444b8ef5-365a-4e35-bfce-36ffaf0e7192\" class=\"plotly-graph-div\" style=\"height:525px; width:100%;\"></div>            <script type=\"text/javascript\">                require([\"plotly\"], function(Plotly) {                    window.PLOTLYENV=window.PLOTLYENV || {};                                    if (document.getElementById(\"444b8ef5-365a-4e35-bfce-36ffaf0e7192\")) {                    Plotly.newPlot(                        \"444b8ef5-365a-4e35-bfce-36ffaf0e7192\",                        [{\"alignmentgroup\":\"True\",\"hovertemplate\":\"Discipline=%{x}<br>Total=%{y}<extra></extra>\",\"legendgroup\":\"3x3 Basketball\",\"marker\":{\"color\":\"#636efa\",\"pattern\":{\"shape\":\"\"}},\"name\":\"3x3 Basketball\",\"offsetgroup\":\"3x3 Basketball\",\"orientation\":\"v\",\"showlegend\":true,\"textposition\":\"auto\",\"type\":\"bar\",\"x\":[\"3x3 Basketball\"],\"xaxis\":\"x\",\"y\":[64],\"yaxis\":\"y\"},{\"alignmentgroup\":\"True\",\"hovertemplate\":\"Discipline=%{x}<br>Total=%{y}<extra></extra>\",\"legendgroup\":\"Archery\",\"marker\":{\"color\":\"#EF553B\",\"pattern\":{\"shape\":\"\"}},\"name\":\"Archery\",\"offsetgroup\":\"Archery\",\"orientation\":\"v\",\"showlegend\":true,\"textposition\":\"auto\",\"type\":\"bar\",\"x\":[\"Archery\"],\"xaxis\":\"x\",\"y\":[128],\"yaxis\":\"y\"},{\"alignmentgroup\":\"True\",\"hovertemplate\":\"Discipline=%{x}<br>Total=%{y}<extra></extra>\",\"legendgroup\":\"Artistic Gymnastics\",\"marker\":{\"color\":\"#00cc96\",\"pattern\":{\"shape\":\"\"}},\"name\":\"Artistic Gymnastics\",\"offsetgroup\":\"Artistic Gymnastics\",\"orientation\":\"v\",\"showlegend\":true,\"textposition\":\"auto\",\"type\":\"bar\",\"x\":[\"Artistic Gymnastics\"],\"xaxis\":\"x\",\"y\":[196],\"yaxis\":\"y\"},{\"alignmentgroup\":\"True\",\"hovertemplate\":\"Discipline=%{x}<br>Total=%{y}<extra></extra>\",\"legendgroup\":\"Artistic Swimming\",\"marker\":{\"color\":\"#ab63fa\",\"pattern\":{\"shape\":\"\"}},\"name\":\"Artistic Swimming\",\"offsetgroup\":\"Artistic Swimming\",\"orientation\":\"v\",\"showlegend\":true,\"textposition\":\"auto\",\"type\":\"bar\",\"x\":[\"Artistic Swimming\"],\"xaxis\":\"x\",\"y\":[105],\"yaxis\":\"y\"},{\"alignmentgroup\":\"True\",\"hovertemplate\":\"Discipline=%{x}<br>Total=%{y}<extra></extra>\",\"legendgroup\":\"Athletics\",\"marker\":{\"color\":\"#FFA15A\",\"pattern\":{\"shape\":\"\"}},\"name\":\"Athletics\",\"offsetgroup\":\"Athletics\",\"orientation\":\"v\",\"showlegend\":true,\"textposition\":\"auto\",\"type\":\"bar\",\"x\":[\"Athletics\"],\"xaxis\":\"x\",\"y\":[2041],\"yaxis\":\"y\"},{\"alignmentgroup\":\"True\",\"hovertemplate\":\"Discipline=%{x}<br>Total=%{y}<extra></extra>\",\"legendgroup\":\"Badminton\",\"marker\":{\"color\":\"#19d3f3\",\"pattern\":{\"shape\":\"\"}},\"name\":\"Badminton\",\"offsetgroup\":\"Badminton\",\"orientation\":\"v\",\"showlegend\":true,\"textposition\":\"auto\",\"type\":\"bar\",\"x\":[\"Badminton\"],\"xaxis\":\"x\",\"y\":[173],\"yaxis\":\"y\"},{\"alignmentgroup\":\"True\",\"hovertemplate\":\"Discipline=%{x}<br>Total=%{y}<extra></extra>\",\"legendgroup\":\"Baseball/Softball\",\"marker\":{\"color\":\"#FF6692\",\"pattern\":{\"shape\":\"\"}},\"name\":\"Baseball/Softball\",\"offsetgroup\":\"Baseball/Softball\",\"orientation\":\"v\",\"showlegend\":true,\"textposition\":\"auto\",\"type\":\"bar\",\"x\":[\"Baseball/Softball\"],\"xaxis\":\"x\",\"y\":[234],\"yaxis\":\"y\"},{\"alignmentgroup\":\"True\",\"hovertemplate\":\"Discipline=%{x}<br>Total=%{y}<extra></extra>\",\"legendgroup\":\"Basketball\",\"marker\":{\"color\":\"#B6E880\",\"pattern\":{\"shape\":\"\"}},\"name\":\"Basketball\",\"offsetgroup\":\"Basketball\",\"orientation\":\"v\",\"showlegend\":true,\"textposition\":\"auto\",\"type\":\"bar\",\"x\":[\"Basketball\"],\"xaxis\":\"x\",\"y\":[288],\"yaxis\":\"y\"},{\"alignmentgroup\":\"True\",\"hovertemplate\":\"Discipline=%{x}<br>Total=%{y}<extra></extra>\",\"legendgroup\":\"Beach Volleyball\",\"marker\":{\"color\":\"#FF97FF\",\"pattern\":{\"shape\":\"\"}},\"name\":\"Beach Volleyball\",\"offsetgroup\":\"Beach Volleyball\",\"orientation\":\"v\",\"showlegend\":true,\"textposition\":\"auto\",\"type\":\"bar\",\"x\":[\"Beach Volleyball\"],\"xaxis\":\"x\",\"y\":[96],\"yaxis\":\"y\"},{\"alignmentgroup\":\"True\",\"hovertemplate\":\"Discipline=%{x}<br>Total=%{y}<extra></extra>\",\"legendgroup\":\"Boxing\",\"marker\":{\"color\":\"#FECB52\",\"pattern\":{\"shape\":\"\"}},\"name\":\"Boxing\",\"offsetgroup\":\"Boxing\",\"orientation\":\"v\",\"showlegend\":true,\"textposition\":\"auto\",\"type\":\"bar\",\"x\":[\"Boxing\"],\"xaxis\":\"x\",\"y\":[289],\"yaxis\":\"y\"},{\"alignmentgroup\":\"True\",\"hovertemplate\":\"Discipline=%{x}<br>Total=%{y}<extra></extra>\",\"legendgroup\":\"Canoe Slalom\",\"marker\":{\"color\":\"#636efa\",\"pattern\":{\"shape\":\"\"}},\"name\":\"Canoe Slalom\",\"offsetgroup\":\"Canoe Slalom\",\"orientation\":\"v\",\"showlegend\":true,\"textposition\":\"auto\",\"type\":\"bar\",\"x\":[\"Canoe Slalom\"],\"xaxis\":\"x\",\"y\":[82],\"yaxis\":\"y\"},{\"alignmentgroup\":\"True\",\"hovertemplate\":\"Discipline=%{x}<br>Total=%{y}<extra></extra>\",\"legendgroup\":\"Canoe Sprint\",\"marker\":{\"color\":\"#EF553B\",\"pattern\":{\"shape\":\"\"}},\"name\":\"Canoe Sprint\",\"offsetgroup\":\"Canoe Sprint\",\"orientation\":\"v\",\"showlegend\":true,\"textposition\":\"auto\",\"type\":\"bar\",\"x\":[\"Canoe Sprint\"],\"xaxis\":\"x\",\"y\":[249],\"yaxis\":\"y\"},{\"alignmentgroup\":\"True\",\"hovertemplate\":\"Discipline=%{x}<br>Total=%{y}<extra></extra>\",\"legendgroup\":\"Cycling BMX Freestyle\",\"marker\":{\"color\":\"#00cc96\",\"pattern\":{\"shape\":\"\"}},\"name\":\"Cycling BMX Freestyle\",\"offsetgroup\":\"Cycling BMX Freestyle\",\"orientation\":\"v\",\"showlegend\":true,\"textposition\":\"auto\",\"type\":\"bar\",\"x\":[\"Cycling BMX Freestyle\"],\"xaxis\":\"x\",\"y\":[19],\"yaxis\":\"y\"},{\"alignmentgroup\":\"True\",\"hovertemplate\":\"Discipline=%{x}<br>Total=%{y}<extra></extra>\",\"legendgroup\":\"Cycling BMX Racing\",\"marker\":{\"color\":\"#ab63fa\",\"pattern\":{\"shape\":\"\"}},\"name\":\"Cycling BMX Racing\",\"offsetgroup\":\"Cycling BMX Racing\",\"orientation\":\"v\",\"showlegend\":true,\"textposition\":\"auto\",\"type\":\"bar\",\"x\":[\"Cycling BMX Racing\"],\"xaxis\":\"x\",\"y\":[48],\"yaxis\":\"y\"},{\"alignmentgroup\":\"True\",\"hovertemplate\":\"Discipline=%{x}<br>Total=%{y}<extra></extra>\",\"legendgroup\":\"Cycling Mountain Bike\",\"marker\":{\"color\":\"#FFA15A\",\"pattern\":{\"shape\":\"\"}},\"name\":\"Cycling Mountain Bike\",\"offsetgroup\":\"Cycling Mountain Bike\",\"orientation\":\"v\",\"showlegend\":true,\"textposition\":\"auto\",\"type\":\"bar\",\"x\":[\"Cycling Mountain Bike\"],\"xaxis\":\"x\",\"y\":[76],\"yaxis\":\"y\"},{\"alignmentgroup\":\"True\",\"hovertemplate\":\"Discipline=%{x}<br>Total=%{y}<extra></extra>\",\"legendgroup\":\"Cycling Road\",\"marker\":{\"color\":\"#19d3f3\",\"pattern\":{\"shape\":\"\"}},\"name\":\"Cycling Road\",\"offsetgroup\":\"Cycling Road\",\"orientation\":\"v\",\"showlegend\":true,\"textposition\":\"auto\",\"type\":\"bar\",\"x\":[\"Cycling Road\"],\"xaxis\":\"x\",\"y\":[201],\"yaxis\":\"y\"},{\"alignmentgroup\":\"True\",\"hovertemplate\":\"Discipline=%{x}<br>Total=%{y}<extra></extra>\",\"legendgroup\":\"Cycling Track\",\"marker\":{\"color\":\"#FF6692\",\"pattern\":{\"shape\":\"\"}},\"name\":\"Cycling Track\",\"offsetgroup\":\"Cycling Track\",\"orientation\":\"v\",\"showlegend\":true,\"textposition\":\"auto\",\"type\":\"bar\",\"x\":[\"Cycling Track\"],\"xaxis\":\"x\",\"y\":[189],\"yaxis\":\"y\"},{\"alignmentgroup\":\"True\",\"hovertemplate\":\"Discipline=%{x}<br>Total=%{y}<extra></extra>\",\"legendgroup\":\"Diving\",\"marker\":{\"color\":\"#B6E880\",\"pattern\":{\"shape\":\"\"}},\"name\":\"Diving\",\"offsetgroup\":\"Diving\",\"orientation\":\"v\",\"showlegend\":true,\"textposition\":\"auto\",\"type\":\"bar\",\"x\":[\"Diving\"],\"xaxis\":\"x\",\"y\":[143],\"yaxis\":\"y\"},{\"alignmentgroup\":\"True\",\"hovertemplate\":\"Discipline=%{x}<br>Total=%{y}<extra></extra>\",\"legendgroup\":\"Equestrian\",\"marker\":{\"color\":\"#FF97FF\",\"pattern\":{\"shape\":\"\"}},\"name\":\"Equestrian\",\"offsetgroup\":\"Equestrian\",\"orientation\":\"v\",\"showlegend\":true,\"textposition\":\"auto\",\"type\":\"bar\",\"x\":[\"Equestrian\"],\"xaxis\":\"x\",\"y\":[198],\"yaxis\":\"y\"},{\"alignmentgroup\":\"True\",\"hovertemplate\":\"Discipline=%{x}<br>Total=%{y}<extra></extra>\",\"legendgroup\":\"Fencing\",\"marker\":{\"color\":\"#FECB52\",\"pattern\":{\"shape\":\"\"}},\"name\":\"Fencing\",\"offsetgroup\":\"Fencing\",\"orientation\":\"v\",\"showlegend\":true,\"textposition\":\"auto\",\"type\":\"bar\",\"x\":[\"Fencing\"],\"xaxis\":\"x\",\"y\":[215],\"yaxis\":\"y\"},{\"alignmentgroup\":\"True\",\"hovertemplate\":\"Discipline=%{x}<br>Total=%{y}<extra></extra>\",\"legendgroup\":\"Football\",\"marker\":{\"color\":\"#636efa\",\"pattern\":{\"shape\":\"\"}},\"name\":\"Football\",\"offsetgroup\":\"Football\",\"orientation\":\"v\",\"showlegend\":true,\"textposition\":\"auto\",\"type\":\"bar\",\"x\":[\"Football\"],\"xaxis\":\"x\",\"y\":[608],\"yaxis\":\"y\"},{\"alignmentgroup\":\"True\",\"hovertemplate\":\"Discipline=%{x}<br>Total=%{y}<extra></extra>\",\"legendgroup\":\"Golf\",\"marker\":{\"color\":\"#EF553B\",\"pattern\":{\"shape\":\"\"}},\"name\":\"Golf\",\"offsetgroup\":\"Golf\",\"orientation\":\"v\",\"showlegend\":true,\"textposition\":\"auto\",\"type\":\"bar\",\"x\":[\"Golf\"],\"xaxis\":\"x\",\"y\":[120],\"yaxis\":\"y\"},{\"alignmentgroup\":\"True\",\"hovertemplate\":\"Discipline=%{x}<br>Total=%{y}<extra></extra>\",\"legendgroup\":\"Handball\",\"marker\":{\"color\":\"#00cc96\",\"pattern\":{\"shape\":\"\"}},\"name\":\"Handball\",\"offsetgroup\":\"Handball\",\"orientation\":\"v\",\"showlegend\":true,\"textposition\":\"auto\",\"type\":\"bar\",\"x\":[\"Handball\"],\"xaxis\":\"x\",\"y\":[336],\"yaxis\":\"y\"},{\"alignmentgroup\":\"True\",\"hovertemplate\":\"Discipline=%{x}<br>Total=%{y}<extra></extra>\",\"legendgroup\":\"Hockey\",\"marker\":{\"color\":\"#ab63fa\",\"pattern\":{\"shape\":\"\"}},\"name\":\"Hockey\",\"offsetgroup\":\"Hockey\",\"orientation\":\"v\",\"showlegend\":true,\"textposition\":\"auto\",\"type\":\"bar\",\"x\":[\"Hockey\"],\"xaxis\":\"x\",\"y\":[384],\"yaxis\":\"y\"},{\"alignmentgroup\":\"True\",\"hovertemplate\":\"Discipline=%{x}<br>Total=%{y}<extra></extra>\",\"legendgroup\":\"Judo\",\"marker\":{\"color\":\"#FFA15A\",\"pattern\":{\"shape\":\"\"}},\"name\":\"Judo\",\"offsetgroup\":\"Judo\",\"orientation\":\"v\",\"showlegend\":true,\"textposition\":\"auto\",\"type\":\"bar\",\"x\":[\"Judo\"],\"xaxis\":\"x\",\"y\":[393],\"yaxis\":\"y\"},{\"alignmentgroup\":\"True\",\"hovertemplate\":\"Discipline=%{x}<br>Total=%{y}<extra></extra>\",\"legendgroup\":\"Karate\",\"marker\":{\"color\":\"#19d3f3\",\"pattern\":{\"shape\":\"\"}},\"name\":\"Karate\",\"offsetgroup\":\"Karate\",\"orientation\":\"v\",\"showlegend\":true,\"textposition\":\"auto\",\"type\":\"bar\",\"x\":[\"Karate\"],\"xaxis\":\"x\",\"y\":[82],\"yaxis\":\"y\"},{\"alignmentgroup\":\"True\",\"hovertemplate\":\"Discipline=%{x}<br>Total=%{y}<extra></extra>\",\"legendgroup\":\"Marathon Swimming\",\"marker\":{\"color\":\"#FF6692\",\"pattern\":{\"shape\":\"\"}},\"name\":\"Marathon Swimming\",\"offsetgroup\":\"Marathon Swimming\",\"orientation\":\"v\",\"showlegend\":true,\"textposition\":\"auto\",\"type\":\"bar\",\"x\":[\"Marathon Swimming\"],\"xaxis\":\"x\",\"y\":[50],\"yaxis\":\"y\"},{\"alignmentgroup\":\"True\",\"hovertemplate\":\"Discipline=%{x}<br>Total=%{y}<extra></extra>\",\"legendgroup\":\"Modern Pentathlon\",\"marker\":{\"color\":\"#B6E880\",\"pattern\":{\"shape\":\"\"}},\"name\":\"Modern Pentathlon\",\"offsetgroup\":\"Modern Pentathlon\",\"orientation\":\"v\",\"showlegend\":true,\"textposition\":\"auto\",\"type\":\"bar\",\"x\":[\"Modern Pentathlon\"],\"xaxis\":\"x\",\"y\":[72],\"yaxis\":\"y\"},{\"alignmentgroup\":\"True\",\"hovertemplate\":\"Discipline=%{x}<br>Total=%{y}<extra></extra>\",\"legendgroup\":\"Rhythmic Gymnastics\",\"marker\":{\"color\":\"#FF97FF\",\"pattern\":{\"shape\":\"\"}},\"name\":\"Rhythmic Gymnastics\",\"offsetgroup\":\"Rhythmic Gymnastics\",\"orientation\":\"v\",\"showlegend\":true,\"textposition\":\"auto\",\"type\":\"bar\",\"x\":[\"Rhythmic Gymnastics\"],\"xaxis\":\"x\",\"y\":[96],\"yaxis\":\"y\"},{\"alignmentgroup\":\"True\",\"hovertemplate\":\"Discipline=%{x}<br>Total=%{y}<extra></extra>\",\"legendgroup\":\"Rowing\",\"marker\":{\"color\":\"#FECB52\",\"pattern\":{\"shape\":\"\"}},\"name\":\"Rowing\",\"offsetgroup\":\"Rowing\",\"orientation\":\"v\",\"showlegend\":true,\"textposition\":\"auto\",\"type\":\"bar\",\"x\":[\"Rowing\"],\"xaxis\":\"x\",\"y\":[522],\"yaxis\":\"y\"},{\"alignmentgroup\":\"True\",\"hovertemplate\":\"Discipline=%{x}<br>Total=%{y}<extra></extra>\",\"legendgroup\":\"Rugby Sevens\",\"marker\":{\"color\":\"#636efa\",\"pattern\":{\"shape\":\"\"}},\"name\":\"Rugby Sevens\",\"offsetgroup\":\"Rugby Sevens\",\"orientation\":\"v\",\"showlegend\":true,\"textposition\":\"auto\",\"type\":\"bar\",\"x\":[\"Rugby Sevens\"],\"xaxis\":\"x\",\"y\":[297],\"yaxis\":\"y\"},{\"alignmentgroup\":\"True\",\"hovertemplate\":\"Discipline=%{x}<br>Total=%{y}<extra></extra>\",\"legendgroup\":\"Sailing\",\"marker\":{\"color\":\"#EF553B\",\"pattern\":{\"shape\":\"\"}},\"name\":\"Sailing\",\"offsetgroup\":\"Sailing\",\"orientation\":\"v\",\"showlegend\":true,\"textposition\":\"auto\",\"type\":\"bar\",\"x\":[\"Sailing\"],\"xaxis\":\"x\",\"y\":[350],\"yaxis\":\"y\"},{\"alignmentgroup\":\"True\",\"hovertemplate\":\"Discipline=%{x}<br>Total=%{y}<extra></extra>\",\"legendgroup\":\"Shooting\",\"marker\":{\"color\":\"#00cc96\",\"pattern\":{\"shape\":\"\"}},\"name\":\"Shooting\",\"offsetgroup\":\"Shooting\",\"orientation\":\"v\",\"showlegend\":true,\"textposition\":\"auto\",\"type\":\"bar\",\"x\":[\"Shooting\"],\"xaxis\":\"x\",\"y\":[356],\"yaxis\":\"y\"},{\"alignmentgroup\":\"True\",\"hovertemplate\":\"Discipline=%{x}<br>Total=%{y}<extra></extra>\",\"legendgroup\":\"Skateboarding\",\"marker\":{\"color\":\"#ab63fa\",\"pattern\":{\"shape\":\"\"}},\"name\":\"Skateboarding\",\"offsetgroup\":\"Skateboarding\",\"orientation\":\"v\",\"showlegend\":true,\"textposition\":\"auto\",\"type\":\"bar\",\"x\":[\"Skateboarding\"],\"xaxis\":\"x\",\"y\":[80],\"yaxis\":\"y\"},{\"alignmentgroup\":\"True\",\"hovertemplate\":\"Discipline=%{x}<br>Total=%{y}<extra></extra>\",\"legendgroup\":\"Sport Climbing\",\"marker\":{\"color\":\"#FFA15A\",\"pattern\":{\"shape\":\"\"}},\"name\":\"Sport Climbing\",\"offsetgroup\":\"Sport Climbing\",\"orientation\":\"v\",\"showlegend\":true,\"textposition\":\"auto\",\"type\":\"bar\",\"x\":[\"Sport Climbing\"],\"xaxis\":\"x\",\"y\":[40],\"yaxis\":\"y\"},{\"alignmentgroup\":\"True\",\"hovertemplate\":\"Discipline=%{x}<br>Total=%{y}<extra></extra>\",\"legendgroup\":\"Surfing\",\"marker\":{\"color\":\"#19d3f3\",\"pattern\":{\"shape\":\"\"}},\"name\":\"Surfing\",\"offsetgroup\":\"Surfing\",\"orientation\":\"v\",\"showlegend\":true,\"textposition\":\"auto\",\"type\":\"bar\",\"x\":[\"Surfing\"],\"xaxis\":\"x\",\"y\":[40],\"yaxis\":\"y\"},{\"alignmentgroup\":\"True\",\"hovertemplate\":\"Discipline=%{x}<br>Total=%{y}<extra></extra>\",\"legendgroup\":\"Swimming\",\"marker\":{\"color\":\"#FF6692\",\"pattern\":{\"shape\":\"\"}},\"name\":\"Swimming\",\"offsetgroup\":\"Swimming\",\"orientation\":\"v\",\"showlegend\":true,\"textposition\":\"auto\",\"type\":\"bar\",\"x\":[\"Swimming\"],\"xaxis\":\"x\",\"y\":[779],\"yaxis\":\"y\"},{\"alignmentgroup\":\"True\",\"hovertemplate\":\"Discipline=%{x}<br>Total=%{y}<extra></extra>\",\"legendgroup\":\"Table Tennis\",\"marker\":{\"color\":\"#B6E880\",\"pattern\":{\"shape\":\"\"}},\"name\":\"Table Tennis\",\"offsetgroup\":\"Table Tennis\",\"orientation\":\"v\",\"showlegend\":true,\"textposition\":\"auto\",\"type\":\"bar\",\"x\":[\"Table Tennis\"],\"xaxis\":\"x\",\"y\":[172],\"yaxis\":\"y\"},{\"alignmentgroup\":\"True\",\"hovertemplate\":\"Discipline=%{x}<br>Total=%{y}<extra></extra>\",\"legendgroup\":\"Taekwondo\",\"marker\":{\"color\":\"#FF97FF\",\"pattern\":{\"shape\":\"\"}},\"name\":\"Taekwondo\",\"offsetgroup\":\"Taekwondo\",\"orientation\":\"v\",\"showlegend\":true,\"textposition\":\"auto\",\"type\":\"bar\",\"x\":[\"Taekwondo\"],\"xaxis\":\"x\",\"y\":[130],\"yaxis\":\"y\"},{\"alignmentgroup\":\"True\",\"hovertemplate\":\"Discipline=%{x}<br>Total=%{y}<extra></extra>\",\"legendgroup\":\"Tennis\",\"marker\":{\"color\":\"#FECB52\",\"pattern\":{\"shape\":\"\"}},\"name\":\"Tennis\",\"offsetgroup\":\"Tennis\",\"orientation\":\"v\",\"showlegend\":true,\"textposition\":\"auto\",\"type\":\"bar\",\"x\":[\"Tennis\"],\"xaxis\":\"x\",\"y\":[191],\"yaxis\":\"y\"},{\"alignmentgroup\":\"True\",\"hovertemplate\":\"Discipline=%{x}<br>Total=%{y}<extra></extra>\",\"legendgroup\":\"Trampoline Gymnastics\",\"marker\":{\"color\":\"#636efa\",\"pattern\":{\"shape\":\"\"}},\"name\":\"Trampoline Gymnastics\",\"offsetgroup\":\"Trampoline Gymnastics\",\"orientation\":\"v\",\"showlegend\":true,\"textposition\":\"auto\",\"type\":\"bar\",\"x\":[\"Trampoline Gymnastics\"],\"xaxis\":\"x\",\"y\":[32],\"yaxis\":\"y\"},{\"alignmentgroup\":\"True\",\"hovertemplate\":\"Discipline=%{x}<br>Total=%{y}<extra></extra>\",\"legendgroup\":\"Triathlon\",\"marker\":{\"color\":\"#EF553B\",\"pattern\":{\"shape\":\"\"}},\"name\":\"Triathlon\",\"offsetgroup\":\"Triathlon\",\"orientation\":\"v\",\"showlegend\":true,\"textposition\":\"auto\",\"type\":\"bar\",\"x\":[\"Triathlon\"],\"xaxis\":\"x\",\"y\":[110],\"yaxis\":\"y\"},{\"alignmentgroup\":\"True\",\"hovertemplate\":\"Discipline=%{x}<br>Total=%{y}<extra></extra>\",\"legendgroup\":\"Volleyball\",\"marker\":{\"color\":\"#00cc96\",\"pattern\":{\"shape\":\"\"}},\"name\":\"Volleyball\",\"offsetgroup\":\"Volleyball\",\"orientation\":\"v\",\"showlegend\":true,\"textposition\":\"auto\",\"type\":\"bar\",\"x\":[\"Volleyball\"],\"xaxis\":\"x\",\"y\":[288],\"yaxis\":\"y\"},{\"alignmentgroup\":\"True\",\"hovertemplate\":\"Discipline=%{x}<br>Total=%{y}<extra></extra>\",\"legendgroup\":\"Water Polo\",\"marker\":{\"color\":\"#ab63fa\",\"pattern\":{\"shape\":\"\"}},\"name\":\"Water Polo\",\"offsetgroup\":\"Water Polo\",\"orientation\":\"v\",\"showlegend\":true,\"textposition\":\"auto\",\"type\":\"bar\",\"x\":[\"Water Polo\"],\"xaxis\":\"x\",\"y\":[268],\"yaxis\":\"y\"},{\"alignmentgroup\":\"True\",\"hovertemplate\":\"Discipline=%{x}<br>Total=%{y}<extra></extra>\",\"legendgroup\":\"Weightlifting\",\"marker\":{\"color\":\"#FFA15A\",\"pattern\":{\"shape\":\"\"}},\"name\":\"Weightlifting\",\"offsetgroup\":\"Weightlifting\",\"orientation\":\"v\",\"showlegend\":true,\"textposition\":\"auto\",\"type\":\"bar\",\"x\":[\"Weightlifting\"],\"xaxis\":\"x\",\"y\":[197],\"yaxis\":\"y\"},{\"alignmentgroup\":\"True\",\"hovertemplate\":\"Discipline=%{x}<br>Total=%{y}<extra></extra>\",\"legendgroup\":\"Wrestling\",\"marker\":{\"color\":\"#19d3f3\",\"pattern\":{\"shape\":\"\"}},\"name\":\"Wrestling\",\"offsetgroup\":\"Wrestling\",\"orientation\":\"v\",\"showlegend\":true,\"textposition\":\"auto\",\"type\":\"bar\",\"x\":[\"Wrestling\"],\"xaxis\":\"x\",\"y\":[289],\"yaxis\":\"y\"}],                        {\"barmode\":\"relative\",\"legend\":{\"title\":{\"text\":\"Discipline\"},\"tracegroupgap\":0},\"template\":{\"data\":{\"bar\":[{\"error_x\":{\"color\":\"#2a3f5f\"},\"error_y\":{\"color\":\"#2a3f5f\"},\"marker\":{\"line\":{\"color\":\"#E5ECF6\",\"width\":0.5},\"pattern\":{\"fillmode\":\"overlay\",\"size\":10,\"solidity\":0.2}},\"type\":\"bar\"}],\"barpolar\":[{\"marker\":{\"line\":{\"color\":\"#E5ECF6\",\"width\":0.5},\"pattern\":{\"fillmode\":\"overlay\",\"size\":10,\"solidity\":0.2}},\"type\":\"barpolar\"}],\"carpet\":[{\"aaxis\":{\"endlinecolor\":\"#2a3f5f\",\"gridcolor\":\"white\",\"linecolor\":\"white\",\"minorgridcolor\":\"white\",\"startlinecolor\":\"#2a3f5f\"},\"baxis\":{\"endlinecolor\":\"#2a3f5f\",\"gridcolor\":\"white\",\"linecolor\":\"white\",\"minorgridcolor\":\"white\",\"startlinecolor\":\"#2a3f5f\"},\"type\":\"carpet\"}],\"choropleth\":[{\"colorbar\":{\"outlinewidth\":0,\"ticks\":\"\"},\"type\":\"choropleth\"}],\"contour\":[{\"colorbar\":{\"outlinewidth\":0,\"ticks\":\"\"},\"colorscale\":[[0.0,\"#0d0887\"],[0.1111111111111111,\"#46039f\"],[0.2222222222222222,\"#7201a8\"],[0.3333333333333333,\"#9c179e\"],[0.4444444444444444,\"#bd3786\"],[0.5555555555555556,\"#d8576b\"],[0.6666666666666666,\"#ed7953\"],[0.7777777777777778,\"#fb9f3a\"],[0.8888888888888888,\"#fdca26\"],[1.0,\"#f0f921\"]],\"type\":\"contour\"}],\"contourcarpet\":[{\"colorbar\":{\"outlinewidth\":0,\"ticks\":\"\"},\"type\":\"contourcarpet\"}],\"heatmap\":[{\"colorbar\":{\"outlinewidth\":0,\"ticks\":\"\"},\"colorscale\":[[0.0,\"#0d0887\"],[0.1111111111111111,\"#46039f\"],[0.2222222222222222,\"#7201a8\"],[0.3333333333333333,\"#9c179e\"],[0.4444444444444444,\"#bd3786\"],[0.5555555555555556,\"#d8576b\"],[0.6666666666666666,\"#ed7953\"],[0.7777777777777778,\"#fb9f3a\"],[0.8888888888888888,\"#fdca26\"],[1.0,\"#f0f921\"]],\"type\":\"heatmap\"}],\"heatmapgl\":[{\"colorbar\":{\"outlinewidth\":0,\"ticks\":\"\"},\"colorscale\":[[0.0,\"#0d0887\"],[0.1111111111111111,\"#46039f\"],[0.2222222222222222,\"#7201a8\"],[0.3333333333333333,\"#9c179e\"],[0.4444444444444444,\"#bd3786\"],[0.5555555555555556,\"#d8576b\"],[0.6666666666666666,\"#ed7953\"],[0.7777777777777778,\"#fb9f3a\"],[0.8888888888888888,\"#fdca26\"],[1.0,\"#f0f921\"]],\"type\":\"heatmapgl\"}],\"histogram\":[{\"marker\":{\"pattern\":{\"fillmode\":\"overlay\",\"size\":10,\"solidity\":0.2}},\"type\":\"histogram\"}],\"histogram2d\":[{\"colorbar\":{\"outlinewidth\":0,\"ticks\":\"\"},\"colorscale\":[[0.0,\"#0d0887\"],[0.1111111111111111,\"#46039f\"],[0.2222222222222222,\"#7201a8\"],[0.3333333333333333,\"#9c179e\"],[0.4444444444444444,\"#bd3786\"],[0.5555555555555556,\"#d8576b\"],[0.6666666666666666,\"#ed7953\"],[0.7777777777777778,\"#fb9f3a\"],[0.8888888888888888,\"#fdca26\"],[1.0,\"#f0f921\"]],\"type\":\"histogram2d\"}],\"histogram2dcontour\":[{\"colorbar\":{\"outlinewidth\":0,\"ticks\":\"\"},\"colorscale\":[[0.0,\"#0d0887\"],[0.1111111111111111,\"#46039f\"],[0.2222222222222222,\"#7201a8\"],[0.3333333333333333,\"#9c179e\"],[0.4444444444444444,\"#bd3786\"],[0.5555555555555556,\"#d8576b\"],[0.6666666666666666,\"#ed7953\"],[0.7777777777777778,\"#fb9f3a\"],[0.8888888888888888,\"#fdca26\"],[1.0,\"#f0f921\"]],\"type\":\"histogram2dcontour\"}],\"mesh3d\":[{\"colorbar\":{\"outlinewidth\":0,\"ticks\":\"\"},\"type\":\"mesh3d\"}],\"parcoords\":[{\"line\":{\"colorbar\":{\"outlinewidth\":0,\"ticks\":\"\"}},\"type\":\"parcoords\"}],\"pie\":[{\"automargin\":true,\"type\":\"pie\"}],\"scatter\":[{\"marker\":{\"colorbar\":{\"outlinewidth\":0,\"ticks\":\"\"}},\"type\":\"scatter\"}],\"scatter3d\":[{\"line\":{\"colorbar\":{\"outlinewidth\":0,\"ticks\":\"\"}},\"marker\":{\"colorbar\":{\"outlinewidth\":0,\"ticks\":\"\"}},\"type\":\"scatter3d\"}],\"scattercarpet\":[{\"marker\":{\"colorbar\":{\"outlinewidth\":0,\"ticks\":\"\"}},\"type\":\"scattercarpet\"}],\"scattergeo\":[{\"marker\":{\"colorbar\":{\"outlinewidth\":0,\"ticks\":\"\"}},\"type\":\"scattergeo\"}],\"scattergl\":[{\"marker\":{\"colorbar\":{\"outlinewidth\":0,\"ticks\":\"\"}},\"type\":\"scattergl\"}],\"scattermapbox\":[{\"marker\":{\"colorbar\":{\"outlinewidth\":0,\"ticks\":\"\"}},\"type\":\"scattermapbox\"}],\"scatterpolar\":[{\"marker\":{\"colorbar\":{\"outlinewidth\":0,\"ticks\":\"\"}},\"type\":\"scatterpolar\"}],\"scatterpolargl\":[{\"marker\":{\"colorbar\":{\"outlinewidth\":0,\"ticks\":\"\"}},\"type\":\"scatterpolargl\"}],\"scatterternary\":[{\"marker\":{\"colorbar\":{\"outlinewidth\":0,\"ticks\":\"\"}},\"type\":\"scatterternary\"}],\"surface\":[{\"colorbar\":{\"outlinewidth\":0,\"ticks\":\"\"},\"colorscale\":[[0.0,\"#0d0887\"],[0.1111111111111111,\"#46039f\"],[0.2222222222222222,\"#7201a8\"],[0.3333333333333333,\"#9c179e\"],[0.4444444444444444,\"#bd3786\"],[0.5555555555555556,\"#d8576b\"],[0.6666666666666666,\"#ed7953\"],[0.7777777777777778,\"#fb9f3a\"],[0.8888888888888888,\"#fdca26\"],[1.0,\"#f0f921\"]],\"type\":\"surface\"}],\"table\":[{\"cells\":{\"fill\":{\"color\":\"#EBF0F8\"},\"line\":{\"color\":\"white\"}},\"header\":{\"fill\":{\"color\":\"#C8D4E3\"},\"line\":{\"color\":\"white\"}},\"type\":\"table\"}]},\"layout\":{\"annotationdefaults\":{\"arrowcolor\":\"#2a3f5f\",\"arrowhead\":0,\"arrowwidth\":1},\"autotypenumbers\":\"strict\",\"coloraxis\":{\"colorbar\":{\"outlinewidth\":0,\"ticks\":\"\"}},\"colorscale\":{\"diverging\":[[0,\"#8e0152\"],[0.1,\"#c51b7d\"],[0.2,\"#de77ae\"],[0.3,\"#f1b6da\"],[0.4,\"#fde0ef\"],[0.5,\"#f7f7f7\"],[0.6,\"#e6f5d0\"],[0.7,\"#b8e186\"],[0.8,\"#7fbc41\"],[0.9,\"#4d9221\"],[1,\"#276419\"]],\"sequential\":[[0.0,\"#0d0887\"],[0.1111111111111111,\"#46039f\"],[0.2222222222222222,\"#7201a8\"],[0.3333333333333333,\"#9c179e\"],[0.4444444444444444,\"#bd3786\"],[0.5555555555555556,\"#d8576b\"],[0.6666666666666666,\"#ed7953\"],[0.7777777777777778,\"#fb9f3a\"],[0.8888888888888888,\"#fdca26\"],[1.0,\"#f0f921\"]],\"sequentialminus\":[[0.0,\"#0d0887\"],[0.1111111111111111,\"#46039f\"],[0.2222222222222222,\"#7201a8\"],[0.3333333333333333,\"#9c179e\"],[0.4444444444444444,\"#bd3786\"],[0.5555555555555556,\"#d8576b\"],[0.6666666666666666,\"#ed7953\"],[0.7777777777777778,\"#fb9f3a\"],[0.8888888888888888,\"#fdca26\"],[1.0,\"#f0f921\"]]},\"colorway\":[\"#636efa\",\"#EF553B\",\"#00cc96\",\"#ab63fa\",\"#FFA15A\",\"#19d3f3\",\"#FF6692\",\"#B6E880\",\"#FF97FF\",\"#FECB52\"],\"font\":{\"color\":\"#2a3f5f\"},\"geo\":{\"bgcolor\":\"white\",\"lakecolor\":\"white\",\"landcolor\":\"#E5ECF6\",\"showlakes\":true,\"showland\":true,\"subunitcolor\":\"white\"},\"hoverlabel\":{\"align\":\"left\"},\"hovermode\":\"closest\",\"mapbox\":{\"style\":\"light\"},\"paper_bgcolor\":\"white\",\"plot_bgcolor\":\"#E5ECF6\",\"polar\":{\"angularaxis\":{\"gridcolor\":\"white\",\"linecolor\":\"white\",\"ticks\":\"\"},\"bgcolor\":\"#E5ECF6\",\"radialaxis\":{\"gridcolor\":\"white\",\"linecolor\":\"white\",\"ticks\":\"\"}},\"scene\":{\"xaxis\":{\"backgroundcolor\":\"#E5ECF6\",\"gridcolor\":\"white\",\"gridwidth\":2,\"linecolor\":\"white\",\"showbackground\":true,\"ticks\":\"\",\"zerolinecolor\":\"white\"},\"yaxis\":{\"backgroundcolor\":\"#E5ECF6\",\"gridcolor\":\"white\",\"gridwidth\":2,\"linecolor\":\"white\",\"showbackground\":true,\"ticks\":\"\",\"zerolinecolor\":\"white\"},\"zaxis\":{\"backgroundcolor\":\"#E5ECF6\",\"gridcolor\":\"white\",\"gridwidth\":2,\"linecolor\":\"white\",\"showbackground\":true,\"ticks\":\"\",\"zerolinecolor\":\"white\"}},\"shapedefaults\":{\"line\":{\"color\":\"#2a3f5f\"}},\"ternary\":{\"aaxis\":{\"gridcolor\":\"white\",\"linecolor\":\"white\",\"ticks\":\"\"},\"baxis\":{\"gridcolor\":\"white\",\"linecolor\":\"white\",\"ticks\":\"\"},\"bgcolor\":\"#E5ECF6\",\"caxis\":{\"gridcolor\":\"white\",\"linecolor\":\"white\",\"ticks\":\"\"}},\"title\":{\"x\":0.05},\"xaxis\":{\"automargin\":true,\"gridcolor\":\"white\",\"linecolor\":\"white\",\"ticks\":\"\",\"title\":{\"standoff\":15},\"zerolinecolor\":\"white\",\"zerolinewidth\":2},\"yaxis\":{\"automargin\":true,\"gridcolor\":\"white\",\"linecolor\":\"white\",\"ticks\":\"\",\"title\":{\"standoff\":15},\"zerolinecolor\":\"white\",\"zerolinewidth\":2}}},\"title\":{\"text\":\"Total participants in each Discipline : \"},\"xaxis\":{\"anchor\":\"y\",\"categoryarray\":[\"3x3 Basketball\",\"Archery\",\"Artistic Gymnastics\",\"Artistic Swimming\",\"Athletics\",\"Badminton\",\"Baseball/Softball\",\"Basketball\",\"Beach Volleyball\",\"Boxing\",\"Canoe Slalom\",\"Canoe Sprint\",\"Cycling BMX Freestyle\",\"Cycling BMX Racing\",\"Cycling Mountain Bike\",\"Cycling Road\",\"Cycling Track\",\"Diving\",\"Equestrian\",\"Fencing\",\"Football\",\"Golf\",\"Handball\",\"Hockey\",\"Judo\",\"Karate\",\"Marathon Swimming\",\"Modern Pentathlon\",\"Rhythmic Gymnastics\",\"Rowing\",\"Rugby Sevens\",\"Sailing\",\"Shooting\",\"Skateboarding\",\"Sport Climbing\",\"Surfing\",\"Swimming\",\"Table Tennis\",\"Taekwondo\",\"Tennis\",\"Trampoline Gymnastics\",\"Triathlon\",\"Volleyball\",\"Water Polo\",\"Weightlifting\",\"Wrestling\"],\"categoryorder\":\"array\",\"domain\":[0.0,1.0],\"title\":{\"text\":\"Discipline\"}},\"yaxis\":{\"anchor\":\"x\",\"domain\":[0.0,1.0],\"title\":{\"text\":\"Total\"}}},                        {\"responsive\": true}                    ).then(function(){\n",
       "                            \n",
       "var gd = document.getElementById('444b8ef5-365a-4e35-bfce-36ffaf0e7192');\n",
       "var x = new MutationObserver(function (mutations, observer) {{\n",
       "        var display = window.getComputedStyle(gd).display;\n",
       "        if (!display || display === 'none') {{\n",
       "            console.log([gd, 'removed!']);\n",
       "            Plotly.purge(gd);\n",
       "            observer.disconnect();\n",
       "        }}\n",
       "}});\n",
       "\n",
       "// Listen for the removal of the full notebook cells\n",
       "var notebookContainer = gd.closest('#notebook-container');\n",
       "if (notebookContainer) {{\n",
       "    x.observe(notebookContainer, {childList: true});\n",
       "}}\n",
       "\n",
       "// Listen for the clearing of the current output cell\n",
       "var outputEl = gd.closest('.output');\n",
       "if (outputEl) {{\n",
       "    x.observe(outputEl, {childList: true});\n",
       "}}\n",
       "\n",
       "                        })                };                });            </script>        </div>"
      ]
     },
     "metadata": {},
     "output_type": "display_data"
    }
   ],
   "source": [
    "px.bar(df_entries_gender, x=\"Discipline\", y=\"Total\", color=\"Discipline\", title=\"Total participants in each Discipline : \")"
   ]
  },
  {
   "cell_type": "markdown",
   "id": "a722df70",
   "metadata": {
    "papermill": {
     "duration": 0.036977,
     "end_time": "2023-07-29T06:46:35.830926",
     "exception": false,
     "start_time": "2023-07-29T06:46:35.793949",
     "status": "completed"
    },
    "tags": []
   },
   "source": [
    "# Note :\n",
    "\n",
    "* **Atheletics** has **maximum number of participants**.\n",
    "\n",
    "* **Swimming** has **second highest number of participants**.\n",
    "\n",
    "* **Cycling** has **minimum number of participants**."
   ]
  },
  {
   "cell_type": "code",
   "execution_count": 17,
   "id": "3095408f",
   "metadata": {
    "execution": {
     "iopub.execute_input": "2023-07-29T06:46:35.915068Z",
     "iopub.status.busy": "2023-07-29T06:46:35.913960Z",
     "iopub.status.idle": "2023-07-29T06:46:36.382456Z",
     "shell.execute_reply": "2023-07-29T06:46:36.382989Z",
     "shell.execute_reply.started": "2023-07-29T06:42:36.528300Z"
    },
    "papermill": {
     "duration": 0.515989,
     "end_time": "2023-07-29T06:46:36.383207",
     "exception": false,
     "start_time": "2023-07-29T06:46:35.867218",
     "status": "completed"
    },
    "tags": []
   },
   "outputs": [
    {
     "data": {
      "text/html": [
       "<div>                            <div id=\"d30d68bb-576b-4b33-8f7d-e9dcfcd5bfa7\" class=\"plotly-graph-div\" style=\"height:525px; width:100%;\"></div>            <script type=\"text/javascript\">                require([\"plotly\"], function(Plotly) {                    window.PLOTLYENV=window.PLOTLYENV || {};                                    if (document.getElementById(\"d30d68bb-576b-4b33-8f7d-e9dcfcd5bfa7\")) {                    Plotly.newPlot(                        \"d30d68bb-576b-4b33-8f7d-e9dcfcd5bfa7\",                        [{\"colorscale\":[[0.0,\"#636efa\"],[1.0,\"#636efa\"]],\"geo\":\"geo\",\"hovertemplate\":\"<b>%{hovertext}</b><br><br>Team/NOC=%{location}<extra></extra>\",\"hovertext\":[113.0],\"locationmode\":\"country names\",\"locations\":[\"United States of America\"],\"name\":\"United States of America\",\"showlegend\":true,\"showscale\":false,\"type\":\"choropleth\",\"z\":[1]},{\"colorscale\":[[0.0,\"#EF553B\"],[1.0,\"#EF553B\"]],\"geo\":\"geo\",\"hovertemplate\":\"<b>%{hovertext}</b><br><br>Team/NOC=%{location}<extra></extra>\",\"hovertext\":[88.0],\"locationmode\":\"country names\",\"locations\":[\"People's Republic of China\"],\"name\":\"People's Republic of China\",\"showlegend\":true,\"showscale\":false,\"type\":\"choropleth\",\"z\":[1]},{\"colorscale\":[[0.0,\"#00cc96\"],[1.0,\"#00cc96\"]],\"geo\":\"geo\",\"hovertemplate\":\"<b>%{hovertext}</b><br><br>Team/NOC=%{location}<extra></extra>\",\"hovertext\":[58.0],\"locationmode\":\"country names\",\"locations\":[\"Japan\"],\"name\":\"Japan\",\"showlegend\":true,\"showscale\":false,\"type\":\"choropleth\",\"z\":[1]},{\"colorscale\":[[0.0,\"#ab63fa\"],[1.0,\"#ab63fa\"]],\"geo\":\"geo\",\"hovertemplate\":\"<b>%{hovertext}</b><br><br>Team/NOC=%{location}<extra></extra>\",\"hovertext\":[65.0],\"locationmode\":\"country names\",\"locations\":[\"Great Britain\"],\"name\":\"Great Britain\",\"showlegend\":true,\"showscale\":false,\"type\":\"choropleth\",\"z\":[1]},{\"colorscale\":[[0.0,\"#FFA15A\"],[1.0,\"#FFA15A\"]],\"geo\":\"geo\",\"hovertemplate\":\"<b>%{hovertext}</b><br><br>Team/NOC=%{location}<extra></extra>\",\"hovertext\":[71.0],\"locationmode\":\"country names\",\"locations\":[\"ROC\"],\"name\":\"ROC\",\"showlegend\":true,\"showscale\":false,\"type\":\"choropleth\",\"z\":[1]},{\"colorscale\":[[0.0,\"#19d3f3\"],[1.0,\"#19d3f3\"]],\"geo\":\"geo\",\"hovertemplate\":\"<b>%{hovertext}</b><br><br>Team/NOC=%{location}<extra></extra>\",\"hovertext\":[46.0],\"locationmode\":\"country names\",\"locations\":[\"Australia\"],\"name\":\"Australia\",\"showlegend\":true,\"showscale\":false,\"type\":\"choropleth\",\"z\":[1]},{\"colorscale\":[[0.0,\"#FF6692\"],[1.0,\"#FF6692\"]],\"geo\":\"geo\",\"hovertemplate\":\"<b>%{hovertext}</b><br><br>Team/NOC=%{location}<extra></extra>\",\"hovertext\":[36.0],\"locationmode\":\"country names\",\"locations\":[\"Netherlands\"],\"name\":\"Netherlands\",\"showlegend\":true,\"showscale\":false,\"type\":\"choropleth\",\"z\":[1]},{\"colorscale\":[[0.0,\"#B6E880\"],[1.0,\"#B6E880\"]],\"geo\":\"geo\",\"hovertemplate\":\"<b>%{hovertext}</b><br><br>Team/NOC=%{location}<extra></extra>\",\"hovertext\":[33.0],\"locationmode\":\"country names\",\"locations\":[\"France\"],\"name\":\"France\",\"showlegend\":true,\"showscale\":false,\"type\":\"choropleth\",\"z\":[1]},{\"colorscale\":[[0.0,\"#FF97FF\"],[1.0,\"#FF97FF\"]],\"geo\":\"geo\",\"hovertemplate\":\"<b>%{hovertext}</b><br><br>Team/NOC=%{location}<extra></extra>\",\"hovertext\":[37.0],\"locationmode\":\"country names\",\"locations\":[\"Germany\"],\"name\":\"Germany\",\"showlegend\":true,\"showscale\":false,\"type\":\"choropleth\",\"z\":[1]},{\"colorscale\":[[0.0,\"#FECB52\"],[1.0,\"#FECB52\"]],\"geo\":\"geo\",\"hovertemplate\":\"<b>%{hovertext}</b><br><br>Team/NOC=%{location}<extra></extra>\",\"hovertext\":[40.0],\"locationmode\":\"country names\",\"locations\":[\"Italy\"],\"name\":\"Italy\",\"showlegend\":true,\"showscale\":false,\"type\":\"choropleth\",\"z\":[1]},{\"colorscale\":[[0.0,\"#636efa\"],[1.0,\"#636efa\"]],\"geo\":\"geo\",\"hovertemplate\":\"<b>%{hovertext}</b><br><br>Team/NOC=%{location}<extra></extra>\",\"hovertext\":[24.0],\"locationmode\":\"country names\",\"locations\":[\"Canada\"],\"name\":\"Canada\",\"showlegend\":true,\"showscale\":false,\"type\":\"choropleth\",\"z\":[1]},{\"colorscale\":[[0.0,\"#EF553B\"],[1.0,\"#EF553B\"]],\"geo\":\"geo\",\"hovertemplate\":\"<b>%{hovertext}</b><br><br>Team/NOC=%{location}<extra></extra>\",\"hovertext\":[21.0],\"locationmode\":\"country names\",\"locations\":[\"Brazil\"],\"name\":\"Brazil\",\"showlegend\":true,\"showscale\":false,\"type\":\"choropleth\",\"z\":[1]},{\"colorscale\":[[0.0,\"#00cc96\"],[1.0,\"#00cc96\"]],\"geo\":\"geo\",\"hovertemplate\":\"<b>%{hovertext}</b><br><br>Team/NOC=%{location}<extra></extra>\",\"hovertext\":[20.0],\"locationmode\":\"country names\",\"locations\":[\"New Zealand\"],\"name\":\"New Zealand\",\"showlegend\":true,\"showscale\":false,\"type\":\"choropleth\",\"z\":[1]},{\"colorscale\":[[0.0,\"#ab63fa\"],[1.0,\"#ab63fa\"]],\"geo\":\"geo\",\"hovertemplate\":\"<b>%{hovertext}</b><br><br>Team/NOC=%{location}<extra></extra>\",\"hovertext\":[15.0],\"locationmode\":\"country names\",\"locations\":[\"Cuba\"],\"name\":\"Cuba\",\"showlegend\":true,\"showscale\":false,\"type\":\"choropleth\",\"z\":[1]},{\"colorscale\":[[0.0,\"#FFA15A\"],[1.0,\"#FFA15A\"]],\"geo\":\"geo\",\"hovertemplate\":\"<b>%{hovertext}</b><br><br>Team/NOC=%{location}<extra></extra>\",\"hovertext\":[20.0],\"locationmode\":\"country names\",\"locations\":[\"Hungary\"],\"name\":\"Hungary\",\"showlegend\":true,\"showscale\":false,\"type\":\"choropleth\",\"z\":[1]},{\"colorscale\":[[0.0,\"#19d3f3\"],[1.0,\"#19d3f3\"]],\"geo\":\"geo\",\"hovertemplate\":\"<b>%{hovertext}</b><br><br>Team/NOC=%{location}<extra></extra>\",\"hovertext\":[20.0],\"locationmode\":\"country names\",\"locations\":[\"Republic of Korea\"],\"name\":\"Republic of Korea\",\"showlegend\":true,\"showscale\":false,\"type\":\"choropleth\",\"z\":[1]},{\"colorscale\":[[0.0,\"#FF6692\"],[1.0,\"#FF6692\"]],\"geo\":\"geo\",\"hovertemplate\":\"<b>%{hovertext}</b><br><br>Team/NOC=%{location}<extra></extra>\",\"hovertext\":[14.0],\"locationmode\":\"country names\",\"locations\":[\"Poland\"],\"name\":\"Poland\",\"showlegend\":true,\"showscale\":false,\"type\":\"choropleth\",\"z\":[1]},{\"colorscale\":[[0.0,\"#B6E880\"],[1.0,\"#B6E880\"]],\"geo\":\"geo\",\"hovertemplate\":\"<b>%{hovertext}</b><br><br>Team/NOC=%{location}<extra></extra>\",\"hovertext\":[11.0],\"locationmode\":\"country names\",\"locations\":[\"Czech Republic\"],\"name\":\"Czech Republic\",\"showlegend\":true,\"showscale\":false,\"type\":\"choropleth\",\"z\":[1]},{\"colorscale\":[[0.0,\"#FF97FF\"],[1.0,\"#FF97FF\"]],\"geo\":\"geo\",\"hovertemplate\":\"<b>%{hovertext}</b><br><br>Team/NOC=%{location}<extra></extra>\",\"hovertext\":[10.0],\"locationmode\":\"country names\",\"locations\":[\"Kenya\"],\"name\":\"Kenya\",\"showlegend\":true,\"showscale\":false,\"type\":\"choropleth\",\"z\":[1]},{\"colorscale\":[[0.0,\"#FECB52\"],[1.0,\"#FECB52\"]],\"geo\":\"geo\",\"hovertemplate\":\"<b>%{hovertext}</b><br><br>Team/NOC=%{location}<extra></extra>\",\"hovertext\":[8.0],\"locationmode\":\"country names\",\"locations\":[\"Norway\"],\"name\":\"Norway\",\"showlegend\":true,\"showscale\":false,\"type\":\"choropleth\",\"z\":[1]},{\"colorscale\":[[0.0,\"#636efa\"],[1.0,\"#636efa\"]],\"geo\":\"geo\",\"hovertemplate\":\"<b>%{hovertext}</b><br><br>Team/NOC=%{location}<extra></extra>\",\"hovertext\":[9.0],\"locationmode\":\"country names\",\"locations\":[\"Jamaica\"],\"name\":\"Jamaica\",\"showlegend\":true,\"showscale\":false,\"type\":\"choropleth\",\"z\":[1]},{\"colorscale\":[[0.0,\"#EF553B\"],[1.0,\"#EF553B\"]],\"geo\":\"geo\",\"hovertemplate\":\"<b>%{hovertext}</b><br><br>Team/NOC=%{location}<extra></extra>\",\"hovertext\":[17.0],\"locationmode\":\"country names\",\"locations\":[\"Spain\"],\"name\":\"Spain\",\"showlegend\":true,\"showscale\":false,\"type\":\"choropleth\",\"z\":[1]},{\"colorscale\":[[0.0,\"#00cc96\"],[1.0,\"#00cc96\"]],\"geo\":\"geo\",\"hovertemplate\":\"<b>%{hovertext}</b><br><br>Team/NOC=%{location}<extra></extra>\",\"hovertext\":[9.0],\"locationmode\":\"country names\",\"locations\":[\"Sweden\"],\"name\":\"Sweden\",\"showlegend\":true,\"showscale\":false,\"type\":\"choropleth\",\"z\":[1]},{\"colorscale\":[[0.0,\"#ab63fa\"],[1.0,\"#ab63fa\"]],\"geo\":\"geo\",\"hovertemplate\":\"<b>%{hovertext}</b><br><br>Team/NOC=%{location}<extra></extra>\",\"hovertext\":[13.0],\"locationmode\":\"country names\",\"locations\":[\"Switzerland\"],\"name\":\"Switzerland\",\"showlegend\":true,\"showscale\":false,\"type\":\"choropleth\",\"z\":[1]},{\"colorscale\":[[0.0,\"#FFA15A\"],[1.0,\"#FFA15A\"]],\"geo\":\"geo\",\"hovertemplate\":\"<b>%{hovertext}</b><br><br>Team/NOC=%{location}<extra></extra>\",\"hovertext\":[11.0],\"locationmode\":\"country names\",\"locations\":[\"Denmark\"],\"name\":\"Denmark\",\"showlegend\":true,\"showscale\":false,\"type\":\"choropleth\",\"z\":[1]},{\"colorscale\":[[0.0,\"#19d3f3\"],[1.0,\"#19d3f3\"]],\"geo\":\"geo\",\"hovertemplate\":\"<b>%{hovertext}</b><br><br>Team/NOC=%{location}<extra></extra>\",\"hovertext\":[8.0],\"locationmode\":\"country names\",\"locations\":[\"Croatia\"],\"name\":\"Croatia\",\"showlegend\":true,\"showscale\":false,\"type\":\"choropleth\",\"z\":[1]},{\"colorscale\":[[0.0,\"#FF6692\"],[1.0,\"#FF6692\"]],\"geo\":\"geo\",\"hovertemplate\":\"<b>%{hovertext}</b><br><br>Team/NOC=%{location}<extra></extra>\",\"hovertext\":[7.0],\"locationmode\":\"country names\",\"locations\":[\"Islamic Republic of Iran\"],\"name\":\"Islamic Republic of Iran\",\"showlegend\":true,\"showscale\":false,\"type\":\"choropleth\",\"z\":[1]},{\"colorscale\":[[0.0,\"#B6E880\"],[1.0,\"#B6E880\"]],\"geo\":\"geo\",\"hovertemplate\":\"<b>%{hovertext}</b><br><br>Team/NOC=%{location}<extra></extra>\",\"hovertext\":[9.0],\"locationmode\":\"country names\",\"locations\":[\"Serbia\"],\"name\":\"Serbia\",\"showlegend\":true,\"showscale\":false,\"type\":\"choropleth\",\"z\":[1]},{\"colorscale\":[[0.0,\"#FF97FF\"],[1.0,\"#FF97FF\"]],\"geo\":\"geo\",\"hovertemplate\":\"<b>%{hovertext}</b><br><br>Team/NOC=%{location}<extra></extra>\",\"hovertext\":[7.0],\"locationmode\":\"country names\",\"locations\":[\"Belgium\"],\"name\":\"Belgium\",\"showlegend\":true,\"showscale\":false,\"type\":\"choropleth\",\"z\":[1]},{\"colorscale\":[[0.0,\"#FECB52\"],[1.0,\"#FECB52\"]],\"geo\":\"geo\",\"hovertemplate\":\"<b>%{hovertext}</b><br><br>Team/NOC=%{location}<extra></extra>\",\"hovertext\":[6.0],\"locationmode\":\"country names\",\"locations\":[\"Bulgaria\"],\"name\":\"Bulgaria\",\"showlegend\":true,\"showscale\":false,\"type\":\"choropleth\",\"z\":[1]},{\"colorscale\":[[0.0,\"#636efa\"],[1.0,\"#636efa\"]],\"geo\":\"geo\",\"hovertemplate\":\"<b>%{hovertext}</b><br><br>Team/NOC=%{location}<extra></extra>\",\"hovertext\":[5.0],\"locationmode\":\"country names\",\"locations\":[\"Slovenia\"],\"name\":\"Slovenia\",\"showlegend\":true,\"showscale\":false,\"type\":\"choropleth\",\"z\":[1]},{\"colorscale\":[[0.0,\"#EF553B\"],[1.0,\"#EF553B\"]],\"geo\":\"geo\",\"hovertemplate\":\"<b>%{hovertext}</b><br><br>Team/NOC=%{location}<extra></extra>\",\"hovertext\":[5.0],\"locationmode\":\"country names\",\"locations\":[\"Uzbekistan\"],\"name\":\"Uzbekistan\",\"showlegend\":true,\"showscale\":false,\"type\":\"choropleth\",\"z\":[1]},{\"colorscale\":[[0.0,\"#00cc96\"],[1.0,\"#00cc96\"]],\"geo\":\"geo\",\"hovertemplate\":\"<b>%{hovertext}</b><br><br>Team/NOC=%{location}<extra></extra>\",\"hovertext\":[8.0],\"locationmode\":\"country names\",\"locations\":[\"Georgia\"],\"name\":\"Georgia\",\"showlegend\":true,\"showscale\":false,\"type\":\"choropleth\",\"z\":[1]},{\"colorscale\":[[0.0,\"#ab63fa\"],[1.0,\"#ab63fa\"]],\"geo\":\"geo\",\"hovertemplate\":\"<b>%{hovertext}</b><br><br>Team/NOC=%{location}<extra></extra>\",\"hovertext\":[12.0],\"locationmode\":\"country names\",\"locations\":[\"Chinese Taipei\"],\"name\":\"Chinese Taipei\",\"showlegend\":true,\"showscale\":false,\"type\":\"choropleth\",\"z\":[1]},{\"colorscale\":[[0.0,\"#FFA15A\"],[1.0,\"#FFA15A\"]],\"geo\":\"geo\",\"hovertemplate\":\"<b>%{hovertext}</b><br><br>Team/NOC=%{location}<extra></extra>\",\"hovertext\":[13.0],\"locationmode\":\"country names\",\"locations\":[\"Turkey\"],\"name\":\"Turkey\",\"showlegend\":true,\"showscale\":false,\"type\":\"choropleth\",\"z\":[1]},{\"colorscale\":[[0.0,\"#19d3f3\"],[1.0,\"#19d3f3\"]],\"geo\":\"geo\",\"hovertemplate\":\"<b>%{hovertext}</b><br><br>Team/NOC=%{location}<extra></extra>\",\"hovertext\":[4.0],\"locationmode\":\"country names\",\"locations\":[\"Greece\"],\"name\":\"Greece\",\"showlegend\":true,\"showscale\":false,\"type\":\"choropleth\",\"z\":[1]},{\"colorscale\":[[0.0,\"#FF6692\"],[1.0,\"#FF6692\"]],\"geo\":\"geo\",\"hovertemplate\":\"<b>%{hovertext}</b><br><br>Team/NOC=%{location}<extra></extra>\",\"hovertext\":[4.0],\"locationmode\":\"country names\",\"locations\":[\"Uganda\"],\"name\":\"Uganda\",\"showlegend\":true,\"showscale\":false,\"type\":\"choropleth\",\"z\":[1]},{\"colorscale\":[[0.0,\"#B6E880\"],[1.0,\"#B6E880\"]],\"geo\":\"geo\",\"hovertemplate\":\"<b>%{hovertext}</b><br><br>Team/NOC=%{location}<extra></extra>\",\"hovertext\":[3.0],\"locationmode\":\"country names\",\"locations\":[\"Ecuador\"],\"name\":\"Ecuador\",\"showlegend\":true,\"showscale\":false,\"type\":\"choropleth\",\"z\":[1]},{\"colorscale\":[[0.0,\"#FF97FF\"],[1.0,\"#FF97FF\"]],\"geo\":\"geo\",\"hovertemplate\":\"<b>%{hovertext}</b><br><br>Team/NOC=%{location}<extra></extra>\",\"hovertext\":[4.0],\"locationmode\":\"country names\",\"locations\":[\"Ireland\"],\"name\":\"Ireland\",\"showlegend\":true,\"showscale\":false,\"type\":\"choropleth\",\"z\":[1]},{\"colorscale\":[[0.0,\"#FECB52\"],[1.0,\"#FECB52\"]],\"geo\":\"geo\",\"hovertemplate\":\"<b>%{hovertext}</b><br><br>Team/NOC=%{location}<extra></extra>\",\"hovertext\":[4.0],\"locationmode\":\"country names\",\"locations\":[\"Israel\"],\"name\":\"Israel\",\"showlegend\":true,\"showscale\":false,\"type\":\"choropleth\",\"z\":[1]},{\"colorscale\":[[0.0,\"#636efa\"],[1.0,\"#636efa\"]],\"geo\":\"geo\",\"hovertemplate\":\"<b>%{hovertext}</b><br><br>Team/NOC=%{location}<extra></extra>\",\"hovertext\":[3.0],\"locationmode\":\"country names\",\"locations\":[\"Qatar\"],\"name\":\"Qatar\",\"showlegend\":true,\"showscale\":false,\"type\":\"choropleth\",\"z\":[1]},{\"colorscale\":[[0.0,\"#EF553B\"],[1.0,\"#EF553B\"]],\"geo\":\"geo\",\"hovertemplate\":\"<b>%{hovertext}</b><br><br>Team/NOC=%{location}<extra></extra>\",\"hovertext\":[2.0],\"locationmode\":\"country names\",\"locations\":[\"Bahamas\"],\"name\":\"Bahamas\",\"showlegend\":true,\"showscale\":false,\"type\":\"choropleth\",\"z\":[1]},{\"colorscale\":[[0.0,\"#00cc96\"],[1.0,\"#00cc96\"]],\"geo\":\"geo\",\"hovertemplate\":\"<b>%{hovertext}</b><br><br>Team/NOC=%{location}<extra></extra>\",\"hovertext\":[2.0],\"locationmode\":\"country names\",\"locations\":[\"Kosovo\"],\"name\":\"Kosovo\",\"showlegend\":true,\"showscale\":false,\"type\":\"choropleth\",\"z\":[1]},{\"colorscale\":[[0.0,\"#ab63fa\"],[1.0,\"#ab63fa\"]],\"geo\":\"geo\",\"hovertemplate\":\"<b>%{hovertext}</b><br><br>Team/NOC=%{location}<extra></extra>\",\"hovertext\":[19.0],\"locationmode\":\"country names\",\"locations\":[\"Ukraine\"],\"name\":\"Ukraine\",\"showlegend\":true,\"showscale\":false,\"type\":\"choropleth\",\"z\":[1]},{\"colorscale\":[[0.0,\"#FFA15A\"],[1.0,\"#FFA15A\"]],\"geo\":\"geo\",\"hovertemplate\":\"<b>%{hovertext}</b><br><br>Team/NOC=%{location}<extra></extra>\",\"hovertext\":[7.0],\"locationmode\":\"country names\",\"locations\":[\"Belarus\"],\"name\":\"Belarus\",\"showlegend\":true,\"showscale\":false,\"type\":\"choropleth\",\"z\":[1]},{\"colorscale\":[[0.0,\"#19d3f3\"],[1.0,\"#19d3f3\"]],\"geo\":\"geo\",\"hovertemplate\":\"<b>%{hovertext}</b><br><br>Team/NOC=%{location}<extra></extra>\",\"hovertext\":[4.0],\"locationmode\":\"country names\",\"locations\":[\"Romania\"],\"name\":\"Romania\",\"showlegend\":true,\"showscale\":false,\"type\":\"choropleth\",\"z\":[1]},{\"colorscale\":[[0.0,\"#FF6692\"],[1.0,\"#FF6692\"]],\"geo\":\"geo\",\"hovertemplate\":\"<b>%{hovertext}</b><br><br>Team/NOC=%{location}<extra></extra>\",\"hovertext\":[4.0],\"locationmode\":\"country names\",\"locations\":[\"Venezuela\"],\"name\":\"Venezuela\",\"showlegend\":true,\"showscale\":false,\"type\":\"choropleth\",\"z\":[1]},{\"colorscale\":[[0.0,\"#B6E880\"],[1.0,\"#B6E880\"]],\"geo\":\"geo\",\"hovertemplate\":\"<b>%{hovertext}</b><br><br>Team/NOC=%{location}<extra></extra>\",\"hovertext\":[7.0],\"locationmode\":\"country names\",\"locations\":[\"India\"],\"name\":\"India\",\"showlegend\":true,\"showscale\":false,\"type\":\"choropleth\",\"z\":[1]},{\"colorscale\":[[0.0,\"#FF97FF\"],[1.0,\"#FF97FF\"]],\"geo\":\"geo\",\"hovertemplate\":\"<b>%{hovertext}</b><br><br>Team/NOC=%{location}<extra></extra>\",\"hovertext\":[6.0],\"locationmode\":\"country names\",\"locations\":[\"Hong Kong, China\"],\"name\":\"Hong Kong, China\",\"showlegend\":true,\"showscale\":false,\"type\":\"choropleth\",\"z\":[1]},{\"colorscale\":[[0.0,\"#FECB52\"],[1.0,\"#FECB52\"]],\"geo\":\"geo\",\"hovertemplate\":\"<b>%{hovertext}</b><br><br>Team/NOC=%{location}<extra></extra>\",\"hovertext\":[4.0],\"locationmode\":\"country names\",\"locations\":[\"Philippines\"],\"name\":\"Philippines\",\"showlegend\":true,\"showscale\":false,\"type\":\"choropleth\",\"z\":[1]},{\"colorscale\":[[0.0,\"#636efa\"],[1.0,\"#636efa\"]],\"geo\":\"geo\",\"hovertemplate\":\"<b>%{hovertext}</b><br><br>Team/NOC=%{location}<extra></extra>\",\"hovertext\":[4.0],\"locationmode\":\"country names\",\"locations\":[\"Slovakia\"],\"name\":\"Slovakia\",\"showlegend\":true,\"showscale\":false,\"type\":\"choropleth\",\"z\":[1]},{\"colorscale\":[[0.0,\"#EF553B\"],[1.0,\"#EF553B\"]],\"geo\":\"geo\",\"hovertemplate\":\"<b>%{hovertext}</b><br><br>Team/NOC=%{location}<extra></extra>\",\"hovertext\":[3.0],\"locationmode\":\"country names\",\"locations\":[\"South Africa\"],\"name\":\"South Africa\",\"showlegend\":true,\"showscale\":false,\"type\":\"choropleth\",\"z\":[1]},{\"colorscale\":[[0.0,\"#00cc96\"],[1.0,\"#00cc96\"]],\"geo\":\"geo\",\"hovertemplate\":\"<b>%{hovertext}</b><br><br>Team/NOC=%{location}<extra></extra>\",\"hovertext\":[7.0],\"locationmode\":\"country names\",\"locations\":[\"Austria\"],\"name\":\"Austria\",\"showlegend\":true,\"showscale\":false,\"type\":\"choropleth\",\"z\":[1]},{\"colorscale\":[[0.0,\"#ab63fa\"],[1.0,\"#ab63fa\"]],\"geo\":\"geo\",\"hovertemplate\":\"<b>%{hovertext}</b><br><br>Team/NOC=%{location}<extra></extra>\",\"hovertext\":[6.0],\"locationmode\":\"country names\",\"locations\":[\"Egypt\"],\"name\":\"Egypt\",\"showlegend\":true,\"showscale\":false,\"type\":\"choropleth\",\"z\":[1]},{\"colorscale\":[[0.0,\"#FFA15A\"],[1.0,\"#FFA15A\"]],\"geo\":\"geo\",\"hovertemplate\":\"<b>%{hovertext}</b><br><br>Team/NOC=%{location}<extra></extra>\",\"hovertext\":[5.0],\"locationmode\":\"country names\",\"locations\":[\"Indonesia\"],\"name\":\"Indonesia\",\"showlegend\":true,\"showscale\":false,\"type\":\"choropleth\",\"z\":[1]},{\"colorscale\":[[0.0,\"#19d3f3\"],[1.0,\"#19d3f3\"]],\"geo\":\"geo\",\"hovertemplate\":\"<b>%{hovertext}</b><br><br>Team/NOC=%{location}<extra></extra>\",\"hovertext\":[4.0],\"locationmode\":\"country names\",\"locations\":[\"Ethiopia\"],\"name\":\"Ethiopia\",\"showlegend\":true,\"showscale\":false,\"type\":\"choropleth\",\"z\":[1]},{\"colorscale\":[[0.0,\"#FF6692\"],[1.0,\"#FF6692\"]],\"geo\":\"geo\",\"hovertemplate\":\"<b>%{hovertext}</b><br><br>Team/NOC=%{location}<extra></extra>\",\"hovertext\":[4.0],\"locationmode\":\"country names\",\"locations\":[\"Portugal\"],\"name\":\"Portugal\",\"showlegend\":true,\"showscale\":false,\"type\":\"choropleth\",\"z\":[1]},{\"colorscale\":[[0.0,\"#B6E880\"],[1.0,\"#B6E880\"]],\"geo\":\"geo\",\"hovertemplate\":\"<b>%{hovertext}</b><br><br>Team/NOC=%{location}<extra></extra>\",\"hovertext\":[2.0],\"locationmode\":\"country names\",\"locations\":[\"Tunisia\"],\"name\":\"Tunisia\",\"showlegend\":true,\"showscale\":false,\"type\":\"choropleth\",\"z\":[1]},{\"colorscale\":[[0.0,\"#FF97FF\"],[1.0,\"#FF97FF\"]],\"geo\":\"geo\",\"hovertemplate\":\"<b>%{hovertext}</b><br><br>Team/NOC=%{location}<extra></extra>\",\"hovertext\":[2.0],\"locationmode\":\"country names\",\"locations\":[\"Estonia\"],\"name\":\"Estonia\",\"showlegend\":true,\"showscale\":false,\"type\":\"choropleth\",\"z\":[1]},{\"colorscale\":[[0.0,\"#FECB52\"],[1.0,\"#FECB52\"]],\"geo\":\"geo\",\"hovertemplate\":\"<b>%{hovertext}</b><br><br>Team/NOC=%{location}<extra></extra>\",\"hovertext\":[2.0],\"locationmode\":\"country names\",\"locations\":[\"Fiji\"],\"name\":\"Fiji\",\"showlegend\":true,\"showscale\":false,\"type\":\"choropleth\",\"z\":[1]},{\"colorscale\":[[0.0,\"#636efa\"],[1.0,\"#636efa\"]],\"geo\":\"geo\",\"hovertemplate\":\"<b>%{hovertext}</b><br><br>Team/NOC=%{location}<extra></extra>\",\"hovertext\":[2.0],\"locationmode\":\"country names\",\"locations\":[\"Latvia\"],\"name\":\"Latvia\",\"showlegend\":true,\"showscale\":false,\"type\":\"choropleth\",\"z\":[1]},{\"colorscale\":[[0.0,\"#EF553B\"],[1.0,\"#EF553B\"]],\"geo\":\"geo\",\"hovertemplate\":\"<b>%{hovertext}</b><br><br>Team/NOC=%{location}<extra></extra>\",\"hovertext\":[2.0],\"locationmode\":\"country names\",\"locations\":[\"Thailand\"],\"name\":\"Thailand\",\"showlegend\":true,\"showscale\":false,\"type\":\"choropleth\",\"z\":[1]},{\"colorscale\":[[0.0,\"#00cc96\"],[1.0,\"#00cc96\"]],\"geo\":\"geo\",\"hovertemplate\":\"<b>%{hovertext}</b><br><br>Team/NOC=%{location}<extra></extra>\",\"hovertext\":[1.0],\"locationmode\":\"country names\",\"locations\":[\"Bermuda\"],\"name\":\"Bermuda\",\"showlegend\":true,\"showscale\":false,\"type\":\"choropleth\",\"z\":[1]},{\"colorscale\":[[0.0,\"#ab63fa\"],[1.0,\"#ab63fa\"]],\"geo\":\"geo\",\"hovertemplate\":\"<b>%{hovertext}</b><br><br>Team/NOC=%{location}<extra></extra>\",\"hovertext\":[1.0],\"locationmode\":\"country names\",\"locations\":[\"Morocco\"],\"name\":\"Morocco\",\"showlegend\":true,\"showscale\":false,\"type\":\"choropleth\",\"z\":[1]},{\"colorscale\":[[0.0,\"#FFA15A\"],[1.0,\"#FFA15A\"]],\"geo\":\"geo\",\"hovertemplate\":\"<b>%{hovertext}</b><br><br>Team/NOC=%{location}<extra></extra>\",\"hovertext\":[1.0],\"locationmode\":\"country names\",\"locations\":[\"Puerto Rico\"],\"name\":\"Puerto Rico\",\"showlegend\":true,\"showscale\":false,\"type\":\"choropleth\",\"z\":[1]},{\"colorscale\":[[0.0,\"#19d3f3\"],[1.0,\"#19d3f3\"]],\"geo\":\"geo\",\"hovertemplate\":\"<b>%{hovertext}</b><br><br>Team/NOC=%{location}<extra></extra>\",\"hovertext\":[5.0],\"locationmode\":\"country names\",\"locations\":[\"Colombia\"],\"name\":\"Colombia\",\"showlegend\":true,\"showscale\":false,\"type\":\"choropleth\",\"z\":[1]},{\"colorscale\":[[0.0,\"#FF6692\"],[1.0,\"#FF6692\"]],\"geo\":\"geo\",\"hovertemplate\":\"<b>%{hovertext}</b><br><br>Team/NOC=%{location}<extra></extra>\",\"hovertext\":[7.0],\"locationmode\":\"country names\",\"locations\":[\"Azerbaijan\"],\"name\":\"Azerbaijan\",\"showlegend\":true,\"showscale\":false,\"type\":\"choropleth\",\"z\":[1]},{\"colorscale\":[[0.0,\"#B6E880\"],[1.0,\"#B6E880\"]],\"geo\":\"geo\",\"hovertemplate\":\"<b>%{hovertext}</b><br><br>Team/NOC=%{location}<extra></extra>\",\"hovertext\":[5.0],\"locationmode\":\"country names\",\"locations\":[\"Dominican Republic\"],\"name\":\"Dominican Republic\",\"showlegend\":true,\"showscale\":false,\"type\":\"choropleth\",\"z\":[1]},{\"colorscale\":[[0.0,\"#FF97FF\"],[1.0,\"#FF97FF\"]],\"geo\":\"geo\",\"hovertemplate\":\"<b>%{hovertext}</b><br><br>Team/NOC=%{location}<extra></extra>\",\"hovertext\":[4.0],\"locationmode\":\"country names\",\"locations\":[\"Armenia\"],\"name\":\"Armenia\",\"showlegend\":true,\"showscale\":false,\"type\":\"choropleth\",\"z\":[1]},{\"colorscale\":[[0.0,\"#FECB52\"],[1.0,\"#FECB52\"]],\"geo\":\"geo\",\"hovertemplate\":\"<b>%{hovertext}</b><br><br>Team/NOC=%{location}<extra></extra>\",\"hovertext\":[3.0],\"locationmode\":\"country names\",\"locations\":[\"Kyrgyzstan\"],\"name\":\"Kyrgyzstan\",\"showlegend\":true,\"showscale\":false,\"type\":\"choropleth\",\"z\":[1]},{\"colorscale\":[[0.0,\"#636efa\"],[1.0,\"#636efa\"]],\"geo\":\"geo\",\"hovertemplate\":\"<b>%{hovertext}</b><br><br>Team/NOC=%{location}<extra></extra>\",\"hovertext\":[4.0],\"locationmode\":\"country names\",\"locations\":[\"Mongolia\"],\"name\":\"Mongolia\",\"showlegend\":true,\"showscale\":false,\"type\":\"choropleth\",\"z\":[1]},{\"colorscale\":[[0.0,\"#EF553B\"],[1.0,\"#EF553B\"]],\"geo\":\"geo\",\"hovertemplate\":\"<b>%{hovertext}</b><br><br>Team/NOC=%{location}<extra></extra>\",\"hovertext\":[3.0],\"locationmode\":\"country names\",\"locations\":[\"Argentina\"],\"name\":\"Argentina\",\"showlegend\":true,\"showscale\":false,\"type\":\"choropleth\",\"z\":[1]},{\"colorscale\":[[0.0,\"#00cc96\"],[1.0,\"#00cc96\"]],\"geo\":\"geo\",\"hovertemplate\":\"<b>%{hovertext}</b><br><br>Team/NOC=%{location}<extra></extra>\",\"hovertext\":[3.0],\"locationmode\":\"country names\",\"locations\":[\"San Marino\"],\"name\":\"San Marino\",\"showlegend\":true,\"showscale\":false,\"type\":\"choropleth\",\"z\":[1]},{\"colorscale\":[[0.0,\"#ab63fa\"],[1.0,\"#ab63fa\"]],\"geo\":\"geo\",\"hovertemplate\":\"<b>%{hovertext}</b><br><br>Team/NOC=%{location}<extra></extra>\",\"hovertext\":[2.0],\"locationmode\":\"country names\",\"locations\":[\"Jordan\"],\"name\":\"Jordan\",\"showlegend\":true,\"showscale\":false,\"type\":\"choropleth\",\"z\":[1]},{\"colorscale\":[[0.0,\"#FFA15A\"],[1.0,\"#FFA15A\"]],\"geo\":\"geo\",\"hovertemplate\":\"<b>%{hovertext}</b><br><br>Team/NOC=%{location}<extra></extra>\",\"hovertext\":[2.0],\"locationmode\":\"country names\",\"locations\":[\"Malaysia\"],\"name\":\"Malaysia\",\"showlegend\":true,\"showscale\":false,\"type\":\"choropleth\",\"z\":[1]},{\"colorscale\":[[0.0,\"#19d3f3\"],[1.0,\"#19d3f3\"]],\"geo\":\"geo\",\"hovertemplate\":\"<b>%{hovertext}</b><br><br>Team/NOC=%{location}<extra></extra>\",\"hovertext\":[2.0],\"locationmode\":\"country names\",\"locations\":[\"Nigeria\"],\"name\":\"Nigeria\",\"showlegend\":true,\"showscale\":false,\"type\":\"choropleth\",\"z\":[1]},{\"colorscale\":[[0.0,\"#FF6692\"],[1.0,\"#FF6692\"]],\"geo\":\"geo\",\"hovertemplate\":\"<b>%{hovertext}</b><br><br>Team/NOC=%{location}<extra></extra>\",\"hovertext\":[1.0],\"locationmode\":\"country names\",\"locations\":[\"Bahrain\"],\"name\":\"Bahrain\",\"showlegend\":true,\"showscale\":false,\"type\":\"choropleth\",\"z\":[1]},{\"colorscale\":[[0.0,\"#B6E880\"],[1.0,\"#B6E880\"]],\"geo\":\"geo\",\"hovertemplate\":\"<b>%{hovertext}</b><br><br>Team/NOC=%{location}<extra></extra>\",\"hovertext\":[1.0],\"locationmode\":\"country names\",\"locations\":[\"Saudi Arabia\"],\"name\":\"Saudi Arabia\",\"showlegend\":true,\"showscale\":false,\"type\":\"choropleth\",\"z\":[1]},{\"colorscale\":[[0.0,\"#FF97FF\"],[1.0,\"#FF97FF\"]],\"geo\":\"geo\",\"hovertemplate\":\"<b>%{hovertext}</b><br><br>Team/NOC=%{location}<extra></extra>\",\"hovertext\":[1.0],\"locationmode\":\"country names\",\"locations\":[\"Lithuania\"],\"name\":\"Lithuania\",\"showlegend\":true,\"showscale\":false,\"type\":\"choropleth\",\"z\":[1]},{\"colorscale\":[[0.0,\"#FECB52\"],[1.0,\"#FECB52\"]],\"geo\":\"geo\",\"hovertemplate\":\"<b>%{hovertext}</b><br><br>Team/NOC=%{location}<extra></extra>\",\"hovertext\":[1.0],\"locationmode\":\"country names\",\"locations\":[\"North Macedonia\"],\"name\":\"North Macedonia\",\"showlegend\":true,\"showscale\":false,\"type\":\"choropleth\",\"z\":[1]},{\"colorscale\":[[0.0,\"#636efa\"],[1.0,\"#636efa\"]],\"geo\":\"geo\",\"hovertemplate\":\"<b>%{hovertext}</b><br><br>Team/NOC=%{location}<extra></extra>\",\"hovertext\":[1.0],\"locationmode\":\"country names\",\"locations\":[\"Namibia\"],\"name\":\"Namibia\",\"showlegend\":true,\"showscale\":false,\"type\":\"choropleth\",\"z\":[1]},{\"colorscale\":[[0.0,\"#EF553B\"],[1.0,\"#EF553B\"]],\"geo\":\"geo\",\"hovertemplate\":\"<b>%{hovertext}</b><br><br>Team/NOC=%{location}<extra></extra>\",\"hovertext\":[1.0],\"locationmode\":\"country names\",\"locations\":[\"Turkmenistan\"],\"name\":\"Turkmenistan\",\"showlegend\":true,\"showscale\":false,\"type\":\"choropleth\",\"z\":[1]},{\"colorscale\":[[0.0,\"#00cc96\"],[1.0,\"#00cc96\"]],\"geo\":\"geo\",\"hovertemplate\":\"<b>%{hovertext}</b><br><br>Team/NOC=%{location}<extra></extra>\",\"hovertext\":[8.0],\"locationmode\":\"country names\",\"locations\":[\"Kazakhstan\"],\"name\":\"Kazakhstan\",\"showlegend\":true,\"showscale\":false,\"type\":\"choropleth\",\"z\":[1]},{\"colorscale\":[[0.0,\"#ab63fa\"],[1.0,\"#ab63fa\"]],\"geo\":\"geo\",\"hovertemplate\":\"<b>%{hovertext}</b><br><br>Team/NOC=%{location}<extra></extra>\",\"hovertext\":[4.0],\"locationmode\":\"country names\",\"locations\":[\"Mexico\"],\"name\":\"Mexico\",\"showlegend\":true,\"showscale\":false,\"type\":\"choropleth\",\"z\":[1]},{\"colorscale\":[[0.0,\"#FFA15A\"],[1.0,\"#FFA15A\"]],\"geo\":\"geo\",\"hovertemplate\":\"<b>%{hovertext}</b><br><br>Team/NOC=%{location}<extra></extra>\",\"hovertext\":[2.0],\"locationmode\":\"country names\",\"locations\":[\"Finland\"],\"name\":\"Finland\",\"showlegend\":true,\"showscale\":false,\"type\":\"choropleth\",\"z\":[1]},{\"colorscale\":[[0.0,\"#19d3f3\"],[1.0,\"#19d3f3\"]],\"geo\":\"geo\",\"hovertemplate\":\"<b>%{hovertext}</b><br><br>Team/NOC=%{location}<extra></extra>\",\"hovertext\":[1.0],\"locationmode\":\"country names\",\"locations\":[\"Botswana\"],\"name\":\"Botswana\",\"showlegend\":true,\"showscale\":false,\"type\":\"choropleth\",\"z\":[1]},{\"colorscale\":[[0.0,\"#FF6692\"],[1.0,\"#FF6692\"]],\"geo\":\"geo\",\"hovertemplate\":\"<b>%{hovertext}</b><br><br>Team/NOC=%{location}<extra></extra>\",\"hovertext\":[1.0],\"locationmode\":\"country names\",\"locations\":[\"Burkina Faso\"],\"name\":\"Burkina Faso\",\"showlegend\":true,\"showscale\":false,\"type\":\"choropleth\",\"z\":[1]},{\"colorscale\":[[0.0,\"#B6E880\"],[1.0,\"#B6E880\"]],\"geo\":\"geo\",\"hovertemplate\":\"<b>%{hovertext}</b><br><br>Team/NOC=%{location}<extra></extra>\",\"hovertext\":[1.0],\"locationmode\":\"country names\",\"locations\":[\"C\\u00f4te d'Ivoire\"],\"name\":\"C\\u00f4te d'Ivoire\",\"showlegend\":true,\"showscale\":false,\"type\":\"choropleth\",\"z\":[1]},{\"colorscale\":[[0.0,\"#FF97FF\"],[1.0,\"#FF97FF\"]],\"geo\":\"geo\",\"hovertemplate\":\"<b>%{hovertext}</b><br><br>Team/NOC=%{location}<extra></extra>\",\"hovertext\":[1.0],\"locationmode\":\"country names\",\"locations\":[\"Ghana\"],\"name\":\"Ghana\",\"showlegend\":true,\"showscale\":false,\"type\":\"choropleth\",\"z\":[1]},{\"colorscale\":[[0.0,\"#FECB52\"],[1.0,\"#FECB52\"]],\"geo\":\"geo\",\"hovertemplate\":\"<b>%{hovertext}</b><br><br>Team/NOC=%{location}<extra></extra>\",\"hovertext\":[1.0],\"locationmode\":\"country names\",\"locations\":[\"Grenada\"],\"name\":\"Grenada\",\"showlegend\":true,\"showscale\":false,\"type\":\"choropleth\",\"z\":[1]},{\"colorscale\":[[0.0,\"#636efa\"],[1.0,\"#636efa\"]],\"geo\":\"geo\",\"hovertemplate\":\"<b>%{hovertext}</b><br><br>Team/NOC=%{location}<extra></extra>\",\"hovertext\":[1.0],\"locationmode\":\"country names\",\"locations\":[\"Kuwait\"],\"name\":\"Kuwait\",\"showlegend\":true,\"showscale\":false,\"type\":\"choropleth\",\"z\":[1]},{\"colorscale\":[[0.0,\"#EF553B\"],[1.0,\"#EF553B\"]],\"geo\":\"geo\",\"hovertemplate\":\"<b>%{hovertext}</b><br><br>Team/NOC=%{location}<extra></extra>\",\"hovertext\":[1.0],\"locationmode\":\"country names\",\"locations\":[\"Republic of Moldova\"],\"name\":\"Republic of Moldova\",\"showlegend\":true,\"showscale\":false,\"type\":\"choropleth\",\"z\":[1]},{\"colorscale\":[[0.0,\"#00cc96\"],[1.0,\"#00cc96\"]],\"geo\":\"geo\",\"hovertemplate\":\"<b>%{hovertext}</b><br><br>Team/NOC=%{location}<extra></extra>\",\"hovertext\":[1.0],\"locationmode\":\"country names\",\"locations\":[\"Syrian Arab Republic\"],\"name\":\"Syrian Arab Republic\",\"showlegend\":true,\"showscale\":false,\"type\":\"choropleth\",\"z\":[1]}],                        {\"geo\":{\"center\":{},\"domain\":{\"x\":[0.0,1.0],\"y\":[0.0,1.0]}},\"legend\":{\"title\":{\"text\":\"Team/NOC\"},\"tracegroupgap\":0},\"template\":{\"data\":{\"bar\":[{\"error_x\":{\"color\":\"#2a3f5f\"},\"error_y\":{\"color\":\"#2a3f5f\"},\"marker\":{\"line\":{\"color\":\"#E5ECF6\",\"width\":0.5},\"pattern\":{\"fillmode\":\"overlay\",\"size\":10,\"solidity\":0.2}},\"type\":\"bar\"}],\"barpolar\":[{\"marker\":{\"line\":{\"color\":\"#E5ECF6\",\"width\":0.5},\"pattern\":{\"fillmode\":\"overlay\",\"size\":10,\"solidity\":0.2}},\"type\":\"barpolar\"}],\"carpet\":[{\"aaxis\":{\"endlinecolor\":\"#2a3f5f\",\"gridcolor\":\"white\",\"linecolor\":\"white\",\"minorgridcolor\":\"white\",\"startlinecolor\":\"#2a3f5f\"},\"baxis\":{\"endlinecolor\":\"#2a3f5f\",\"gridcolor\":\"white\",\"linecolor\":\"white\",\"minorgridcolor\":\"white\",\"startlinecolor\":\"#2a3f5f\"},\"type\":\"carpet\"}],\"choropleth\":[{\"colorbar\":{\"outlinewidth\":0,\"ticks\":\"\"},\"type\":\"choropleth\"}],\"contour\":[{\"colorbar\":{\"outlinewidth\":0,\"ticks\":\"\"},\"colorscale\":[[0.0,\"#0d0887\"],[0.1111111111111111,\"#46039f\"],[0.2222222222222222,\"#7201a8\"],[0.3333333333333333,\"#9c179e\"],[0.4444444444444444,\"#bd3786\"],[0.5555555555555556,\"#d8576b\"],[0.6666666666666666,\"#ed7953\"],[0.7777777777777778,\"#fb9f3a\"],[0.8888888888888888,\"#fdca26\"],[1.0,\"#f0f921\"]],\"type\":\"contour\"}],\"contourcarpet\":[{\"colorbar\":{\"outlinewidth\":0,\"ticks\":\"\"},\"type\":\"contourcarpet\"}],\"heatmap\":[{\"colorbar\":{\"outlinewidth\":0,\"ticks\":\"\"},\"colorscale\":[[0.0,\"#0d0887\"],[0.1111111111111111,\"#46039f\"],[0.2222222222222222,\"#7201a8\"],[0.3333333333333333,\"#9c179e\"],[0.4444444444444444,\"#bd3786\"],[0.5555555555555556,\"#d8576b\"],[0.6666666666666666,\"#ed7953\"],[0.7777777777777778,\"#fb9f3a\"],[0.8888888888888888,\"#fdca26\"],[1.0,\"#f0f921\"]],\"type\":\"heatmap\"}],\"heatmapgl\":[{\"colorbar\":{\"outlinewidth\":0,\"ticks\":\"\"},\"colorscale\":[[0.0,\"#0d0887\"],[0.1111111111111111,\"#46039f\"],[0.2222222222222222,\"#7201a8\"],[0.3333333333333333,\"#9c179e\"],[0.4444444444444444,\"#bd3786\"],[0.5555555555555556,\"#d8576b\"],[0.6666666666666666,\"#ed7953\"],[0.7777777777777778,\"#fb9f3a\"],[0.8888888888888888,\"#fdca26\"],[1.0,\"#f0f921\"]],\"type\":\"heatmapgl\"}],\"histogram\":[{\"marker\":{\"pattern\":{\"fillmode\":\"overlay\",\"size\":10,\"solidity\":0.2}},\"type\":\"histogram\"}],\"histogram2d\":[{\"colorbar\":{\"outlinewidth\":0,\"ticks\":\"\"},\"colorscale\":[[0.0,\"#0d0887\"],[0.1111111111111111,\"#46039f\"],[0.2222222222222222,\"#7201a8\"],[0.3333333333333333,\"#9c179e\"],[0.4444444444444444,\"#bd3786\"],[0.5555555555555556,\"#d8576b\"],[0.6666666666666666,\"#ed7953\"],[0.7777777777777778,\"#fb9f3a\"],[0.8888888888888888,\"#fdca26\"],[1.0,\"#f0f921\"]],\"type\":\"histogram2d\"}],\"histogram2dcontour\":[{\"colorbar\":{\"outlinewidth\":0,\"ticks\":\"\"},\"colorscale\":[[0.0,\"#0d0887\"],[0.1111111111111111,\"#46039f\"],[0.2222222222222222,\"#7201a8\"],[0.3333333333333333,\"#9c179e\"],[0.4444444444444444,\"#bd3786\"],[0.5555555555555556,\"#d8576b\"],[0.6666666666666666,\"#ed7953\"],[0.7777777777777778,\"#fb9f3a\"],[0.8888888888888888,\"#fdca26\"],[1.0,\"#f0f921\"]],\"type\":\"histogram2dcontour\"}],\"mesh3d\":[{\"colorbar\":{\"outlinewidth\":0,\"ticks\":\"\"},\"type\":\"mesh3d\"}],\"parcoords\":[{\"line\":{\"colorbar\":{\"outlinewidth\":0,\"ticks\":\"\"}},\"type\":\"parcoords\"}],\"pie\":[{\"automargin\":true,\"type\":\"pie\"}],\"scatter\":[{\"marker\":{\"colorbar\":{\"outlinewidth\":0,\"ticks\":\"\"}},\"type\":\"scatter\"}],\"scatter3d\":[{\"line\":{\"colorbar\":{\"outlinewidth\":0,\"ticks\":\"\"}},\"marker\":{\"colorbar\":{\"outlinewidth\":0,\"ticks\":\"\"}},\"type\":\"scatter3d\"}],\"scattercarpet\":[{\"marker\":{\"colorbar\":{\"outlinewidth\":0,\"ticks\":\"\"}},\"type\":\"scattercarpet\"}],\"scattergeo\":[{\"marker\":{\"colorbar\":{\"outlinewidth\":0,\"ticks\":\"\"}},\"type\":\"scattergeo\"}],\"scattergl\":[{\"marker\":{\"colorbar\":{\"outlinewidth\":0,\"ticks\":\"\"}},\"type\":\"scattergl\"}],\"scattermapbox\":[{\"marker\":{\"colorbar\":{\"outlinewidth\":0,\"ticks\":\"\"}},\"type\":\"scattermapbox\"}],\"scatterpolar\":[{\"marker\":{\"colorbar\":{\"outlinewidth\":0,\"ticks\":\"\"}},\"type\":\"scatterpolar\"}],\"scatterpolargl\":[{\"marker\":{\"colorbar\":{\"outlinewidth\":0,\"ticks\":\"\"}},\"type\":\"scatterpolargl\"}],\"scatterternary\":[{\"marker\":{\"colorbar\":{\"outlinewidth\":0,\"ticks\":\"\"}},\"type\":\"scatterternary\"}],\"surface\":[{\"colorbar\":{\"outlinewidth\":0,\"ticks\":\"\"},\"colorscale\":[[0.0,\"#0d0887\"],[0.1111111111111111,\"#46039f\"],[0.2222222222222222,\"#7201a8\"],[0.3333333333333333,\"#9c179e\"],[0.4444444444444444,\"#bd3786\"],[0.5555555555555556,\"#d8576b\"],[0.6666666666666666,\"#ed7953\"],[0.7777777777777778,\"#fb9f3a\"],[0.8888888888888888,\"#fdca26\"],[1.0,\"#f0f921\"]],\"type\":\"surface\"}],\"table\":[{\"cells\":{\"fill\":{\"color\":\"#EBF0F8\"},\"line\":{\"color\":\"white\"}},\"header\":{\"fill\":{\"color\":\"#C8D4E3\"},\"line\":{\"color\":\"white\"}},\"type\":\"table\"}]},\"layout\":{\"annotationdefaults\":{\"arrowcolor\":\"#2a3f5f\",\"arrowhead\":0,\"arrowwidth\":1},\"autotypenumbers\":\"strict\",\"coloraxis\":{\"colorbar\":{\"outlinewidth\":0,\"ticks\":\"\"}},\"colorscale\":{\"diverging\":[[0,\"#8e0152\"],[0.1,\"#c51b7d\"],[0.2,\"#de77ae\"],[0.3,\"#f1b6da\"],[0.4,\"#fde0ef\"],[0.5,\"#f7f7f7\"],[0.6,\"#e6f5d0\"],[0.7,\"#b8e186\"],[0.8,\"#7fbc41\"],[0.9,\"#4d9221\"],[1,\"#276419\"]],\"sequential\":[[0.0,\"#0d0887\"],[0.1111111111111111,\"#46039f\"],[0.2222222222222222,\"#7201a8\"],[0.3333333333333333,\"#9c179e\"],[0.4444444444444444,\"#bd3786\"],[0.5555555555555556,\"#d8576b\"],[0.6666666666666666,\"#ed7953\"],[0.7777777777777778,\"#fb9f3a\"],[0.8888888888888888,\"#fdca26\"],[1.0,\"#f0f921\"]],\"sequentialminus\":[[0.0,\"#0d0887\"],[0.1111111111111111,\"#46039f\"],[0.2222222222222222,\"#7201a8\"],[0.3333333333333333,\"#9c179e\"],[0.4444444444444444,\"#bd3786\"],[0.5555555555555556,\"#d8576b\"],[0.6666666666666666,\"#ed7953\"],[0.7777777777777778,\"#fb9f3a\"],[0.8888888888888888,\"#fdca26\"],[1.0,\"#f0f921\"]]},\"colorway\":[\"#636efa\",\"#EF553B\",\"#00cc96\",\"#ab63fa\",\"#FFA15A\",\"#19d3f3\",\"#FF6692\",\"#B6E880\",\"#FF97FF\",\"#FECB52\"],\"font\":{\"color\":\"#2a3f5f\"},\"geo\":{\"bgcolor\":\"white\",\"lakecolor\":\"white\",\"landcolor\":\"#E5ECF6\",\"showlakes\":true,\"showland\":true,\"subunitcolor\":\"white\"},\"hoverlabel\":{\"align\":\"left\"},\"hovermode\":\"closest\",\"mapbox\":{\"style\":\"light\"},\"paper_bgcolor\":\"white\",\"plot_bgcolor\":\"#E5ECF6\",\"polar\":{\"angularaxis\":{\"gridcolor\":\"white\",\"linecolor\":\"white\",\"ticks\":\"\"},\"bgcolor\":\"#E5ECF6\",\"radialaxis\":{\"gridcolor\":\"white\",\"linecolor\":\"white\",\"ticks\":\"\"}},\"scene\":{\"xaxis\":{\"backgroundcolor\":\"#E5ECF6\",\"gridcolor\":\"white\",\"gridwidth\":2,\"linecolor\":\"white\",\"showbackground\":true,\"ticks\":\"\",\"zerolinecolor\":\"white\"},\"yaxis\":{\"backgroundcolor\":\"#E5ECF6\",\"gridcolor\":\"white\",\"gridwidth\":2,\"linecolor\":\"white\",\"showbackground\":true,\"ticks\":\"\",\"zerolinecolor\":\"white\"},\"zaxis\":{\"backgroundcolor\":\"#E5ECF6\",\"gridcolor\":\"white\",\"gridwidth\":2,\"linecolor\":\"white\",\"showbackground\":true,\"ticks\":\"\",\"zerolinecolor\":\"white\"}},\"shapedefaults\":{\"line\":{\"color\":\"#2a3f5f\"}},\"ternary\":{\"aaxis\":{\"gridcolor\":\"white\",\"linecolor\":\"white\",\"ticks\":\"\"},\"baxis\":{\"gridcolor\":\"white\",\"linecolor\":\"white\",\"ticks\":\"\"},\"bgcolor\":\"#E5ECF6\",\"caxis\":{\"gridcolor\":\"white\",\"linecolor\":\"white\",\"ticks\":\"\"}},\"title\":{\"x\":0.05},\"xaxis\":{\"automargin\":true,\"gridcolor\":\"white\",\"linecolor\":\"white\",\"ticks\":\"\",\"title\":{\"standoff\":15},\"zerolinecolor\":\"white\",\"zerolinewidth\":2},\"yaxis\":{\"automargin\":true,\"gridcolor\":\"white\",\"linecolor\":\"white\",\"ticks\":\"\",\"title\":{\"standoff\":15},\"zerolinecolor\":\"white\",\"zerolinewidth\":2}}},\"title\":{\"text\":\"Density of Countries in 2020\"}},                        {\"responsive\": true}                    ).then(function(){\n",
       "                            \n",
       "var gd = document.getElementById('d30d68bb-576b-4b33-8f7d-e9dcfcd5bfa7');\n",
       "var x = new MutationObserver(function (mutations, observer) {{\n",
       "        var display = window.getComputedStyle(gd).display;\n",
       "        if (!display || display === 'none') {{\n",
       "            console.log([gd, 'removed!']);\n",
       "            Plotly.purge(gd);\n",
       "            observer.disconnect();\n",
       "        }}\n",
       "}});\n",
       "\n",
       "// Listen for the removal of the full notebook cells\n",
       "var notebookContainer = gd.closest('#notebook-container');\n",
       "if (notebookContainer) {{\n",
       "    x.observe(notebookContainer, {childList: true});\n",
       "}}\n",
       "\n",
       "// Listen for the clearing of the current output cell\n",
       "var outputEl = gd.closest('.output');\n",
       "if (outputEl) {{\n",
       "    x.observe(outputEl, {childList: true});\n",
       "}}\n",
       "\n",
       "                        })                };                });            </script>        </div>"
      ]
     },
     "metadata": {},
     "output_type": "display_data"
    }
   ],
   "source": [
    "px.choropleth(df_medals, locations=\"Team/NOC\", \n",
    "                    locationmode='country names', color=\"Team/NOC\", \n",
    "                    hover_name=\"Total\", range_color=[1,100], \n",
    "                    color_continuous_scale=\"blues\", \n",
    "                    title='Density of Countries in 2020')"
   ]
  },
  {
   "cell_type": "markdown",
   "id": "e94ecded",
   "metadata": {
    "papermill": {
     "duration": 0.038671,
     "end_time": "2023-07-29T06:46:36.462272",
     "exception": false,
     "start_time": "2023-07-29T06:46:36.423601",
     "status": "completed"
    },
    "tags": []
   },
   "source": [
    "# Note :\n",
    "\n",
    "* Plotly is pretty much interactive library.\n",
    "\n",
    "* **Move the cursor over any country** to **know number of medals won by that country**.\n"
   ]
  },
  {
   "cell_type": "code",
   "execution_count": 18,
   "id": "cba10d79",
   "metadata": {
    "execution": {
     "iopub.execute_input": "2023-07-29T06:46:36.546855Z",
     "iopub.status.busy": "2023-07-29T06:46:36.546118Z",
     "iopub.status.idle": "2023-07-29T06:46:37.144820Z",
     "shell.execute_reply": "2023-07-29T06:46:37.145409Z",
     "shell.execute_reply.started": "2023-07-29T06:42:36.829884Z"
    },
    "papermill": {
     "duration": 0.644971,
     "end_time": "2023-07-29T06:46:37.145625",
     "exception": false,
     "start_time": "2023-07-29T06:46:36.500654",
     "status": "completed"
    },
    "tags": []
   },
   "outputs": [
    {
     "data": {
      "text/html": [
       "<div>                            <div id=\"abda9179-ed96-4811-99d2-1bc015a5f043\" class=\"plotly-graph-div\" style=\"height:525px; width:100%;\"></div>            <script type=\"text/javascript\">                require([\"plotly\"], function(Plotly) {                    window.PLOTLYENV=window.PLOTLYENV || {};                                    if (document.getElementById(\"abda9179-ed96-4811-99d2-1bc015a5f043\")) {                    Plotly.newPlot(                        \"abda9179-ed96-4811-99d2-1bc015a5f043\",                        [{\"hovertemplate\":\"<b>%{hovertext}</b><br><br>Team/NOC=United States of America<br>Total=%{marker.size}<br>Rank=%{y}<extra></extra>\",\"hovertext\":[\"United States of America\"],\"legendgroup\":\"United States of America\",\"marker\":{\"color\":\"#636efa\",\"size\":[113],\"sizemode\":\"area\",\"sizeref\":0.03138888888888889,\"symbol\":\"circle\"},\"mode\":\"markers\",\"name\":\"United States of America\",\"orientation\":\"v\",\"showlegend\":true,\"type\":\"scatter\",\"x\":[113],\"xaxis\":\"x\",\"y\":[1],\"yaxis\":\"y\"},{\"hovertemplate\":\"<b>%{hovertext}</b><br><br>Team/NOC=People's Republic of China<br>Total=%{marker.size}<br>Rank=%{y}<extra></extra>\",\"hovertext\":[\"People's Republic of China\"],\"legendgroup\":\"People's Republic of China\",\"marker\":{\"color\":\"#EF553B\",\"size\":[88],\"sizemode\":\"area\",\"sizeref\":0.03138888888888889,\"symbol\":\"circle\"},\"mode\":\"markers\",\"name\":\"People's Republic of China\",\"orientation\":\"v\",\"showlegend\":true,\"type\":\"scatter\",\"x\":[88],\"xaxis\":\"x\",\"y\":[2],\"yaxis\":\"y\"},{\"hovertemplate\":\"<b>%{hovertext}</b><br><br>Team/NOC=Japan<br>Total=%{marker.size}<br>Rank=%{y}<extra></extra>\",\"hovertext\":[\"Japan\"],\"legendgroup\":\"Japan\",\"marker\":{\"color\":\"#00cc96\",\"size\":[58],\"sizemode\":\"area\",\"sizeref\":0.03138888888888889,\"symbol\":\"circle\"},\"mode\":\"markers\",\"name\":\"Japan\",\"orientation\":\"v\",\"showlegend\":true,\"type\":\"scatter\",\"x\":[58],\"xaxis\":\"x\",\"y\":[3],\"yaxis\":\"y\"},{\"hovertemplate\":\"<b>%{hovertext}</b><br><br>Team/NOC=Great Britain<br>Total=%{marker.size}<br>Rank=%{y}<extra></extra>\",\"hovertext\":[\"Great Britain\"],\"legendgroup\":\"Great Britain\",\"marker\":{\"color\":\"#ab63fa\",\"size\":[65],\"sizemode\":\"area\",\"sizeref\":0.03138888888888889,\"symbol\":\"circle\"},\"mode\":\"markers\",\"name\":\"Great Britain\",\"orientation\":\"v\",\"showlegend\":true,\"type\":\"scatter\",\"x\":[65],\"xaxis\":\"x\",\"y\":[4],\"yaxis\":\"y\"},{\"hovertemplate\":\"<b>%{hovertext}</b><br><br>Team/NOC=ROC<br>Total=%{marker.size}<br>Rank=%{y}<extra></extra>\",\"hovertext\":[\"ROC\"],\"legendgroup\":\"ROC\",\"marker\":{\"color\":\"#FFA15A\",\"size\":[71],\"sizemode\":\"area\",\"sizeref\":0.03138888888888889,\"symbol\":\"circle\"},\"mode\":\"markers\",\"name\":\"ROC\",\"orientation\":\"v\",\"showlegend\":true,\"type\":\"scatter\",\"x\":[71],\"xaxis\":\"x\",\"y\":[5],\"yaxis\":\"y\"},{\"hovertemplate\":\"<b>%{hovertext}</b><br><br>Team/NOC=Australia<br>Total=%{marker.size}<br>Rank=%{y}<extra></extra>\",\"hovertext\":[\"Australia\"],\"legendgroup\":\"Australia\",\"marker\":{\"color\":\"#19d3f3\",\"size\":[46],\"sizemode\":\"area\",\"sizeref\":0.03138888888888889,\"symbol\":\"circle\"},\"mode\":\"markers\",\"name\":\"Australia\",\"orientation\":\"v\",\"showlegend\":true,\"type\":\"scatter\",\"x\":[46],\"xaxis\":\"x\",\"y\":[6],\"yaxis\":\"y\"},{\"hovertemplate\":\"<b>%{hovertext}</b><br><br>Team/NOC=Netherlands<br>Total=%{marker.size}<br>Rank=%{y}<extra></extra>\",\"hovertext\":[\"Netherlands\"],\"legendgroup\":\"Netherlands\",\"marker\":{\"color\":\"#FF6692\",\"size\":[36],\"sizemode\":\"area\",\"sizeref\":0.03138888888888889,\"symbol\":\"circle\"},\"mode\":\"markers\",\"name\":\"Netherlands\",\"orientation\":\"v\",\"showlegend\":true,\"type\":\"scatter\",\"x\":[36],\"xaxis\":\"x\",\"y\":[7],\"yaxis\":\"y\"},{\"hovertemplate\":\"<b>%{hovertext}</b><br><br>Team/NOC=France<br>Total=%{marker.size}<br>Rank=%{y}<extra></extra>\",\"hovertext\":[\"France\"],\"legendgroup\":\"France\",\"marker\":{\"color\":\"#B6E880\",\"size\":[33],\"sizemode\":\"area\",\"sizeref\":0.03138888888888889,\"symbol\":\"circle\"},\"mode\":\"markers\",\"name\":\"France\",\"orientation\":\"v\",\"showlegend\":true,\"type\":\"scatter\",\"x\":[33],\"xaxis\":\"x\",\"y\":[8],\"yaxis\":\"y\"},{\"hovertemplate\":\"<b>%{hovertext}</b><br><br>Team/NOC=Germany<br>Total=%{marker.size}<br>Rank=%{y}<extra></extra>\",\"hovertext\":[\"Germany\"],\"legendgroup\":\"Germany\",\"marker\":{\"color\":\"#FF97FF\",\"size\":[37],\"sizemode\":\"area\",\"sizeref\":0.03138888888888889,\"symbol\":\"circle\"},\"mode\":\"markers\",\"name\":\"Germany\",\"orientation\":\"v\",\"showlegend\":true,\"type\":\"scatter\",\"x\":[37],\"xaxis\":\"x\",\"y\":[9],\"yaxis\":\"y\"},{\"hovertemplate\":\"<b>%{hovertext}</b><br><br>Team/NOC=Italy<br>Total=%{marker.size}<br>Rank=%{y}<extra></extra>\",\"hovertext\":[\"Italy\"],\"legendgroup\":\"Italy\",\"marker\":{\"color\":\"#FECB52\",\"size\":[40],\"sizemode\":\"area\",\"sizeref\":0.03138888888888889,\"symbol\":\"circle\"},\"mode\":\"markers\",\"name\":\"Italy\",\"orientation\":\"v\",\"showlegend\":true,\"type\":\"scatter\",\"x\":[40],\"xaxis\":\"x\",\"y\":[10],\"yaxis\":\"y\"},{\"hovertemplate\":\"<b>%{hovertext}</b><br><br>Team/NOC=Canada<br>Total=%{marker.size}<br>Rank=%{y}<extra></extra>\",\"hovertext\":[\"Canada\"],\"legendgroup\":\"Canada\",\"marker\":{\"color\":\"#636efa\",\"size\":[24],\"sizemode\":\"area\",\"sizeref\":0.03138888888888889,\"symbol\":\"circle\"},\"mode\":\"markers\",\"name\":\"Canada\",\"orientation\":\"v\",\"showlegend\":true,\"type\":\"scatter\",\"x\":[24],\"xaxis\":\"x\",\"y\":[11],\"yaxis\":\"y\"},{\"hovertemplate\":\"<b>%{hovertext}</b><br><br>Team/NOC=Brazil<br>Total=%{marker.size}<br>Rank=%{y}<extra></extra>\",\"hovertext\":[\"Brazil\"],\"legendgroup\":\"Brazil\",\"marker\":{\"color\":\"#EF553B\",\"size\":[21],\"sizemode\":\"area\",\"sizeref\":0.03138888888888889,\"symbol\":\"circle\"},\"mode\":\"markers\",\"name\":\"Brazil\",\"orientation\":\"v\",\"showlegend\":true,\"type\":\"scatter\",\"x\":[21],\"xaxis\":\"x\",\"y\":[12],\"yaxis\":\"y\"},{\"hovertemplate\":\"<b>%{hovertext}</b><br><br>Team/NOC=New Zealand<br>Total=%{marker.size}<br>Rank=%{y}<extra></extra>\",\"hovertext\":[\"New Zealand\"],\"legendgroup\":\"New Zealand\",\"marker\":{\"color\":\"#00cc96\",\"size\":[20],\"sizemode\":\"area\",\"sizeref\":0.03138888888888889,\"symbol\":\"circle\"},\"mode\":\"markers\",\"name\":\"New Zealand\",\"orientation\":\"v\",\"showlegend\":true,\"type\":\"scatter\",\"x\":[20],\"xaxis\":\"x\",\"y\":[13],\"yaxis\":\"y\"},{\"hovertemplate\":\"<b>%{hovertext}</b><br><br>Team/NOC=Cuba<br>Total=%{marker.size}<br>Rank=%{y}<extra></extra>\",\"hovertext\":[\"Cuba\"],\"legendgroup\":\"Cuba\",\"marker\":{\"color\":\"#ab63fa\",\"size\":[15],\"sizemode\":\"area\",\"sizeref\":0.03138888888888889,\"symbol\":\"circle\"},\"mode\":\"markers\",\"name\":\"Cuba\",\"orientation\":\"v\",\"showlegend\":true,\"type\":\"scatter\",\"x\":[15],\"xaxis\":\"x\",\"y\":[14],\"yaxis\":\"y\"},{\"hovertemplate\":\"<b>%{hovertext}</b><br><br>Team/NOC=Hungary<br>Total=%{marker.size}<br>Rank=%{y}<extra></extra>\",\"hovertext\":[\"Hungary\"],\"legendgroup\":\"Hungary\",\"marker\":{\"color\":\"#FFA15A\",\"size\":[20],\"sizemode\":\"area\",\"sizeref\":0.03138888888888889,\"symbol\":\"circle\"},\"mode\":\"markers\",\"name\":\"Hungary\",\"orientation\":\"v\",\"showlegend\":true,\"type\":\"scatter\",\"x\":[20],\"xaxis\":\"x\",\"y\":[15],\"yaxis\":\"y\"},{\"hovertemplate\":\"<b>%{hovertext}</b><br><br>Team/NOC=Republic of Korea<br>Total=%{marker.size}<br>Rank=%{y}<extra></extra>\",\"hovertext\":[\"Republic of Korea\"],\"legendgroup\":\"Republic of Korea\",\"marker\":{\"color\":\"#19d3f3\",\"size\":[20],\"sizemode\":\"area\",\"sizeref\":0.03138888888888889,\"symbol\":\"circle\"},\"mode\":\"markers\",\"name\":\"Republic of Korea\",\"orientation\":\"v\",\"showlegend\":true,\"type\":\"scatter\",\"x\":[20],\"xaxis\":\"x\",\"y\":[16],\"yaxis\":\"y\"},{\"hovertemplate\":\"<b>%{hovertext}</b><br><br>Team/NOC=Poland<br>Total=%{marker.size}<br>Rank=%{y}<extra></extra>\",\"hovertext\":[\"Poland\"],\"legendgroup\":\"Poland\",\"marker\":{\"color\":\"#FF6692\",\"size\":[14],\"sizemode\":\"area\",\"sizeref\":0.03138888888888889,\"symbol\":\"circle\"},\"mode\":\"markers\",\"name\":\"Poland\",\"orientation\":\"v\",\"showlegend\":true,\"type\":\"scatter\",\"x\":[14],\"xaxis\":\"x\",\"y\":[17],\"yaxis\":\"y\"},{\"hovertemplate\":\"<b>%{hovertext}</b><br><br>Team/NOC=Czech Republic<br>Total=%{marker.size}<br>Rank=%{y}<extra></extra>\",\"hovertext\":[\"Czech Republic\"],\"legendgroup\":\"Czech Republic\",\"marker\":{\"color\":\"#B6E880\",\"size\":[11],\"sizemode\":\"area\",\"sizeref\":0.03138888888888889,\"symbol\":\"circle\"},\"mode\":\"markers\",\"name\":\"Czech Republic\",\"orientation\":\"v\",\"showlegend\":true,\"type\":\"scatter\",\"x\":[11],\"xaxis\":\"x\",\"y\":[18],\"yaxis\":\"y\"},{\"hovertemplate\":\"<b>%{hovertext}</b><br><br>Team/NOC=Kenya<br>Total=%{marker.size}<br>Rank=%{y}<extra></extra>\",\"hovertext\":[\"Kenya\"],\"legendgroup\":\"Kenya\",\"marker\":{\"color\":\"#FF97FF\",\"size\":[10],\"sizemode\":\"area\",\"sizeref\":0.03138888888888889,\"symbol\":\"circle\"},\"mode\":\"markers\",\"name\":\"Kenya\",\"orientation\":\"v\",\"showlegend\":true,\"type\":\"scatter\",\"x\":[10],\"xaxis\":\"x\",\"y\":[19],\"yaxis\":\"y\"},{\"hovertemplate\":\"<b>%{hovertext}</b><br><br>Team/NOC=Norway<br>Total=%{marker.size}<br>Rank=%{y}<extra></extra>\",\"hovertext\":[\"Norway\"],\"legendgroup\":\"Norway\",\"marker\":{\"color\":\"#FECB52\",\"size\":[8],\"sizemode\":\"area\",\"sizeref\":0.03138888888888889,\"symbol\":\"circle\"},\"mode\":\"markers\",\"name\":\"Norway\",\"orientation\":\"v\",\"showlegend\":true,\"type\":\"scatter\",\"x\":[8],\"xaxis\":\"x\",\"y\":[20],\"yaxis\":\"y\"},{\"hovertemplate\":\"<b>%{hovertext}</b><br><br>Team/NOC=Jamaica<br>Total=%{marker.size}<br>Rank=%{y}<extra></extra>\",\"hovertext\":[\"Jamaica\"],\"legendgroup\":\"Jamaica\",\"marker\":{\"color\":\"#636efa\",\"size\":[9],\"sizemode\":\"area\",\"sizeref\":0.03138888888888889,\"symbol\":\"circle\"},\"mode\":\"markers\",\"name\":\"Jamaica\",\"orientation\":\"v\",\"showlegend\":true,\"type\":\"scatter\",\"x\":[9],\"xaxis\":\"x\",\"y\":[21],\"yaxis\":\"y\"},{\"hovertemplate\":\"<b>%{hovertext}</b><br><br>Team/NOC=Spain<br>Total=%{marker.size}<br>Rank=%{y}<extra></extra>\",\"hovertext\":[\"Spain\"],\"legendgroup\":\"Spain\",\"marker\":{\"color\":\"#EF553B\",\"size\":[17],\"sizemode\":\"area\",\"sizeref\":0.03138888888888889,\"symbol\":\"circle\"},\"mode\":\"markers\",\"name\":\"Spain\",\"orientation\":\"v\",\"showlegend\":true,\"type\":\"scatter\",\"x\":[17],\"xaxis\":\"x\",\"y\":[22],\"yaxis\":\"y\"},{\"hovertemplate\":\"<b>%{hovertext}</b><br><br>Team/NOC=Sweden<br>Total=%{marker.size}<br>Rank=%{y}<extra></extra>\",\"hovertext\":[\"Sweden\"],\"legendgroup\":\"Sweden\",\"marker\":{\"color\":\"#00cc96\",\"size\":[9],\"sizemode\":\"area\",\"sizeref\":0.03138888888888889,\"symbol\":\"circle\"},\"mode\":\"markers\",\"name\":\"Sweden\",\"orientation\":\"v\",\"showlegend\":true,\"type\":\"scatter\",\"x\":[9],\"xaxis\":\"x\",\"y\":[23],\"yaxis\":\"y\"},{\"hovertemplate\":\"<b>%{hovertext}</b><br><br>Team/NOC=Switzerland<br>Total=%{marker.size}<br>Rank=%{y}<extra></extra>\",\"hovertext\":[\"Switzerland\"],\"legendgroup\":\"Switzerland\",\"marker\":{\"color\":\"#ab63fa\",\"size\":[13],\"sizemode\":\"area\",\"sizeref\":0.03138888888888889,\"symbol\":\"circle\"},\"mode\":\"markers\",\"name\":\"Switzerland\",\"orientation\":\"v\",\"showlegend\":true,\"type\":\"scatter\",\"x\":[13],\"xaxis\":\"x\",\"y\":[24],\"yaxis\":\"y\"},{\"hovertemplate\":\"<b>%{hovertext}</b><br><br>Team/NOC=Denmark<br>Total=%{marker.size}<br>Rank=%{y}<extra></extra>\",\"hovertext\":[\"Denmark\"],\"legendgroup\":\"Denmark\",\"marker\":{\"color\":\"#FFA15A\",\"size\":[11],\"sizemode\":\"area\",\"sizeref\":0.03138888888888889,\"symbol\":\"circle\"},\"mode\":\"markers\",\"name\":\"Denmark\",\"orientation\":\"v\",\"showlegend\":true,\"type\":\"scatter\",\"x\":[11],\"xaxis\":\"x\",\"y\":[25],\"yaxis\":\"y\"},{\"hovertemplate\":\"<b>%{hovertext}</b><br><br>Team/NOC=Croatia<br>Total=%{marker.size}<br>Rank=%{y}<extra></extra>\",\"hovertext\":[\"Croatia\"],\"legendgroup\":\"Croatia\",\"marker\":{\"color\":\"#19d3f3\",\"size\":[8],\"sizemode\":\"area\",\"sizeref\":0.03138888888888889,\"symbol\":\"circle\"},\"mode\":\"markers\",\"name\":\"Croatia\",\"orientation\":\"v\",\"showlegend\":true,\"type\":\"scatter\",\"x\":[8],\"xaxis\":\"x\",\"y\":[26],\"yaxis\":\"y\"},{\"hovertemplate\":\"<b>%{hovertext}</b><br><br>Team/NOC=Islamic Republic of Iran<br>Total=%{marker.size}<br>Rank=%{y}<extra></extra>\",\"hovertext\":[\"Islamic Republic of Iran\"],\"legendgroup\":\"Islamic Republic of Iran\",\"marker\":{\"color\":\"#FF6692\",\"size\":[7],\"sizemode\":\"area\",\"sizeref\":0.03138888888888889,\"symbol\":\"circle\"},\"mode\":\"markers\",\"name\":\"Islamic Republic of Iran\",\"orientation\":\"v\",\"showlegend\":true,\"type\":\"scatter\",\"x\":[7],\"xaxis\":\"x\",\"y\":[27],\"yaxis\":\"y\"},{\"hovertemplate\":\"<b>%{hovertext}</b><br><br>Team/NOC=Serbia<br>Total=%{marker.size}<br>Rank=%{y}<extra></extra>\",\"hovertext\":[\"Serbia\"],\"legendgroup\":\"Serbia\",\"marker\":{\"color\":\"#B6E880\",\"size\":[9],\"sizemode\":\"area\",\"sizeref\":0.03138888888888889,\"symbol\":\"circle\"},\"mode\":\"markers\",\"name\":\"Serbia\",\"orientation\":\"v\",\"showlegend\":true,\"type\":\"scatter\",\"x\":[9],\"xaxis\":\"x\",\"y\":[28],\"yaxis\":\"y\"},{\"hovertemplate\":\"<b>%{hovertext}</b><br><br>Team/NOC=Belgium<br>Total=%{marker.size}<br>Rank=%{y}<extra></extra>\",\"hovertext\":[\"Belgium\"],\"legendgroup\":\"Belgium\",\"marker\":{\"color\":\"#FF97FF\",\"size\":[7],\"sizemode\":\"area\",\"sizeref\":0.03138888888888889,\"symbol\":\"circle\"},\"mode\":\"markers\",\"name\":\"Belgium\",\"orientation\":\"v\",\"showlegend\":true,\"type\":\"scatter\",\"x\":[7],\"xaxis\":\"x\",\"y\":[29],\"yaxis\":\"y\"},{\"hovertemplate\":\"<b>%{hovertext}</b><br><br>Team/NOC=Bulgaria<br>Total=%{marker.size}<br>Rank=%{y}<extra></extra>\",\"hovertext\":[\"Bulgaria\"],\"legendgroup\":\"Bulgaria\",\"marker\":{\"color\":\"#FECB52\",\"size\":[6],\"sizemode\":\"area\",\"sizeref\":0.03138888888888889,\"symbol\":\"circle\"},\"mode\":\"markers\",\"name\":\"Bulgaria\",\"orientation\":\"v\",\"showlegend\":true,\"type\":\"scatter\",\"x\":[6],\"xaxis\":\"x\",\"y\":[30],\"yaxis\":\"y\"},{\"hovertemplate\":\"<b>%{hovertext}</b><br><br>Team/NOC=Slovenia<br>Total=%{marker.size}<br>Rank=%{y}<extra></extra>\",\"hovertext\":[\"Slovenia\"],\"legendgroup\":\"Slovenia\",\"marker\":{\"color\":\"#636efa\",\"size\":[5],\"sizemode\":\"area\",\"sizeref\":0.03138888888888889,\"symbol\":\"circle\"},\"mode\":\"markers\",\"name\":\"Slovenia\",\"orientation\":\"v\",\"showlegend\":true,\"type\":\"scatter\",\"x\":[5],\"xaxis\":\"x\",\"y\":[31],\"yaxis\":\"y\"},{\"hovertemplate\":\"<b>%{hovertext}</b><br><br>Team/NOC=Uzbekistan<br>Total=%{marker.size}<br>Rank=%{y}<extra></extra>\",\"hovertext\":[\"Uzbekistan\"],\"legendgroup\":\"Uzbekistan\",\"marker\":{\"color\":\"#EF553B\",\"size\":[5],\"sizemode\":\"area\",\"sizeref\":0.03138888888888889,\"symbol\":\"circle\"},\"mode\":\"markers\",\"name\":\"Uzbekistan\",\"orientation\":\"v\",\"showlegend\":true,\"type\":\"scatter\",\"x\":[5],\"xaxis\":\"x\",\"y\":[32],\"yaxis\":\"y\"},{\"hovertemplate\":\"<b>%{hovertext}</b><br><br>Team/NOC=Georgia<br>Total=%{marker.size}<br>Rank=%{y}<extra></extra>\",\"hovertext\":[\"Georgia\"],\"legendgroup\":\"Georgia\",\"marker\":{\"color\":\"#00cc96\",\"size\":[8],\"sizemode\":\"area\",\"sizeref\":0.03138888888888889,\"symbol\":\"circle\"},\"mode\":\"markers\",\"name\":\"Georgia\",\"orientation\":\"v\",\"showlegend\":true,\"type\":\"scatter\",\"x\":[8],\"xaxis\":\"x\",\"y\":[33],\"yaxis\":\"y\"},{\"hovertemplate\":\"<b>%{hovertext}</b><br><br>Team/NOC=Chinese Taipei<br>Total=%{marker.size}<br>Rank=%{y}<extra></extra>\",\"hovertext\":[\"Chinese Taipei\"],\"legendgroup\":\"Chinese Taipei\",\"marker\":{\"color\":\"#ab63fa\",\"size\":[12],\"sizemode\":\"area\",\"sizeref\":0.03138888888888889,\"symbol\":\"circle\"},\"mode\":\"markers\",\"name\":\"Chinese Taipei\",\"orientation\":\"v\",\"showlegend\":true,\"type\":\"scatter\",\"x\":[12],\"xaxis\":\"x\",\"y\":[34],\"yaxis\":\"y\"},{\"hovertemplate\":\"<b>%{hovertext}</b><br><br>Team/NOC=Turkey<br>Total=%{marker.size}<br>Rank=%{y}<extra></extra>\",\"hovertext\":[\"Turkey\"],\"legendgroup\":\"Turkey\",\"marker\":{\"color\":\"#FFA15A\",\"size\":[13],\"sizemode\":\"area\",\"sizeref\":0.03138888888888889,\"symbol\":\"circle\"},\"mode\":\"markers\",\"name\":\"Turkey\",\"orientation\":\"v\",\"showlegend\":true,\"type\":\"scatter\",\"x\":[13],\"xaxis\":\"x\",\"y\":[35],\"yaxis\":\"y\"},{\"hovertemplate\":\"<b>%{hovertext}</b><br><br>Team/NOC=Greece<br>Total=%{marker.size}<br>Rank=%{y}<extra></extra>\",\"hovertext\":[\"Greece\"],\"legendgroup\":\"Greece\",\"marker\":{\"color\":\"#19d3f3\",\"size\":[4],\"sizemode\":\"area\",\"sizeref\":0.03138888888888889,\"symbol\":\"circle\"},\"mode\":\"markers\",\"name\":\"Greece\",\"orientation\":\"v\",\"showlegend\":true,\"type\":\"scatter\",\"x\":[4],\"xaxis\":\"x\",\"y\":[36],\"yaxis\":\"y\"},{\"hovertemplate\":\"<b>%{hovertext}</b><br><br>Team/NOC=Uganda<br>Total=%{marker.size}<br>Rank=%{y}<extra></extra>\",\"hovertext\":[\"Uganda\"],\"legendgroup\":\"Uganda\",\"marker\":{\"color\":\"#FF6692\",\"size\":[4],\"sizemode\":\"area\",\"sizeref\":0.03138888888888889,\"symbol\":\"circle\"},\"mode\":\"markers\",\"name\":\"Uganda\",\"orientation\":\"v\",\"showlegend\":true,\"type\":\"scatter\",\"x\":[4],\"xaxis\":\"x\",\"y\":[36],\"yaxis\":\"y\"},{\"hovertemplate\":\"<b>%{hovertext}</b><br><br>Team/NOC=Ecuador<br>Total=%{marker.size}<br>Rank=%{y}<extra></extra>\",\"hovertext\":[\"Ecuador\"],\"legendgroup\":\"Ecuador\",\"marker\":{\"color\":\"#B6E880\",\"size\":[3],\"sizemode\":\"area\",\"sizeref\":0.03138888888888889,\"symbol\":\"circle\"},\"mode\":\"markers\",\"name\":\"Ecuador\",\"orientation\":\"v\",\"showlegend\":true,\"type\":\"scatter\",\"x\":[3],\"xaxis\":\"x\",\"y\":[38],\"yaxis\":\"y\"},{\"hovertemplate\":\"<b>%{hovertext}</b><br><br>Team/NOC=Ireland<br>Total=%{marker.size}<br>Rank=%{y}<extra></extra>\",\"hovertext\":[\"Ireland\"],\"legendgroup\":\"Ireland\",\"marker\":{\"color\":\"#FF97FF\",\"size\":[4],\"sizemode\":\"area\",\"sizeref\":0.03138888888888889,\"symbol\":\"circle\"},\"mode\":\"markers\",\"name\":\"Ireland\",\"orientation\":\"v\",\"showlegend\":true,\"type\":\"scatter\",\"x\":[4],\"xaxis\":\"x\",\"y\":[39],\"yaxis\":\"y\"},{\"hovertemplate\":\"<b>%{hovertext}</b><br><br>Team/NOC=Israel<br>Total=%{marker.size}<br>Rank=%{y}<extra></extra>\",\"hovertext\":[\"Israel\"],\"legendgroup\":\"Israel\",\"marker\":{\"color\":\"#FECB52\",\"size\":[4],\"sizemode\":\"area\",\"sizeref\":0.03138888888888889,\"symbol\":\"circle\"},\"mode\":\"markers\",\"name\":\"Israel\",\"orientation\":\"v\",\"showlegend\":true,\"type\":\"scatter\",\"x\":[4],\"xaxis\":\"x\",\"y\":[39],\"yaxis\":\"y\"},{\"hovertemplate\":\"<b>%{hovertext}</b><br><br>Team/NOC=Qatar<br>Total=%{marker.size}<br>Rank=%{y}<extra></extra>\",\"hovertext\":[\"Qatar\"],\"legendgroup\":\"Qatar\",\"marker\":{\"color\":\"#636efa\",\"size\":[3],\"sizemode\":\"area\",\"sizeref\":0.03138888888888889,\"symbol\":\"circle\"},\"mode\":\"markers\",\"name\":\"Qatar\",\"orientation\":\"v\",\"showlegend\":true,\"type\":\"scatter\",\"x\":[3],\"xaxis\":\"x\",\"y\":[41],\"yaxis\":\"y\"},{\"hovertemplate\":\"<b>%{hovertext}</b><br><br>Team/NOC=Bahamas<br>Total=%{marker.size}<br>Rank=%{y}<extra></extra>\",\"hovertext\":[\"Bahamas\"],\"legendgroup\":\"Bahamas\",\"marker\":{\"color\":\"#EF553B\",\"size\":[2],\"sizemode\":\"area\",\"sizeref\":0.03138888888888889,\"symbol\":\"circle\"},\"mode\":\"markers\",\"name\":\"Bahamas\",\"orientation\":\"v\",\"showlegend\":true,\"type\":\"scatter\",\"x\":[2],\"xaxis\":\"x\",\"y\":[42],\"yaxis\":\"y\"},{\"hovertemplate\":\"<b>%{hovertext}</b><br><br>Team/NOC=Kosovo<br>Total=%{marker.size}<br>Rank=%{y}<extra></extra>\",\"hovertext\":[\"Kosovo\"],\"legendgroup\":\"Kosovo\",\"marker\":{\"color\":\"#00cc96\",\"size\":[2],\"sizemode\":\"area\",\"sizeref\":0.03138888888888889,\"symbol\":\"circle\"},\"mode\":\"markers\",\"name\":\"Kosovo\",\"orientation\":\"v\",\"showlegend\":true,\"type\":\"scatter\",\"x\":[2],\"xaxis\":\"x\",\"y\":[42],\"yaxis\":\"y\"},{\"hovertemplate\":\"<b>%{hovertext}</b><br><br>Team/NOC=Ukraine<br>Total=%{marker.size}<br>Rank=%{y}<extra></extra>\",\"hovertext\":[\"Ukraine\"],\"legendgroup\":\"Ukraine\",\"marker\":{\"color\":\"#ab63fa\",\"size\":[19],\"sizemode\":\"area\",\"sizeref\":0.03138888888888889,\"symbol\":\"circle\"},\"mode\":\"markers\",\"name\":\"Ukraine\",\"orientation\":\"v\",\"showlegend\":true,\"type\":\"scatter\",\"x\":[19],\"xaxis\":\"x\",\"y\":[44],\"yaxis\":\"y\"},{\"hovertemplate\":\"<b>%{hovertext}</b><br><br>Team/NOC=Belarus<br>Total=%{marker.size}<br>Rank=%{y}<extra></extra>\",\"hovertext\":[\"Belarus\"],\"legendgroup\":\"Belarus\",\"marker\":{\"color\":\"#FFA15A\",\"size\":[7],\"sizemode\":\"area\",\"sizeref\":0.03138888888888889,\"symbol\":\"circle\"},\"mode\":\"markers\",\"name\":\"Belarus\",\"orientation\":\"v\",\"showlegend\":true,\"type\":\"scatter\",\"x\":[7],\"xaxis\":\"x\",\"y\":[45],\"yaxis\":\"y\"},{\"hovertemplate\":\"<b>%{hovertext}</b><br><br>Team/NOC=Romania<br>Total=%{marker.size}<br>Rank=%{y}<extra></extra>\",\"hovertext\":[\"Romania\"],\"legendgroup\":\"Romania\",\"marker\":{\"color\":\"#19d3f3\",\"size\":[4],\"sizemode\":\"area\",\"sizeref\":0.03138888888888889,\"symbol\":\"circle\"},\"mode\":\"markers\",\"name\":\"Romania\",\"orientation\":\"v\",\"showlegend\":true,\"type\":\"scatter\",\"x\":[4],\"xaxis\":\"x\",\"y\":[46],\"yaxis\":\"y\"},{\"hovertemplate\":\"<b>%{hovertext}</b><br><br>Team/NOC=Venezuela<br>Total=%{marker.size}<br>Rank=%{y}<extra></extra>\",\"hovertext\":[\"Venezuela\"],\"legendgroup\":\"Venezuela\",\"marker\":{\"color\":\"#FF6692\",\"size\":[4],\"sizemode\":\"area\",\"sizeref\":0.03138888888888889,\"symbol\":\"circle\"},\"mode\":\"markers\",\"name\":\"Venezuela\",\"orientation\":\"v\",\"showlegend\":true,\"type\":\"scatter\",\"x\":[4],\"xaxis\":\"x\",\"y\":[46],\"yaxis\":\"y\"},{\"hovertemplate\":\"<b>%{hovertext}</b><br><br>Team/NOC=India<br>Total=%{marker.size}<br>Rank=%{y}<extra></extra>\",\"hovertext\":[\"India\"],\"legendgroup\":\"India\",\"marker\":{\"color\":\"#B6E880\",\"size\":[7],\"sizemode\":\"area\",\"sizeref\":0.03138888888888889,\"symbol\":\"circle\"},\"mode\":\"markers\",\"name\":\"India\",\"orientation\":\"v\",\"showlegend\":true,\"type\":\"scatter\",\"x\":[7],\"xaxis\":\"x\",\"y\":[48],\"yaxis\":\"y\"},{\"hovertemplate\":\"<b>%{hovertext}</b><br><br>Team/NOC=Hong Kong, China<br>Total=%{marker.size}<br>Rank=%{y}<extra></extra>\",\"hovertext\":[\"Hong Kong, China\"],\"legendgroup\":\"Hong Kong, China\",\"marker\":{\"color\":\"#FF97FF\",\"size\":[6],\"sizemode\":\"area\",\"sizeref\":0.03138888888888889,\"symbol\":\"circle\"},\"mode\":\"markers\",\"name\":\"Hong Kong, China\",\"orientation\":\"v\",\"showlegend\":true,\"type\":\"scatter\",\"x\":[6],\"xaxis\":\"x\",\"y\":[49],\"yaxis\":\"y\"},{\"hovertemplate\":\"<b>%{hovertext}</b><br><br>Team/NOC=Philippines<br>Total=%{marker.size}<br>Rank=%{y}<extra></extra>\",\"hovertext\":[\"Philippines\"],\"legendgroup\":\"Philippines\",\"marker\":{\"color\":\"#FECB52\",\"size\":[4],\"sizemode\":\"area\",\"sizeref\":0.03138888888888889,\"symbol\":\"circle\"},\"mode\":\"markers\",\"name\":\"Philippines\",\"orientation\":\"v\",\"showlegend\":true,\"type\":\"scatter\",\"x\":[4],\"xaxis\":\"x\",\"y\":[50],\"yaxis\":\"y\"},{\"hovertemplate\":\"<b>%{hovertext}</b><br><br>Team/NOC=Slovakia<br>Total=%{marker.size}<br>Rank=%{y}<extra></extra>\",\"hovertext\":[\"Slovakia\"],\"legendgroup\":\"Slovakia\",\"marker\":{\"color\":\"#636efa\",\"size\":[4],\"sizemode\":\"area\",\"sizeref\":0.03138888888888889,\"symbol\":\"circle\"},\"mode\":\"markers\",\"name\":\"Slovakia\",\"orientation\":\"v\",\"showlegend\":true,\"type\":\"scatter\",\"x\":[4],\"xaxis\":\"x\",\"y\":[50],\"yaxis\":\"y\"},{\"hovertemplate\":\"<b>%{hovertext}</b><br><br>Team/NOC=South Africa<br>Total=%{marker.size}<br>Rank=%{y}<extra></extra>\",\"hovertext\":[\"South Africa\"],\"legendgroup\":\"South Africa\",\"marker\":{\"color\":\"#EF553B\",\"size\":[3],\"sizemode\":\"area\",\"sizeref\":0.03138888888888889,\"symbol\":\"circle\"},\"mode\":\"markers\",\"name\":\"South Africa\",\"orientation\":\"v\",\"showlegend\":true,\"type\":\"scatter\",\"x\":[3],\"xaxis\":\"x\",\"y\":[52],\"yaxis\":\"y\"},{\"hovertemplate\":\"<b>%{hovertext}</b><br><br>Team/NOC=Austria<br>Total=%{marker.size}<br>Rank=%{y}<extra></extra>\",\"hovertext\":[\"Austria\"],\"legendgroup\":\"Austria\",\"marker\":{\"color\":\"#00cc96\",\"size\":[7],\"sizemode\":\"area\",\"sizeref\":0.03138888888888889,\"symbol\":\"circle\"},\"mode\":\"markers\",\"name\":\"Austria\",\"orientation\":\"v\",\"showlegend\":true,\"type\":\"scatter\",\"x\":[7],\"xaxis\":\"x\",\"y\":[53],\"yaxis\":\"y\"},{\"hovertemplate\":\"<b>%{hovertext}</b><br><br>Team/NOC=Egypt<br>Total=%{marker.size}<br>Rank=%{y}<extra></extra>\",\"hovertext\":[\"Egypt\"],\"legendgroup\":\"Egypt\",\"marker\":{\"color\":\"#ab63fa\",\"size\":[6],\"sizemode\":\"area\",\"sizeref\":0.03138888888888889,\"symbol\":\"circle\"},\"mode\":\"markers\",\"name\":\"Egypt\",\"orientation\":\"v\",\"showlegend\":true,\"type\":\"scatter\",\"x\":[6],\"xaxis\":\"x\",\"y\":[54],\"yaxis\":\"y\"},{\"hovertemplate\":\"<b>%{hovertext}</b><br><br>Team/NOC=Indonesia<br>Total=%{marker.size}<br>Rank=%{y}<extra></extra>\",\"hovertext\":[\"Indonesia\"],\"legendgroup\":\"Indonesia\",\"marker\":{\"color\":\"#FFA15A\",\"size\":[5],\"sizemode\":\"area\",\"sizeref\":0.03138888888888889,\"symbol\":\"circle\"},\"mode\":\"markers\",\"name\":\"Indonesia\",\"orientation\":\"v\",\"showlegend\":true,\"type\":\"scatter\",\"x\":[5],\"xaxis\":\"x\",\"y\":[55],\"yaxis\":\"y\"},{\"hovertemplate\":\"<b>%{hovertext}</b><br><br>Team/NOC=Ethiopia<br>Total=%{marker.size}<br>Rank=%{y}<extra></extra>\",\"hovertext\":[\"Ethiopia\"],\"legendgroup\":\"Ethiopia\",\"marker\":{\"color\":\"#19d3f3\",\"size\":[4],\"sizemode\":\"area\",\"sizeref\":0.03138888888888889,\"symbol\":\"circle\"},\"mode\":\"markers\",\"name\":\"Ethiopia\",\"orientation\":\"v\",\"showlegend\":true,\"type\":\"scatter\",\"x\":[4],\"xaxis\":\"x\",\"y\":[56],\"yaxis\":\"y\"},{\"hovertemplate\":\"<b>%{hovertext}</b><br><br>Team/NOC=Portugal<br>Total=%{marker.size}<br>Rank=%{y}<extra></extra>\",\"hovertext\":[\"Portugal\"],\"legendgroup\":\"Portugal\",\"marker\":{\"color\":\"#FF6692\",\"size\":[4],\"sizemode\":\"area\",\"sizeref\":0.03138888888888889,\"symbol\":\"circle\"},\"mode\":\"markers\",\"name\":\"Portugal\",\"orientation\":\"v\",\"showlegend\":true,\"type\":\"scatter\",\"x\":[4],\"xaxis\":\"x\",\"y\":[56],\"yaxis\":\"y\"},{\"hovertemplate\":\"<b>%{hovertext}</b><br><br>Team/NOC=Tunisia<br>Total=%{marker.size}<br>Rank=%{y}<extra></extra>\",\"hovertext\":[\"Tunisia\"],\"legendgroup\":\"Tunisia\",\"marker\":{\"color\":\"#B6E880\",\"size\":[2],\"sizemode\":\"area\",\"sizeref\":0.03138888888888889,\"symbol\":\"circle\"},\"mode\":\"markers\",\"name\":\"Tunisia\",\"orientation\":\"v\",\"showlegend\":true,\"type\":\"scatter\",\"x\":[2],\"xaxis\":\"x\",\"y\":[58],\"yaxis\":\"y\"},{\"hovertemplate\":\"<b>%{hovertext}</b><br><br>Team/NOC=Estonia<br>Total=%{marker.size}<br>Rank=%{y}<extra></extra>\",\"hovertext\":[\"Estonia\"],\"legendgroup\":\"Estonia\",\"marker\":{\"color\":\"#FF97FF\",\"size\":[2],\"sizemode\":\"area\",\"sizeref\":0.03138888888888889,\"symbol\":\"circle\"},\"mode\":\"markers\",\"name\":\"Estonia\",\"orientation\":\"v\",\"showlegend\":true,\"type\":\"scatter\",\"x\":[2],\"xaxis\":\"x\",\"y\":[59],\"yaxis\":\"y\"},{\"hovertemplate\":\"<b>%{hovertext}</b><br><br>Team/NOC=Fiji<br>Total=%{marker.size}<br>Rank=%{y}<extra></extra>\",\"hovertext\":[\"Fiji\"],\"legendgroup\":\"Fiji\",\"marker\":{\"color\":\"#FECB52\",\"size\":[2],\"sizemode\":\"area\",\"sizeref\":0.03138888888888889,\"symbol\":\"circle\"},\"mode\":\"markers\",\"name\":\"Fiji\",\"orientation\":\"v\",\"showlegend\":true,\"type\":\"scatter\",\"x\":[2],\"xaxis\":\"x\",\"y\":[59],\"yaxis\":\"y\"},{\"hovertemplate\":\"<b>%{hovertext}</b><br><br>Team/NOC=Latvia<br>Total=%{marker.size}<br>Rank=%{y}<extra></extra>\",\"hovertext\":[\"Latvia\"],\"legendgroup\":\"Latvia\",\"marker\":{\"color\":\"#636efa\",\"size\":[2],\"sizemode\":\"area\",\"sizeref\":0.03138888888888889,\"symbol\":\"circle\"},\"mode\":\"markers\",\"name\":\"Latvia\",\"orientation\":\"v\",\"showlegend\":true,\"type\":\"scatter\",\"x\":[2],\"xaxis\":\"x\",\"y\":[59],\"yaxis\":\"y\"},{\"hovertemplate\":\"<b>%{hovertext}</b><br><br>Team/NOC=Thailand<br>Total=%{marker.size}<br>Rank=%{y}<extra></extra>\",\"hovertext\":[\"Thailand\"],\"legendgroup\":\"Thailand\",\"marker\":{\"color\":\"#EF553B\",\"size\":[2],\"sizemode\":\"area\",\"sizeref\":0.03138888888888889,\"symbol\":\"circle\"},\"mode\":\"markers\",\"name\":\"Thailand\",\"orientation\":\"v\",\"showlegend\":true,\"type\":\"scatter\",\"x\":[2],\"xaxis\":\"x\",\"y\":[59],\"yaxis\":\"y\"},{\"hovertemplate\":\"<b>%{hovertext}</b><br><br>Team/NOC=Bermuda<br>Total=%{marker.size}<br>Rank=%{y}<extra></extra>\",\"hovertext\":[\"Bermuda\"],\"legendgroup\":\"Bermuda\",\"marker\":{\"color\":\"#00cc96\",\"size\":[1],\"sizemode\":\"area\",\"sizeref\":0.03138888888888889,\"symbol\":\"circle\"},\"mode\":\"markers\",\"name\":\"Bermuda\",\"orientation\":\"v\",\"showlegend\":true,\"type\":\"scatter\",\"x\":[1],\"xaxis\":\"x\",\"y\":[63],\"yaxis\":\"y\"},{\"hovertemplate\":\"<b>%{hovertext}</b><br><br>Team/NOC=Morocco<br>Total=%{marker.size}<br>Rank=%{y}<extra></extra>\",\"hovertext\":[\"Morocco\"],\"legendgroup\":\"Morocco\",\"marker\":{\"color\":\"#ab63fa\",\"size\":[1],\"sizemode\":\"area\",\"sizeref\":0.03138888888888889,\"symbol\":\"circle\"},\"mode\":\"markers\",\"name\":\"Morocco\",\"orientation\":\"v\",\"showlegend\":true,\"type\":\"scatter\",\"x\":[1],\"xaxis\":\"x\",\"y\":[63],\"yaxis\":\"y\"},{\"hovertemplate\":\"<b>%{hovertext}</b><br><br>Team/NOC=Puerto Rico<br>Total=%{marker.size}<br>Rank=%{y}<extra></extra>\",\"hovertext\":[\"Puerto Rico\"],\"legendgroup\":\"Puerto Rico\",\"marker\":{\"color\":\"#FFA15A\",\"size\":[1],\"sizemode\":\"area\",\"sizeref\":0.03138888888888889,\"symbol\":\"circle\"},\"mode\":\"markers\",\"name\":\"Puerto Rico\",\"orientation\":\"v\",\"showlegend\":true,\"type\":\"scatter\",\"x\":[1],\"xaxis\":\"x\",\"y\":[63],\"yaxis\":\"y\"},{\"hovertemplate\":\"<b>%{hovertext}</b><br><br>Team/NOC=Colombia<br>Total=%{marker.size}<br>Rank=%{y}<extra></extra>\",\"hovertext\":[\"Colombia\"],\"legendgroup\":\"Colombia\",\"marker\":{\"color\":\"#19d3f3\",\"size\":[5],\"sizemode\":\"area\",\"sizeref\":0.03138888888888889,\"symbol\":\"circle\"},\"mode\":\"markers\",\"name\":\"Colombia\",\"orientation\":\"v\",\"showlegend\":true,\"type\":\"scatter\",\"x\":[5],\"xaxis\":\"x\",\"y\":[66],\"yaxis\":\"y\"},{\"hovertemplate\":\"<b>%{hovertext}</b><br><br>Team/NOC=Azerbaijan<br>Total=%{marker.size}<br>Rank=%{y}<extra></extra>\",\"hovertext\":[\"Azerbaijan\"],\"legendgroup\":\"Azerbaijan\",\"marker\":{\"color\":\"#FF6692\",\"size\":[7],\"sizemode\":\"area\",\"sizeref\":0.03138888888888889,\"symbol\":\"circle\"},\"mode\":\"markers\",\"name\":\"Azerbaijan\",\"orientation\":\"v\",\"showlegend\":true,\"type\":\"scatter\",\"x\":[7],\"xaxis\":\"x\",\"y\":[67],\"yaxis\":\"y\"},{\"hovertemplate\":\"<b>%{hovertext}</b><br><br>Team/NOC=Dominican Republic<br>Total=%{marker.size}<br>Rank=%{y}<extra></extra>\",\"hovertext\":[\"Dominican Republic\"],\"legendgroup\":\"Dominican Republic\",\"marker\":{\"color\":\"#B6E880\",\"size\":[5],\"sizemode\":\"area\",\"sizeref\":0.03138888888888889,\"symbol\":\"circle\"},\"mode\":\"markers\",\"name\":\"Dominican Republic\",\"orientation\":\"v\",\"showlegend\":true,\"type\":\"scatter\",\"x\":[5],\"xaxis\":\"x\",\"y\":[68],\"yaxis\":\"y\"},{\"hovertemplate\":\"<b>%{hovertext}</b><br><br>Team/NOC=Armenia<br>Total=%{marker.size}<br>Rank=%{y}<extra></extra>\",\"hovertext\":[\"Armenia\"],\"legendgroup\":\"Armenia\",\"marker\":{\"color\":\"#FF97FF\",\"size\":[4],\"sizemode\":\"area\",\"sizeref\":0.03138888888888889,\"symbol\":\"circle\"},\"mode\":\"markers\",\"name\":\"Armenia\",\"orientation\":\"v\",\"showlegend\":true,\"type\":\"scatter\",\"x\":[4],\"xaxis\":\"x\",\"y\":[69],\"yaxis\":\"y\"},{\"hovertemplate\":\"<b>%{hovertext}</b><br><br>Team/NOC=Kyrgyzstan<br>Total=%{marker.size}<br>Rank=%{y}<extra></extra>\",\"hovertext\":[\"Kyrgyzstan\"],\"legendgroup\":\"Kyrgyzstan\",\"marker\":{\"color\":\"#FECB52\",\"size\":[3],\"sizemode\":\"area\",\"sizeref\":0.03138888888888889,\"symbol\":\"circle\"},\"mode\":\"markers\",\"name\":\"Kyrgyzstan\",\"orientation\":\"v\",\"showlegend\":true,\"type\":\"scatter\",\"x\":[3],\"xaxis\":\"x\",\"y\":[70],\"yaxis\":\"y\"},{\"hovertemplate\":\"<b>%{hovertext}</b><br><br>Team/NOC=Mongolia<br>Total=%{marker.size}<br>Rank=%{y}<extra></extra>\",\"hovertext\":[\"Mongolia\"],\"legendgroup\":\"Mongolia\",\"marker\":{\"color\":\"#636efa\",\"size\":[4],\"sizemode\":\"area\",\"sizeref\":0.03138888888888889,\"symbol\":\"circle\"},\"mode\":\"markers\",\"name\":\"Mongolia\",\"orientation\":\"v\",\"showlegend\":true,\"type\":\"scatter\",\"x\":[4],\"xaxis\":\"x\",\"y\":[71],\"yaxis\":\"y\"},{\"hovertemplate\":\"<b>%{hovertext}</b><br><br>Team/NOC=Argentina<br>Total=%{marker.size}<br>Rank=%{y}<extra></extra>\",\"hovertext\":[\"Argentina\"],\"legendgroup\":\"Argentina\",\"marker\":{\"color\":\"#EF553B\",\"size\":[3],\"sizemode\":\"area\",\"sizeref\":0.03138888888888889,\"symbol\":\"circle\"},\"mode\":\"markers\",\"name\":\"Argentina\",\"orientation\":\"v\",\"showlegend\":true,\"type\":\"scatter\",\"x\":[3],\"xaxis\":\"x\",\"y\":[72],\"yaxis\":\"y\"},{\"hovertemplate\":\"<b>%{hovertext}</b><br><br>Team/NOC=San Marino<br>Total=%{marker.size}<br>Rank=%{y}<extra></extra>\",\"hovertext\":[\"San Marino\"],\"legendgroup\":\"San Marino\",\"marker\":{\"color\":\"#00cc96\",\"size\":[3],\"sizemode\":\"area\",\"sizeref\":0.03138888888888889,\"symbol\":\"circle\"},\"mode\":\"markers\",\"name\":\"San Marino\",\"orientation\":\"v\",\"showlegend\":true,\"type\":\"scatter\",\"x\":[3],\"xaxis\":\"x\",\"y\":[72],\"yaxis\":\"y\"},{\"hovertemplate\":\"<b>%{hovertext}</b><br><br>Team/NOC=Jordan<br>Total=%{marker.size}<br>Rank=%{y}<extra></extra>\",\"hovertext\":[\"Jordan\"],\"legendgroup\":\"Jordan\",\"marker\":{\"color\":\"#ab63fa\",\"size\":[2],\"sizemode\":\"area\",\"sizeref\":0.03138888888888889,\"symbol\":\"circle\"},\"mode\":\"markers\",\"name\":\"Jordan\",\"orientation\":\"v\",\"showlegend\":true,\"type\":\"scatter\",\"x\":[2],\"xaxis\":\"x\",\"y\":[74],\"yaxis\":\"y\"},{\"hovertemplate\":\"<b>%{hovertext}</b><br><br>Team/NOC=Malaysia<br>Total=%{marker.size}<br>Rank=%{y}<extra></extra>\",\"hovertext\":[\"Malaysia\"],\"legendgroup\":\"Malaysia\",\"marker\":{\"color\":\"#FFA15A\",\"size\":[2],\"sizemode\":\"area\",\"sizeref\":0.03138888888888889,\"symbol\":\"circle\"},\"mode\":\"markers\",\"name\":\"Malaysia\",\"orientation\":\"v\",\"showlegend\":true,\"type\":\"scatter\",\"x\":[2],\"xaxis\":\"x\",\"y\":[74],\"yaxis\":\"y\"},{\"hovertemplate\":\"<b>%{hovertext}</b><br><br>Team/NOC=Nigeria<br>Total=%{marker.size}<br>Rank=%{y}<extra></extra>\",\"hovertext\":[\"Nigeria\"],\"legendgroup\":\"Nigeria\",\"marker\":{\"color\":\"#19d3f3\",\"size\":[2],\"sizemode\":\"area\",\"sizeref\":0.03138888888888889,\"symbol\":\"circle\"},\"mode\":\"markers\",\"name\":\"Nigeria\",\"orientation\":\"v\",\"showlegend\":true,\"type\":\"scatter\",\"x\":[2],\"xaxis\":\"x\",\"y\":[74],\"yaxis\":\"y\"},{\"hovertemplate\":\"<b>%{hovertext}</b><br><br>Team/NOC=Bahrain<br>Total=%{marker.size}<br>Rank=%{y}<extra></extra>\",\"hovertext\":[\"Bahrain\"],\"legendgroup\":\"Bahrain\",\"marker\":{\"color\":\"#FF6692\",\"size\":[1],\"sizemode\":\"area\",\"sizeref\":0.03138888888888889,\"symbol\":\"circle\"},\"mode\":\"markers\",\"name\":\"Bahrain\",\"orientation\":\"v\",\"showlegend\":true,\"type\":\"scatter\",\"x\":[1],\"xaxis\":\"x\",\"y\":[77],\"yaxis\":\"y\"},{\"hovertemplate\":\"<b>%{hovertext}</b><br><br>Team/NOC=Saudi Arabia<br>Total=%{marker.size}<br>Rank=%{y}<extra></extra>\",\"hovertext\":[\"Saudi Arabia\"],\"legendgroup\":\"Saudi Arabia\",\"marker\":{\"color\":\"#B6E880\",\"size\":[1],\"sizemode\":\"area\",\"sizeref\":0.03138888888888889,\"symbol\":\"circle\"},\"mode\":\"markers\",\"name\":\"Saudi Arabia\",\"orientation\":\"v\",\"showlegend\":true,\"type\":\"scatter\",\"x\":[1],\"xaxis\":\"x\",\"y\":[77],\"yaxis\":\"y\"},{\"hovertemplate\":\"<b>%{hovertext}</b><br><br>Team/NOC=Lithuania<br>Total=%{marker.size}<br>Rank=%{y}<extra></extra>\",\"hovertext\":[\"Lithuania\"],\"legendgroup\":\"Lithuania\",\"marker\":{\"color\":\"#FF97FF\",\"size\":[1],\"sizemode\":\"area\",\"sizeref\":0.03138888888888889,\"symbol\":\"circle\"},\"mode\":\"markers\",\"name\":\"Lithuania\",\"orientation\":\"v\",\"showlegend\":true,\"type\":\"scatter\",\"x\":[1],\"xaxis\":\"x\",\"y\":[77],\"yaxis\":\"y\"},{\"hovertemplate\":\"<b>%{hovertext}</b><br><br>Team/NOC=North Macedonia<br>Total=%{marker.size}<br>Rank=%{y}<extra></extra>\",\"hovertext\":[\"North Macedonia\"],\"legendgroup\":\"North Macedonia\",\"marker\":{\"color\":\"#FECB52\",\"size\":[1],\"sizemode\":\"area\",\"sizeref\":0.03138888888888889,\"symbol\":\"circle\"},\"mode\":\"markers\",\"name\":\"North Macedonia\",\"orientation\":\"v\",\"showlegend\":true,\"type\":\"scatter\",\"x\":[1],\"xaxis\":\"x\",\"y\":[77],\"yaxis\":\"y\"},{\"hovertemplate\":\"<b>%{hovertext}</b><br><br>Team/NOC=Namibia<br>Total=%{marker.size}<br>Rank=%{y}<extra></extra>\",\"hovertext\":[\"Namibia\"],\"legendgroup\":\"Namibia\",\"marker\":{\"color\":\"#636efa\",\"size\":[1],\"sizemode\":\"area\",\"sizeref\":0.03138888888888889,\"symbol\":\"circle\"},\"mode\":\"markers\",\"name\":\"Namibia\",\"orientation\":\"v\",\"showlegend\":true,\"type\":\"scatter\",\"x\":[1],\"xaxis\":\"x\",\"y\":[77],\"yaxis\":\"y\"},{\"hovertemplate\":\"<b>%{hovertext}</b><br><br>Team/NOC=Turkmenistan<br>Total=%{marker.size}<br>Rank=%{y}<extra></extra>\",\"hovertext\":[\"Turkmenistan\"],\"legendgroup\":\"Turkmenistan\",\"marker\":{\"color\":\"#EF553B\",\"size\":[1],\"sizemode\":\"area\",\"sizeref\":0.03138888888888889,\"symbol\":\"circle\"},\"mode\":\"markers\",\"name\":\"Turkmenistan\",\"orientation\":\"v\",\"showlegend\":true,\"type\":\"scatter\",\"x\":[1],\"xaxis\":\"x\",\"y\":[77],\"yaxis\":\"y\"},{\"hovertemplate\":\"<b>%{hovertext}</b><br><br>Team/NOC=Kazakhstan<br>Total=%{marker.size}<br>Rank=%{y}<extra></extra>\",\"hovertext\":[\"Kazakhstan\"],\"legendgroup\":\"Kazakhstan\",\"marker\":{\"color\":\"#00cc96\",\"size\":[8],\"sizemode\":\"area\",\"sizeref\":0.03138888888888889,\"symbol\":\"circle\"},\"mode\":\"markers\",\"name\":\"Kazakhstan\",\"orientation\":\"v\",\"showlegend\":true,\"type\":\"scatter\",\"x\":[8],\"xaxis\":\"x\",\"y\":[83],\"yaxis\":\"y\"},{\"hovertemplate\":\"<b>%{hovertext}</b><br><br>Team/NOC=Mexico<br>Total=%{marker.size}<br>Rank=%{y}<extra></extra>\",\"hovertext\":[\"Mexico\"],\"legendgroup\":\"Mexico\",\"marker\":{\"color\":\"#ab63fa\",\"size\":[4],\"sizemode\":\"area\",\"sizeref\":0.03138888888888889,\"symbol\":\"circle\"},\"mode\":\"markers\",\"name\":\"Mexico\",\"orientation\":\"v\",\"showlegend\":true,\"type\":\"scatter\",\"x\":[4],\"xaxis\":\"x\",\"y\":[84],\"yaxis\":\"y\"},{\"hovertemplate\":\"<b>%{hovertext}</b><br><br>Team/NOC=Finland<br>Total=%{marker.size}<br>Rank=%{y}<extra></extra>\",\"hovertext\":[\"Finland\"],\"legendgroup\":\"Finland\",\"marker\":{\"color\":\"#FFA15A\",\"size\":[2],\"sizemode\":\"area\",\"sizeref\":0.03138888888888889,\"symbol\":\"circle\"},\"mode\":\"markers\",\"name\":\"Finland\",\"orientation\":\"v\",\"showlegend\":true,\"type\":\"scatter\",\"x\":[2],\"xaxis\":\"x\",\"y\":[85],\"yaxis\":\"y\"},{\"hovertemplate\":\"<b>%{hovertext}</b><br><br>Team/NOC=Botswana<br>Total=%{marker.size}<br>Rank=%{y}<extra></extra>\",\"hovertext\":[\"Botswana\"],\"legendgroup\":\"Botswana\",\"marker\":{\"color\":\"#19d3f3\",\"size\":[1],\"sizemode\":\"area\",\"sizeref\":0.03138888888888889,\"symbol\":\"circle\"},\"mode\":\"markers\",\"name\":\"Botswana\",\"orientation\":\"v\",\"showlegend\":true,\"type\":\"scatter\",\"x\":[1],\"xaxis\":\"x\",\"y\":[86],\"yaxis\":\"y\"},{\"hovertemplate\":\"<b>%{hovertext}</b><br><br>Team/NOC=Burkina Faso<br>Total=%{marker.size}<br>Rank=%{y}<extra></extra>\",\"hovertext\":[\"Burkina Faso\"],\"legendgroup\":\"Burkina Faso\",\"marker\":{\"color\":\"#FF6692\",\"size\":[1],\"sizemode\":\"area\",\"sizeref\":0.03138888888888889,\"symbol\":\"circle\"},\"mode\":\"markers\",\"name\":\"Burkina Faso\",\"orientation\":\"v\",\"showlegend\":true,\"type\":\"scatter\",\"x\":[1],\"xaxis\":\"x\",\"y\":[86],\"yaxis\":\"y\"},{\"hovertemplate\":\"<b>%{hovertext}</b><br><br>Team/NOC=C\\u00f4te d'Ivoire<br>Total=%{marker.size}<br>Rank=%{y}<extra></extra>\",\"hovertext\":[\"C\\u00f4te d'Ivoire\"],\"legendgroup\":\"C\\u00f4te d'Ivoire\",\"marker\":{\"color\":\"#B6E880\",\"size\":[1],\"sizemode\":\"area\",\"sizeref\":0.03138888888888889,\"symbol\":\"circle\"},\"mode\":\"markers\",\"name\":\"C\\u00f4te d'Ivoire\",\"orientation\":\"v\",\"showlegend\":true,\"type\":\"scatter\",\"x\":[1],\"xaxis\":\"x\",\"y\":[86],\"yaxis\":\"y\"},{\"hovertemplate\":\"<b>%{hovertext}</b><br><br>Team/NOC=Ghana<br>Total=%{marker.size}<br>Rank=%{y}<extra></extra>\",\"hovertext\":[\"Ghana\"],\"legendgroup\":\"Ghana\",\"marker\":{\"color\":\"#FF97FF\",\"size\":[1],\"sizemode\":\"area\",\"sizeref\":0.03138888888888889,\"symbol\":\"circle\"},\"mode\":\"markers\",\"name\":\"Ghana\",\"orientation\":\"v\",\"showlegend\":true,\"type\":\"scatter\",\"x\":[1],\"xaxis\":\"x\",\"y\":[86],\"yaxis\":\"y\"},{\"hovertemplate\":\"<b>%{hovertext}</b><br><br>Team/NOC=Grenada<br>Total=%{marker.size}<br>Rank=%{y}<extra></extra>\",\"hovertext\":[\"Grenada\"],\"legendgroup\":\"Grenada\",\"marker\":{\"color\":\"#FECB52\",\"size\":[1],\"sizemode\":\"area\",\"sizeref\":0.03138888888888889,\"symbol\":\"circle\"},\"mode\":\"markers\",\"name\":\"Grenada\",\"orientation\":\"v\",\"showlegend\":true,\"type\":\"scatter\",\"x\":[1],\"xaxis\":\"x\",\"y\":[86],\"yaxis\":\"y\"},{\"hovertemplate\":\"<b>%{hovertext}</b><br><br>Team/NOC=Kuwait<br>Total=%{marker.size}<br>Rank=%{y}<extra></extra>\",\"hovertext\":[\"Kuwait\"],\"legendgroup\":\"Kuwait\",\"marker\":{\"color\":\"#636efa\",\"size\":[1],\"sizemode\":\"area\",\"sizeref\":0.03138888888888889,\"symbol\":\"circle\"},\"mode\":\"markers\",\"name\":\"Kuwait\",\"orientation\":\"v\",\"showlegend\":true,\"type\":\"scatter\",\"x\":[1],\"xaxis\":\"x\",\"y\":[86],\"yaxis\":\"y\"},{\"hovertemplate\":\"<b>%{hovertext}</b><br><br>Team/NOC=Republic of Moldova<br>Total=%{marker.size}<br>Rank=%{y}<extra></extra>\",\"hovertext\":[\"Republic of Moldova\"],\"legendgroup\":\"Republic of Moldova\",\"marker\":{\"color\":\"#EF553B\",\"size\":[1],\"sizemode\":\"area\",\"sizeref\":0.03138888888888889,\"symbol\":\"circle\"},\"mode\":\"markers\",\"name\":\"Republic of Moldova\",\"orientation\":\"v\",\"showlegend\":true,\"type\":\"scatter\",\"x\":[1],\"xaxis\":\"x\",\"y\":[86],\"yaxis\":\"y\"},{\"hovertemplate\":\"<b>%{hovertext}</b><br><br>Team/NOC=Syrian Arab Republic<br>Total=%{marker.size}<br>Rank=%{y}<extra></extra>\",\"hovertext\":[\"Syrian Arab Republic\"],\"legendgroup\":\"Syrian Arab Republic\",\"marker\":{\"color\":\"#00cc96\",\"size\":[1],\"sizemode\":\"area\",\"sizeref\":0.03138888888888889,\"symbol\":\"circle\"},\"mode\":\"markers\",\"name\":\"Syrian Arab Republic\",\"orientation\":\"v\",\"showlegend\":true,\"type\":\"scatter\",\"x\":[1],\"xaxis\":\"x\",\"y\":[86],\"yaxis\":\"y\"}],                        {\"legend\":{\"itemsizing\":\"constant\",\"title\":{\"text\":\"Team/NOC\"},\"tracegroupgap\":0},\"margin\":{\"t\":60},\"template\":{\"data\":{\"bar\":[{\"error_x\":{\"color\":\"#2a3f5f\"},\"error_y\":{\"color\":\"#2a3f5f\"},\"marker\":{\"line\":{\"color\":\"#E5ECF6\",\"width\":0.5},\"pattern\":{\"fillmode\":\"overlay\",\"size\":10,\"solidity\":0.2}},\"type\":\"bar\"}],\"barpolar\":[{\"marker\":{\"line\":{\"color\":\"#E5ECF6\",\"width\":0.5},\"pattern\":{\"fillmode\":\"overlay\",\"size\":10,\"solidity\":0.2}},\"type\":\"barpolar\"}],\"carpet\":[{\"aaxis\":{\"endlinecolor\":\"#2a3f5f\",\"gridcolor\":\"white\",\"linecolor\":\"white\",\"minorgridcolor\":\"white\",\"startlinecolor\":\"#2a3f5f\"},\"baxis\":{\"endlinecolor\":\"#2a3f5f\",\"gridcolor\":\"white\",\"linecolor\":\"white\",\"minorgridcolor\":\"white\",\"startlinecolor\":\"#2a3f5f\"},\"type\":\"carpet\"}],\"choropleth\":[{\"colorbar\":{\"outlinewidth\":0,\"ticks\":\"\"},\"type\":\"choropleth\"}],\"contour\":[{\"colorbar\":{\"outlinewidth\":0,\"ticks\":\"\"},\"colorscale\":[[0.0,\"#0d0887\"],[0.1111111111111111,\"#46039f\"],[0.2222222222222222,\"#7201a8\"],[0.3333333333333333,\"#9c179e\"],[0.4444444444444444,\"#bd3786\"],[0.5555555555555556,\"#d8576b\"],[0.6666666666666666,\"#ed7953\"],[0.7777777777777778,\"#fb9f3a\"],[0.8888888888888888,\"#fdca26\"],[1.0,\"#f0f921\"]],\"type\":\"contour\"}],\"contourcarpet\":[{\"colorbar\":{\"outlinewidth\":0,\"ticks\":\"\"},\"type\":\"contourcarpet\"}],\"heatmap\":[{\"colorbar\":{\"outlinewidth\":0,\"ticks\":\"\"},\"colorscale\":[[0.0,\"#0d0887\"],[0.1111111111111111,\"#46039f\"],[0.2222222222222222,\"#7201a8\"],[0.3333333333333333,\"#9c179e\"],[0.4444444444444444,\"#bd3786\"],[0.5555555555555556,\"#d8576b\"],[0.6666666666666666,\"#ed7953\"],[0.7777777777777778,\"#fb9f3a\"],[0.8888888888888888,\"#fdca26\"],[1.0,\"#f0f921\"]],\"type\":\"heatmap\"}],\"heatmapgl\":[{\"colorbar\":{\"outlinewidth\":0,\"ticks\":\"\"},\"colorscale\":[[0.0,\"#0d0887\"],[0.1111111111111111,\"#46039f\"],[0.2222222222222222,\"#7201a8\"],[0.3333333333333333,\"#9c179e\"],[0.4444444444444444,\"#bd3786\"],[0.5555555555555556,\"#d8576b\"],[0.6666666666666666,\"#ed7953\"],[0.7777777777777778,\"#fb9f3a\"],[0.8888888888888888,\"#fdca26\"],[1.0,\"#f0f921\"]],\"type\":\"heatmapgl\"}],\"histogram\":[{\"marker\":{\"pattern\":{\"fillmode\":\"overlay\",\"size\":10,\"solidity\":0.2}},\"type\":\"histogram\"}],\"histogram2d\":[{\"colorbar\":{\"outlinewidth\":0,\"ticks\":\"\"},\"colorscale\":[[0.0,\"#0d0887\"],[0.1111111111111111,\"#46039f\"],[0.2222222222222222,\"#7201a8\"],[0.3333333333333333,\"#9c179e\"],[0.4444444444444444,\"#bd3786\"],[0.5555555555555556,\"#d8576b\"],[0.6666666666666666,\"#ed7953\"],[0.7777777777777778,\"#fb9f3a\"],[0.8888888888888888,\"#fdca26\"],[1.0,\"#f0f921\"]],\"type\":\"histogram2d\"}],\"histogram2dcontour\":[{\"colorbar\":{\"outlinewidth\":0,\"ticks\":\"\"},\"colorscale\":[[0.0,\"#0d0887\"],[0.1111111111111111,\"#46039f\"],[0.2222222222222222,\"#7201a8\"],[0.3333333333333333,\"#9c179e\"],[0.4444444444444444,\"#bd3786\"],[0.5555555555555556,\"#d8576b\"],[0.6666666666666666,\"#ed7953\"],[0.7777777777777778,\"#fb9f3a\"],[0.8888888888888888,\"#fdca26\"],[1.0,\"#f0f921\"]],\"type\":\"histogram2dcontour\"}],\"mesh3d\":[{\"colorbar\":{\"outlinewidth\":0,\"ticks\":\"\"},\"type\":\"mesh3d\"}],\"parcoords\":[{\"line\":{\"colorbar\":{\"outlinewidth\":0,\"ticks\":\"\"}},\"type\":\"parcoords\"}],\"pie\":[{\"automargin\":true,\"type\":\"pie\"}],\"scatter\":[{\"marker\":{\"colorbar\":{\"outlinewidth\":0,\"ticks\":\"\"}},\"type\":\"scatter\"}],\"scatter3d\":[{\"line\":{\"colorbar\":{\"outlinewidth\":0,\"ticks\":\"\"}},\"marker\":{\"colorbar\":{\"outlinewidth\":0,\"ticks\":\"\"}},\"type\":\"scatter3d\"}],\"scattercarpet\":[{\"marker\":{\"colorbar\":{\"outlinewidth\":0,\"ticks\":\"\"}},\"type\":\"scattercarpet\"}],\"scattergeo\":[{\"marker\":{\"colorbar\":{\"outlinewidth\":0,\"ticks\":\"\"}},\"type\":\"scattergeo\"}],\"scattergl\":[{\"marker\":{\"colorbar\":{\"outlinewidth\":0,\"ticks\":\"\"}},\"type\":\"scattergl\"}],\"scattermapbox\":[{\"marker\":{\"colorbar\":{\"outlinewidth\":0,\"ticks\":\"\"}},\"type\":\"scattermapbox\"}],\"scatterpolar\":[{\"marker\":{\"colorbar\":{\"outlinewidth\":0,\"ticks\":\"\"}},\"type\":\"scatterpolar\"}],\"scatterpolargl\":[{\"marker\":{\"colorbar\":{\"outlinewidth\":0,\"ticks\":\"\"}},\"type\":\"scatterpolargl\"}],\"scatterternary\":[{\"marker\":{\"colorbar\":{\"outlinewidth\":0,\"ticks\":\"\"}},\"type\":\"scatterternary\"}],\"surface\":[{\"colorbar\":{\"outlinewidth\":0,\"ticks\":\"\"},\"colorscale\":[[0.0,\"#0d0887\"],[0.1111111111111111,\"#46039f\"],[0.2222222222222222,\"#7201a8\"],[0.3333333333333333,\"#9c179e\"],[0.4444444444444444,\"#bd3786\"],[0.5555555555555556,\"#d8576b\"],[0.6666666666666666,\"#ed7953\"],[0.7777777777777778,\"#fb9f3a\"],[0.8888888888888888,\"#fdca26\"],[1.0,\"#f0f921\"]],\"type\":\"surface\"}],\"table\":[{\"cells\":{\"fill\":{\"color\":\"#EBF0F8\"},\"line\":{\"color\":\"white\"}},\"header\":{\"fill\":{\"color\":\"#C8D4E3\"},\"line\":{\"color\":\"white\"}},\"type\":\"table\"}]},\"layout\":{\"annotationdefaults\":{\"arrowcolor\":\"#2a3f5f\",\"arrowhead\":0,\"arrowwidth\":1},\"autotypenumbers\":\"strict\",\"coloraxis\":{\"colorbar\":{\"outlinewidth\":0,\"ticks\":\"\"}},\"colorscale\":{\"diverging\":[[0,\"#8e0152\"],[0.1,\"#c51b7d\"],[0.2,\"#de77ae\"],[0.3,\"#f1b6da\"],[0.4,\"#fde0ef\"],[0.5,\"#f7f7f7\"],[0.6,\"#e6f5d0\"],[0.7,\"#b8e186\"],[0.8,\"#7fbc41\"],[0.9,\"#4d9221\"],[1,\"#276419\"]],\"sequential\":[[0.0,\"#0d0887\"],[0.1111111111111111,\"#46039f\"],[0.2222222222222222,\"#7201a8\"],[0.3333333333333333,\"#9c179e\"],[0.4444444444444444,\"#bd3786\"],[0.5555555555555556,\"#d8576b\"],[0.6666666666666666,\"#ed7953\"],[0.7777777777777778,\"#fb9f3a\"],[0.8888888888888888,\"#fdca26\"],[1.0,\"#f0f921\"]],\"sequentialminus\":[[0.0,\"#0d0887\"],[0.1111111111111111,\"#46039f\"],[0.2222222222222222,\"#7201a8\"],[0.3333333333333333,\"#9c179e\"],[0.4444444444444444,\"#bd3786\"],[0.5555555555555556,\"#d8576b\"],[0.6666666666666666,\"#ed7953\"],[0.7777777777777778,\"#fb9f3a\"],[0.8888888888888888,\"#fdca26\"],[1.0,\"#f0f921\"]]},\"colorway\":[\"#636efa\",\"#EF553B\",\"#00cc96\",\"#ab63fa\",\"#FFA15A\",\"#19d3f3\",\"#FF6692\",\"#B6E880\",\"#FF97FF\",\"#FECB52\"],\"font\":{\"color\":\"#2a3f5f\"},\"geo\":{\"bgcolor\":\"white\",\"lakecolor\":\"white\",\"landcolor\":\"#E5ECF6\",\"showlakes\":true,\"showland\":true,\"subunitcolor\":\"white\"},\"hoverlabel\":{\"align\":\"left\"},\"hovermode\":\"closest\",\"mapbox\":{\"style\":\"light\"},\"paper_bgcolor\":\"white\",\"plot_bgcolor\":\"#E5ECF6\",\"polar\":{\"angularaxis\":{\"gridcolor\":\"white\",\"linecolor\":\"white\",\"ticks\":\"\"},\"bgcolor\":\"#E5ECF6\",\"radialaxis\":{\"gridcolor\":\"white\",\"linecolor\":\"white\",\"ticks\":\"\"}},\"scene\":{\"xaxis\":{\"backgroundcolor\":\"#E5ECF6\",\"gridcolor\":\"white\",\"gridwidth\":2,\"linecolor\":\"white\",\"showbackground\":true,\"ticks\":\"\",\"zerolinecolor\":\"white\"},\"yaxis\":{\"backgroundcolor\":\"#E5ECF6\",\"gridcolor\":\"white\",\"gridwidth\":2,\"linecolor\":\"white\",\"showbackground\":true,\"ticks\":\"\",\"zerolinecolor\":\"white\"},\"zaxis\":{\"backgroundcolor\":\"#E5ECF6\",\"gridcolor\":\"white\",\"gridwidth\":2,\"linecolor\":\"white\",\"showbackground\":true,\"ticks\":\"\",\"zerolinecolor\":\"white\"}},\"shapedefaults\":{\"line\":{\"color\":\"#2a3f5f\"}},\"ternary\":{\"aaxis\":{\"gridcolor\":\"white\",\"linecolor\":\"white\",\"ticks\":\"\"},\"baxis\":{\"gridcolor\":\"white\",\"linecolor\":\"white\",\"ticks\":\"\"},\"bgcolor\":\"#E5ECF6\",\"caxis\":{\"gridcolor\":\"white\",\"linecolor\":\"white\",\"ticks\":\"\"}},\"title\":{\"x\":0.05},\"xaxis\":{\"automargin\":true,\"gridcolor\":\"white\",\"linecolor\":\"white\",\"ticks\":\"\",\"title\":{\"standoff\":15},\"zerolinecolor\":\"white\",\"zerolinewidth\":2},\"yaxis\":{\"automargin\":true,\"gridcolor\":\"white\",\"linecolor\":\"white\",\"ticks\":\"\",\"title\":{\"standoff\":15},\"zerolinecolor\":\"white\",\"zerolinewidth\":2}}},\"xaxis\":{\"anchor\":\"y\",\"domain\":[0.0,1.0],\"title\":{\"text\":\"Total\"},\"type\":\"log\"},\"yaxis\":{\"anchor\":\"x\",\"domain\":[0.0,1.0],\"title\":{\"text\":\"Rank\"}}},                        {\"responsive\": true}                    ).then(function(){\n",
       "                            \n",
       "var gd = document.getElementById('abda9179-ed96-4811-99d2-1bc015a5f043');\n",
       "var x = new MutationObserver(function (mutations, observer) {{\n",
       "        var display = window.getComputedStyle(gd).display;\n",
       "        if (!display || display === 'none') {{\n",
       "            console.log([gd, 'removed!']);\n",
       "            Plotly.purge(gd);\n",
       "            observer.disconnect();\n",
       "        }}\n",
       "}});\n",
       "\n",
       "// Listen for the removal of the full notebook cells\n",
       "var notebookContainer = gd.closest('#notebook-container');\n",
       "if (notebookContainer) {{\n",
       "    x.observe(notebookContainer, {childList: true});\n",
       "}}\n",
       "\n",
       "// Listen for the clearing of the current output cell\n",
       "var outputEl = gd.closest('.output');\n",
       "if (outputEl) {{\n",
       "    x.observe(outputEl, {childList: true});\n",
       "}}\n",
       "\n",
       "                        })                };                });            </script>        </div>"
      ]
     },
     "metadata": {},
     "output_type": "display_data"
    }
   ],
   "source": [
    "px.scatter(df_medals, x=\"Total\", y=\"Rank\",size=\"Total\", color=\"Team/NOC\",hover_name=\"Team/NOC\", log_x=True, size_max=60)"
   ]
  },
  {
   "cell_type": "markdown",
   "id": "b464311f",
   "metadata": {
    "papermill": {
     "duration": 0.041013,
     "end_time": "2023-07-29T06:46:37.226823",
     "exception": false,
     "start_time": "2023-07-29T06:46:37.185810",
     "status": "completed"
    },
    "tags": []
   },
   "source": [
    "# Note :\n",
    "\n",
    "* This plot shows **Rank vs Total** medal won by each country. \n",
    "\n",
    "* **USA** has biggest circle size and has rank one with **maximum Total** score."
   ]
  }
 ],
 "metadata": {
  "kernelspec": {
   "display_name": "Python 3",
   "language": "python",
   "name": "python3"
  },
  "language_info": {
   "codemirror_mode": {
    "name": "ipython",
    "version": 3
   },
   "file_extension": ".py",
   "mimetype": "text/x-python",
   "name": "python",
   "nbconvert_exporter": "python",
   "pygments_lexer": "ipython3",
   "version": "3.7.10"
  },
  "papermill": {
   "default_parameters": {},
   "duration": 30.747312,
   "end_time": "2023-07-29T06:46:38.181031",
   "environment_variables": {},
   "exception": null,
   "input_path": "__notebook__.ipynb",
   "output_path": "__notebook__.ipynb",
   "parameters": {},
   "start_time": "2023-07-29T06:46:07.433719",
   "version": "2.3.3"
  }
 },
 "nbformat": 4,
 "nbformat_minor": 5
}
